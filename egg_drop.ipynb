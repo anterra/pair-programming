{
 "metadata": {
  "language_info": {
   "codemirror_mode": {
    "name": "ipython",
    "version": 3
   },
   "file_extension": ".py",
   "mimetype": "text/x-python",
   "name": "python",
   "nbconvert_exporter": "python",
   "pygments_lexer": "ipython3",
   "version": "3.7.7-final"
  },
  "orig_nbformat": 2,
  "kernelspec": {
   "name": "python_defaultSpec_1598458060250",
   "display_name": "Python 3.7.7 64-bit ('base': conda)"
  }
 },
 "nbformat": 4,
 "nbformat_minor": 2,
 "cells": [
  {
   "cell_type": "code",
   "execution_count": 5,
   "metadata": {},
   "outputs": [],
   "source": [
    "import numpy as np"
   ]
  },
  {
   "cell_type": "code",
   "execution_count": 41,
   "metadata": {},
   "outputs": [],
   "source": [
    "def egg_drop(chunk):\n",
    "    max_tests = (100 / chunk) + (chunk - 1)\n",
    "    return max_tests"
   ]
  },
  {
   "cell_type": "code",
   "execution_count": 42,
   "metadata": {
    "tags": []
   },
   "outputs": [
    {
     "output_type": "stream",
     "name": "stdout",
     "text": "18.0\n"
    },
    {
     "output_type": "execute_result",
     "data": {
      "text/plain": "{1: 90.0,\n 2: 46.0,\n 3: 32.0,\n 4: 25.5,\n 5: 22.0,\n 6: 20.0,\n 7: 18.857142857142858,\n 8: 18.25,\n 9: 18.0,\n 10: 18.0,\n 11: 18.18181818181818,\n 12: 18.5,\n 13: 18.923076923076923,\n 14: 19.42857142857143,\n 15: 20.0,\n 16: 20.625,\n 17: 21.294117647058822,\n 18: 22.0,\n 19: 22.736842105263158,\n 20: 23.5,\n 21: 24.285714285714285,\n 22: 25.09090909090909,\n 23: 25.91304347826087,\n 24: 26.75,\n 25: 27.6,\n 26: 28.46153846153846,\n 27: 29.333333333333332,\n 28: 30.214285714285715,\n 29: 31.103448275862068,\n 30: 32.0,\n 31: 32.903225806451616,\n 32: 33.8125,\n 33: 34.72727272727273,\n 34: 35.64705882352941,\n 35: 36.57142857142857,\n 36: 37.5,\n 37: 38.432432432432435,\n 38: 39.368421052631575,\n 39: 40.30769230769231,\n 40: 41.25,\n 41: 42.19512195121951,\n 42: 43.142857142857146,\n 43: 44.093023255813954,\n 44: 45.04545454545455,\n 45: 46.0,\n 46: 46.95652173913044,\n 47: 47.91489361702128,\n 48: 48.875,\n 49: 49.83673469387755}"
     },
     "metadata": {},
     "execution_count": 42
    }
   ],
   "source": [
    "possible = {}\n",
    "for i in range(1, 50):\n",
    "    possible[i] = egg_drop(i)\n",
    "minimum = np.min(list(possible.values()))\n",
    "print(minimum)\n",
    "possible\n"
   ]
  },
  {
   "cell_type": "code",
   "execution_count": 57,
   "metadata": {},
   "outputs": [],
   "source": [
    "depth = 1\n",
    "\n",
    "def egg_drop(floors_left, depth):\n",
    "    depth += 1\n",
    "    possible = {}\n",
    "    for i in range(1, 30):\n",
    "        max_tests = (np.floor(floors_left / i)) + (i - 1)\n",
    "        possible[i] = max_tests\n",
    "    minimum = np.min(list(possible.values()))\n",
    "    for key, val in possible.items():\n",
    "        if val == minimum:\n",
    "            i = key\n",
    "    print(floors_left, i)\n",
    "    floors_left -= i\n",
    "    if floors_left > 0:\n",
    "        egg_drop(floors_left, depth)\n",
    "\n",
    "    return depth\n",
    "    "
   ]
  },
  {
   "cell_type": "code",
   "execution_count": 58,
   "metadata": {
    "tags": []
   },
   "outputs": [
    {
     "output_type": "stream",
     "name": "stdout",
     "text": "100 13\n87 11\n76 11\n65 11\n54 8\n46 8\n38 8\n30 8\n22 6\n16 6\n10 4\n6 4\n2 3\n2\n"
    }
   ],
   "source": [
    "print(egg_drop(100, depth))"
   ]
  },
  {
   "cell_type": "code",
   "execution_count": null,
   "metadata": {},
   "outputs": [],
   "source": []
  }
 ]
}