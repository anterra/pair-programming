{
 "metadata": {
  "language_info": {
   "codemirror_mode": {
    "name": "ipython",
    "version": 3
   },
   "file_extension": ".py",
   "mimetype": "text/x-python",
   "name": "python",
   "nbconvert_exporter": "python",
   "pygments_lexer": "ipython3",
   "version": "3.7.7-final"
  },
  "orig_nbformat": 2,
  "kernelspec": {
   "name": "python_defaultSpec_1598458060250",
   "display_name": "Python 3.7.7 64-bit ('base': conda)"
  }
 },
 "nbformat": 4,
 "nbformat_minor": 2,
 "cells": [
  {
   "cell_type": "markdown",
   "metadata": {},
   "source": [
    "There is a building with 100 floors. You have two eggs. If either egg is dropped from the Kth floor or above it will break. If it's dropped from any of the floors below, it wouldn't break, however many times you dropped it. We need to find the cut-off floor K. How many tries would you need before you can find that floor?"
   ]
  },
  {
   "cell_type": "code",
   "execution_count": 5,
   "metadata": {},
   "outputs": [],
   "source": [
    "import numpy as np"
   ]
  },
  {
   "cell_type": "code",
   "execution_count": 61,
   "metadata": {},
   "outputs": [],
   "source": [
    "def egg_drop(chunk):\n",
    "    max_tests = (100 / chunk) + (chunk - 1)\n",
    "    return max_tests"
   ]
  },
  {
   "cell_type": "code",
   "execution_count": 64,
   "metadata": {
    "tags": []
   },
   "outputs": [
    {
     "output_type": "stream",
     "name": "stdout",
     "text": "worst case:  19.0 drops\n"
    },
    {
     "output_type": "execute_result",
     "data": {
      "text/plain": "{1: 100.0,\n 2: 51.0,\n 3: 35.333333333333336,\n 4: 28.0,\n 5: 24.0,\n 6: 21.666666666666668,\n 7: 20.285714285714285,\n 8: 19.5,\n 9: 19.11111111111111,\n 10: 19.0,\n 11: 19.090909090909093,\n 12: 19.333333333333336,\n 13: 19.692307692307693,\n 14: 20.142857142857142,\n 15: 20.666666666666668,\n 16: 21.25,\n 17: 21.88235294117647,\n 18: 22.555555555555557,\n 19: 23.263157894736842,\n 20: 24.0,\n 21: 24.761904761904763,\n 22: 25.545454545454547,\n 23: 26.347826086956523,\n 24: 27.166666666666668,\n 25: 28.0,\n 26: 28.846153846153847,\n 27: 29.703703703703702,\n 28: 30.571428571428573,\n 29: 31.448275862068964,\n 30: 32.333333333333336,\n 31: 33.225806451612904,\n 32: 34.125,\n 33: 35.03030303030303,\n 34: 35.94117647058823,\n 35: 36.857142857142854,\n 36: 37.77777777777778,\n 37: 38.7027027027027,\n 38: 39.631578947368425,\n 39: 40.56410256410256,\n 40: 41.5,\n 41: 42.4390243902439,\n 42: 43.38095238095238,\n 43: 44.325581395348834,\n 44: 45.27272727272727,\n 45: 46.22222222222222,\n 46: 47.17391304347826,\n 47: 48.12765957446808,\n 48: 49.083333333333336,\n 49: 50.04081632653061}"
     },
     "metadata": {},
     "execution_count": 64
    }
   ],
   "source": [
    "possible = {}\n",
    "for i in range(1, 50):\n",
    "    possible[i] = egg_drop(i)\n",
    "minimum = np.min(list(possible.values()))\n",
    "print(\"worst case: \", minimum, \"drops\")\n",
    "possible\n"
   ]
  },
  {
   "cell_type": "code",
   "execution_count": 74,
   "metadata": {},
   "outputs": [],
   "source": [
    "depth = 1\n",
    "\n",
    "def egg_drop(floors_left, depth):\n",
    "    possible = {}\n",
    "    for i in range(1, 30):\n",
    "        max_tests = (np.floor(floors_left / i)) + (i - 1)\n",
    "        possible[i] = max_tests\n",
    "    minimum = np.min(list(possible.values()))\n",
    "    for key, val in possible.items():\n",
    "        if val == minimum:\n",
    "            i = key\n",
    "    print(floors_left, i)\n",
    "    floors_left -= i\n",
    "    if floors_left > 0:\n",
    "        depth += 1\n",
    "        return egg_drop(floors_left, depth)\n",
    "\n",
    "    if floors_left <=0:\n",
    "        print(\"number of tries: \")\n",
    "        return depth\n",
    "    "
   ]
  },
  {
   "cell_type": "code",
   "execution_count": 73,
   "metadata": {
    "tags": []
   },
   "outputs": [
    {
     "output_type": "stream",
     "name": "stdout",
     "text": "100 13\n87 11\n76 11\n65 11\n54 8\n46 8\n38 8\n30 8\n22 6\n16 6\n10 4\n6 4\n2 3\nnumber of tries: \n13\n"
    }
   ],
   "source": [
    "print(egg_drop(100, depth))"
   ]
  },
  {
   "cell_type": "code",
   "execution_count": null,
   "metadata": {},
   "outputs": [],
   "source": []
  }
 ]
}