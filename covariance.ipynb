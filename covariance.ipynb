{
 "cells": [
  {
   "cell_type": "code",
   "execution_count": 31,
   "metadata": {},
   "outputs": [],
   "source": [
    "#import nltk\n",
    "from sklearn.feature_extraction.text import CountVectorizer\n",
    "import pandas as pd\n",
    "from sklearn.metrics import pairwise_distances\n",
    "import sklearn"
   ]
  },
  {
   "cell_type": "code",
   "execution_count": 8,
   "metadata": {},
   "outputs": [],
   "source": [
    "text = [\"wookie stormtrooper\",\n",
    "        \"harry potter\",\n",
    "        \"wookie stormtrooper stormtrooper\",\n",
    "        \"hairy wookie stormtrooper\",\n",
    "        \"hairy harry potter\"]"
   ]
  },
  {
   "cell_type": "code",
   "execution_count": 11,
   "metadata": {},
   "outputs": [
    {
     "name": "stdout",
     "output_type": "stream",
     "text": [
      "['hairy', 'harry', 'potter', 'stormtrooper', 'wookie']\n"
     ]
    }
   ],
   "source": [
    "vectorizer = CountVectorizer()\n",
    "X = vectorizer.fit_transform(text)\n",
    "print(vectorizer.get_feature_names())"
   ]
  },
  {
   "cell_type": "code",
   "execution_count": 12,
   "metadata": {},
   "outputs": [
    {
     "name": "stdout",
     "output_type": "stream",
     "text": [
      "[[0 0 0 1 1]\n",
      " [0 1 1 0 0]\n",
      " [0 0 0 2 1]\n",
      " [1 0 0 1 1]\n",
      " [1 1 1 0 0]]\n"
     ]
    }
   ],
   "source": [
    "print(X.toarray())"
   ]
  },
  {
   "cell_type": "code",
   "execution_count": 44,
   "metadata": {},
   "outputs": [
    {
     "data": {
      "text/plain": [
       "array([[0, 0, 0, 1, 1],\n",
       "       [0, 1, 1, 0, 0],\n",
       "       [0, 0, 0, 2, 1],\n",
       "       [1, 0, 0, 1, 1],\n",
       "       [1, 1, 1, 0, 0]])"
      ]
     },
     "execution_count": 44,
     "metadata": {},
     "output_type": "execute_result"
    }
   ],
   "source": [
    "X"
   ]
  },
  {
   "cell_type": "code",
   "execution_count": 25,
   "metadata": {},
   "outputs": [],
   "source": [
    "df = pd.DataFrame(X, columns=vectorizer.get_feature_names())"
   ]
  },
  {
   "cell_type": "code",
   "execution_count": 26,
   "metadata": {},
   "outputs": [
    {
     "data": {
      "text/html": [
       "<div>\n",
       "<style scoped>\n",
       "    .dataframe tbody tr th:only-of-type {\n",
       "        vertical-align: middle;\n",
       "    }\n",
       "\n",
       "    .dataframe tbody tr th {\n",
       "        vertical-align: top;\n",
       "    }\n",
       "\n",
       "    .dataframe thead th {\n",
       "        text-align: right;\n",
       "    }\n",
       "</style>\n",
       "<table border=\"1\" class=\"dataframe\">\n",
       "  <thead>\n",
       "    <tr style=\"text-align: right;\">\n",
       "      <th></th>\n",
       "      <th>hairy</th>\n",
       "      <th>harry</th>\n",
       "      <th>potter</th>\n",
       "      <th>stormtrooper</th>\n",
       "      <th>wookie</th>\n",
       "    </tr>\n",
       "  </thead>\n",
       "  <tbody>\n",
       "    <tr>\n",
       "      <th>0</th>\n",
       "      <td>0</td>\n",
       "      <td>0</td>\n",
       "      <td>0</td>\n",
       "      <td>1</td>\n",
       "      <td>1</td>\n",
       "    </tr>\n",
       "    <tr>\n",
       "      <th>1</th>\n",
       "      <td>0</td>\n",
       "      <td>1</td>\n",
       "      <td>1</td>\n",
       "      <td>0</td>\n",
       "      <td>0</td>\n",
       "    </tr>\n",
       "    <tr>\n",
       "      <th>2</th>\n",
       "      <td>0</td>\n",
       "      <td>0</td>\n",
       "      <td>0</td>\n",
       "      <td>2</td>\n",
       "      <td>1</td>\n",
       "    </tr>\n",
       "    <tr>\n",
       "      <th>3</th>\n",
       "      <td>1</td>\n",
       "      <td>0</td>\n",
       "      <td>0</td>\n",
       "      <td>1</td>\n",
       "      <td>1</td>\n",
       "    </tr>\n",
       "    <tr>\n",
       "      <th>4</th>\n",
       "      <td>1</td>\n",
       "      <td>1</td>\n",
       "      <td>1</td>\n",
       "      <td>0</td>\n",
       "      <td>0</td>\n",
       "    </tr>\n",
       "  </tbody>\n",
       "</table>\n",
       "</div>"
      ],
      "text/plain": [
       "   hairy  harry  potter  stormtrooper  wookie\n",
       "0      0      0       0             1       1\n",
       "1      0      1       1             0       0\n",
       "2      0      0       0             2       1\n",
       "3      1      0       0             1       1\n",
       "4      1      1       1             0       0"
      ]
     },
     "execution_count": 26,
     "metadata": {},
     "output_type": "execute_result"
    }
   ],
   "source": [
    "df"
   ]
  },
  {
   "cell_type": "code",
   "execution_count": 28,
   "metadata": {},
   "outputs": [],
   "source": [
    "distances = pairwise_distances(df)"
   ]
  },
  {
   "cell_type": "code",
   "execution_count": 29,
   "metadata": {},
   "outputs": [
    {
     "data": {
      "text/plain": [
       "array([[0.        , 2.        , 1.        , 1.        , 2.23606798],\n",
       "       [2.        , 0.        , 2.64575131, 2.23606798, 1.        ],\n",
       "       [1.        , 2.64575131, 0.        , 1.41421356, 2.82842712],\n",
       "       [1.        , 2.23606798, 1.41421356, 0.        , 2.        ],\n",
       "       [2.23606798, 1.        , 2.82842712, 2.        , 0.        ]])"
      ]
     },
     "execution_count": 29,
     "metadata": {},
     "output_type": "execute_result"
    }
   ],
   "source": [
    "distances"
   ]
  },
  {
   "cell_type": "code",
   "execution_count": 32,
   "metadata": {},
   "outputs": [
    {
     "data": {
      "text/plain": [
       "array([[0.        , 1.        , 0.0513167 , 0.18350342, 1.        ],\n",
       "       [1.        , 0.        , 1.        , 1.        , 0.18350342],\n",
       "       [0.0513167 , 1.        , 0.        , 0.22540333, 1.        ],\n",
       "       [0.18350342, 1.        , 0.22540333, 0.        , 0.66666667],\n",
       "       [1.        , 0.18350342, 1.        , 0.66666667, 0.        ]])"
      ]
     },
     "execution_count": 32,
     "metadata": {},
     "output_type": "execute_result"
    }
   ],
   "source": [
    "sklearn.metrics.pairwise.cosine_distances(df)"
   ]
  },
  {
   "cell_type": "code",
   "execution_count": 39,
   "metadata": {},
   "outputs": [],
   "source": [
    "list_of_rows = []\n",
    "for row in df.iterrows(): \n",
    "    list_of_rows.append(list(row))"
   ]
  },
  {
   "cell_type": "code",
   "execution_count": 46,
   "metadata": {},
   "outputs": [],
   "source": [
    "list_of_distances = []\n",
    "for index in X:\n",
    "    for index_2 in X:\n",
    "        euclidian = pairwise_distances(index.reshape(-1, 1), index_2.reshape(-1, 1))\n",
    "        list_of_distances.append(euclidian)"
   ]
  },
  {
   "cell_type": "code",
   "execution_count": 47,
   "metadata": {},
   "outputs": [
    {
     "data": {
      "text/plain": [
       "[array([[0., 0., 0., 1., 1.],\n",
       "        [0., 0., 0., 1., 1.],\n",
       "        [0., 0., 0., 1., 1.],\n",
       "        [1., 1., 1., 0., 0.],\n",
       "        [1., 1., 1., 0., 0.]]),\n",
       " array([[0., 1., 1., 0., 0.],\n",
       "        [0., 1., 1., 0., 0.],\n",
       "        [0., 1., 1., 0., 0.],\n",
       "        [1., 0., 0., 1., 1.],\n",
       "        [1., 0., 0., 1., 1.]]),\n",
       " array([[0., 0., 0., 2., 1.],\n",
       "        [0., 0., 0., 2., 1.],\n",
       "        [0., 0., 0., 2., 1.],\n",
       "        [1., 1., 1., 1., 0.],\n",
       "        [1., 1., 1., 1., 0.]]),\n",
       " array([[1., 0., 0., 1., 1.],\n",
       "        [1., 0., 0., 1., 1.],\n",
       "        [1., 0., 0., 1., 1.],\n",
       "        [0., 1., 1., 0., 0.],\n",
       "        [0., 1., 1., 0., 0.]]),\n",
       " array([[1., 1., 1., 0., 0.],\n",
       "        [1., 1., 1., 0., 0.],\n",
       "        [1., 1., 1., 0., 0.],\n",
       "        [0., 0., 0., 1., 1.],\n",
       "        [0., 0., 0., 1., 1.]]),\n",
       " array([[0., 0., 0., 1., 1.],\n",
       "        [1., 1., 1., 0., 0.],\n",
       "        [1., 1., 1., 0., 0.],\n",
       "        [0., 0., 0., 1., 1.],\n",
       "        [0., 0., 0., 1., 1.]]),\n",
       " array([[0., 1., 1., 0., 0.],\n",
       "        [1., 0., 0., 1., 1.],\n",
       "        [1., 0., 0., 1., 1.],\n",
       "        [0., 1., 1., 0., 0.],\n",
       "        [0., 1., 1., 0., 0.]]),\n",
       " array([[0., 0., 0., 2., 1.],\n",
       "        [1., 1., 1., 1., 0.],\n",
       "        [1., 1., 1., 1., 0.],\n",
       "        [0., 0., 0., 2., 1.],\n",
       "        [0., 0., 0., 2., 1.]]),\n",
       " array([[1., 0., 0., 1., 1.],\n",
       "        [0., 1., 1., 0., 0.],\n",
       "        [0., 1., 1., 0., 0.],\n",
       "        [1., 0., 0., 1., 1.],\n",
       "        [1., 0., 0., 1., 1.]]),\n",
       " array([[1., 1., 1., 0., 0.],\n",
       "        [0., 0., 0., 1., 1.],\n",
       "        [0., 0., 0., 1., 1.],\n",
       "        [1., 1., 1., 0., 0.],\n",
       "        [1., 1., 1., 0., 0.]]),\n",
       " array([[0., 0., 0., 1., 1.],\n",
       "        [0., 0., 0., 1., 1.],\n",
       "        [0., 0., 0., 1., 1.],\n",
       "        [2., 2., 2., 1., 1.],\n",
       "        [1., 1., 1., 0., 0.]]),\n",
       " array([[0., 1., 1., 0., 0.],\n",
       "        [0., 1., 1., 0., 0.],\n",
       "        [0., 1., 1., 0., 0.],\n",
       "        [2., 1., 1., 2., 2.],\n",
       "        [1., 0., 0., 1., 1.]]),\n",
       " array([[0., 0., 0., 2., 1.],\n",
       "        [0., 0., 0., 2., 1.],\n",
       "        [0., 0., 0., 2., 1.],\n",
       "        [2., 2., 2., 0., 1.],\n",
       "        [1., 1., 1., 1., 0.]]),\n",
       " array([[1., 0., 0., 1., 1.],\n",
       "        [1., 0., 0., 1., 1.],\n",
       "        [1., 0., 0., 1., 1.],\n",
       "        [1., 2., 2., 1., 1.],\n",
       "        [0., 1., 1., 0., 0.]]),\n",
       " array([[1., 1., 1., 0., 0.],\n",
       "        [1., 1., 1., 0., 0.],\n",
       "        [1., 1., 1., 0., 0.],\n",
       "        [1., 1., 1., 2., 2.],\n",
       "        [0., 0., 0., 1., 1.]]),\n",
       " array([[1., 1., 1., 0., 0.],\n",
       "        [0., 0., 0., 1., 1.],\n",
       "        [0., 0., 0., 1., 1.],\n",
       "        [1., 1., 1., 0., 0.],\n",
       "        [1., 1., 1., 0., 0.]]),\n",
       " array([[1., 0., 0., 1., 1.],\n",
       "        [0., 1., 1., 0., 0.],\n",
       "        [0., 1., 1., 0., 0.],\n",
       "        [1., 0., 0., 1., 1.],\n",
       "        [1., 0., 0., 1., 1.]]),\n",
       " array([[1., 1., 1., 1., 0.],\n",
       "        [0., 0., 0., 2., 1.],\n",
       "        [0., 0., 0., 2., 1.],\n",
       "        [1., 1., 1., 1., 0.],\n",
       "        [1., 1., 1., 1., 0.]]),\n",
       " array([[0., 1., 1., 0., 0.],\n",
       "        [1., 0., 0., 1., 1.],\n",
       "        [1., 0., 0., 1., 1.],\n",
       "        [0., 1., 1., 0., 0.],\n",
       "        [0., 1., 1., 0., 0.]]),\n",
       " array([[0., 0., 0., 1., 1.],\n",
       "        [1., 1., 1., 0., 0.],\n",
       "        [1., 1., 1., 0., 0.],\n",
       "        [0., 0., 0., 1., 1.],\n",
       "        [0., 0., 0., 1., 1.]]),\n",
       " array([[1., 1., 1., 0., 0.],\n",
       "        [1., 1., 1., 0., 0.],\n",
       "        [1., 1., 1., 0., 0.],\n",
       "        [0., 0., 0., 1., 1.],\n",
       "        [0., 0., 0., 1., 1.]]),\n",
       " array([[1., 0., 0., 1., 1.],\n",
       "        [1., 0., 0., 1., 1.],\n",
       "        [1., 0., 0., 1., 1.],\n",
       "        [0., 1., 1., 0., 0.],\n",
       "        [0., 1., 1., 0., 0.]]),\n",
       " array([[1., 1., 1., 1., 0.],\n",
       "        [1., 1., 1., 1., 0.],\n",
       "        [1., 1., 1., 1., 0.],\n",
       "        [0., 0., 0., 2., 1.],\n",
       "        [0., 0., 0., 2., 1.]]),\n",
       " array([[0., 1., 1., 0., 0.],\n",
       "        [0., 1., 1., 0., 0.],\n",
       "        [0., 1., 1., 0., 0.],\n",
       "        [1., 0., 0., 1., 1.],\n",
       "        [1., 0., 0., 1., 1.]]),\n",
       " array([[0., 0., 0., 1., 1.],\n",
       "        [0., 0., 0., 1., 1.],\n",
       "        [0., 0., 0., 1., 1.],\n",
       "        [1., 1., 1., 0., 0.],\n",
       "        [1., 1., 1., 0., 0.]])]"
      ]
     },
     "execution_count": 47,
     "metadata": {},
     "output_type": "execute_result"
    }
   ],
   "source": [
    "list_of_distances"
   ]
  },
  {
   "cell_type": "code",
   "execution_count": 42,
   "metadata": {},
   "outputs": [],
   "source": [
    "vect = CountVectorizer()\n",
    "data = vect.fit_transform(text).todense()"
   ]
  },
  {
   "cell_type": "code",
   "execution_count": 43,
   "metadata": {},
   "outputs": [
    {
     "data": {
      "text/plain": [
       "matrix([[0, 0, 0, 1, 1],\n",
       "        [0, 1, 1, 0, 0],\n",
       "        [0, 0, 0, 2, 1],\n",
       "        [1, 0, 0, 1, 1],\n",
       "        [1, 1, 1, 0, 0]])"
      ]
     },
     "execution_count": 43,
     "metadata": {},
     "output_type": "execute_result"
    }
   ],
   "source": [
    "data"
   ]
  },
  {
   "cell_type": "code",
   "execution_count": null,
   "metadata": {},
   "outputs": [],
   "source": []
  }
 ],
 "metadata": {
  "kernelspec": {
   "display_name": "Python 3",
   "language": "python",
   "name": "python3"
  },
  "language_info": {
   "codemirror_mode": {
    "name": "ipython",
    "version": 3
   },
   "file_extension": ".py",
   "mimetype": "text/x-python",
   "name": "python",
   "nbconvert_exporter": "python",
   "pygments_lexer": "ipython3",
   "version": "3.7.7"
  }
 },
 "nbformat": 4,
 "nbformat_minor": 4
}
