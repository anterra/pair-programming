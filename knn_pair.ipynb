{
 "cells": [
  {
   "cell_type": "markdown",
   "metadata": {},
   "source": [
    "# Pair Problem: Wookiee neighbors\n",
    "\n",
    "Your rebel alliance team has been stranded on a remote planet in the Outer Rim. The memory banks of your ship have been wiped. You are the only surviving data scientist on the team.\n",
    "\n",
    "Your location is near several planets that are largely inhabited by wookiees. Unfortunately, the different tribes of wookiees have different attitudes toward the alliance. It's important that your team know which tribe (represented by the color of the wookiee) will be on a planet or ship before exiting warp nearby. If you end up near a hostile wookiee tribe, you may not have time to reactive your warp drive before things turn sour.\n",
    "\n",
    "The problem is that your databank is fried. Out of millions of ships and planets, you only know the location and color of a few hundred wookiee tribes.\n",
    "\n",
    "Your team turns to you, the only one on the team that is capable of harnessing the power of The Force (data science). However, all of your tools were destroyed in the memory bank failure: no neural networks, no random forests, no models of any kind.\n",
    "\n",
    "# Details\n",
    "\n",
    "You must code, from scratch, a working KNN classification algorithm. Use the train-test split below to evaluate your model and then generate predictions for each of the observed wookiee ships in the holdout set. If you get some time, compare your results to those of the `sklearn.cluster.KMeans` classifier. What classification metric is most important to us here?\n",
    "\n",
    "- [train data](http://soph.info/metis/nyc18_ds15/wookiee-train.csv)\n",
    "- [test data](http://soph.info/metis/nyc18_ds15/wookiee-test.csv)\n",
    "- [holdout data](http://soph.info/metis/nyc18_ds15/wookiee-ho.csv)\n",
    "\n",
    "\n",
    "# Possible extensions:\n",
    "\n",
    " * Does your solution work for any number of features in the training data sets?\n",
    " * Does your solution handle ties (equidistance)?\n",
    " * Can you add another parameter, `k`, to your solution so that it uses the `k` nearest Wookiees instead of only the nearest Wookiee?\n",
    " * Can you add to your solution so that it has reasonable behavior if `y_train` is numeric?\n",
    "\n",
    "An extension of another kind:\n",
    "\n",
    " * Are you confident that your solution is correct? How can you ensure that it is, and check that it stays correct in the future?"
   ]
  },
  {
   "cell_type": "code",
   "execution_count": 7,
   "metadata": {},
   "outputs": [],
   "source": [
    "import pandas as pd \n",
    "import numpy as np "
   ]
  },
  {
   "cell_type": "code",
   "execution_count": 5,
   "metadata": {},
   "outputs": [],
   "source": [
    "wookie_train = pd.read_csv(\"wookiee-train.csv\")\n",
    "wookie_ho = pd.read_csv(\"wookiee-ho.csv\")\n",
    "wookie_test = pd.read_csv(\"wookiee-test.csv\")"
   ]
  },
  {
   "cell_type": "code",
   "execution_count": 6,
   "metadata": {},
   "outputs": [
    {
     "data": {
      "text/html": [
       "<div>\n",
       "<style scoped>\n",
       "    .dataframe tbody tr th:only-of-type {\n",
       "        vertical-align: middle;\n",
       "    }\n",
       "\n",
       "    .dataframe tbody tr th {\n",
       "        vertical-align: top;\n",
       "    }\n",
       "\n",
       "    .dataframe thead th {\n",
       "        text-align: right;\n",
       "    }\n",
       "</style>\n",
       "<table border=\"1\" class=\"dataframe\">\n",
       "  <thead>\n",
       "    <tr style=\"text-align: right;\">\n",
       "      <th></th>\n",
       "      <th>Unnamed: 0</th>\n",
       "      <th>wookieecolor</th>\n",
       "      <th>xcoord</th>\n",
       "      <th>ycoord</th>\n",
       "      <th>zcoord</th>\n",
       "    </tr>\n",
       "  </thead>\n",
       "  <tbody>\n",
       "    <tr>\n",
       "      <td>0</td>\n",
       "      <td>0</td>\n",
       "      <td>red</td>\n",
       "      <td>-3.410692</td>\n",
       "      <td>0.854400</td>\n",
       "      <td>0.228154</td>\n",
       "    </tr>\n",
       "    <tr>\n",
       "      <td>1</td>\n",
       "      <td>1</td>\n",
       "      <td>red</td>\n",
       "      <td>0.350080</td>\n",
       "      <td>-0.751120</td>\n",
       "      <td>-1.845183</td>\n",
       "    </tr>\n",
       "    <tr>\n",
       "      <td>2</td>\n",
       "      <td>2</td>\n",
       "      <td>chartreuse</td>\n",
       "      <td>0.841712</td>\n",
       "      <td>-0.058204</td>\n",
       "      <td>0.246217</td>\n",
       "    </tr>\n",
       "    <tr>\n",
       "      <td>3</td>\n",
       "      <td>3</td>\n",
       "      <td>red</td>\n",
       "      <td>-0.646260</td>\n",
       "      <td>-1.821082</td>\n",
       "      <td>0.444616</td>\n",
       "    </tr>\n",
       "    <tr>\n",
       "      <td>4</td>\n",
       "      <td>4</td>\n",
       "      <td>blue</td>\n",
       "      <td>1.423538</td>\n",
       "      <td>2.269409</td>\n",
       "      <td>-1.061053</td>\n",
       "    </tr>\n",
       "  </tbody>\n",
       "</table>\n",
       "</div>"
      ],
      "text/plain": [
       "   Unnamed: 0 wookieecolor    xcoord    ycoord    zcoord\n",
       "0           0          red -3.410692  0.854400  0.228154\n",
       "1           1          red  0.350080 -0.751120 -1.845183\n",
       "2           2   chartreuse  0.841712 -0.058204  0.246217\n",
       "3           3          red -0.646260 -1.821082  0.444616\n",
       "4           4         blue  1.423538  2.269409 -1.061053"
      ]
     },
     "execution_count": 6,
     "metadata": {},
     "output_type": "execute_result"
    }
   ],
   "source": [
    "wookie_train.head()"
   ]
  },
  {
   "cell_type": "code",
   "execution_count": 47,
   "metadata": {},
   "outputs": [
    {
     "data": {
      "text/plain": [
       "red           292\n",
       "white         222\n",
       "blue          151\n",
       "chartreuse     85\n",
       "Name: wookieecolor, dtype: int64"
      ]
     },
     "execution_count": 47,
     "metadata": {},
     "output_type": "execute_result"
    }
   ],
   "source": [
    "wookie_train.wookieecolor.value_counts()"
   ]
  },
  {
   "cell_type": "code",
   "execution_count": 25,
   "metadata": {},
   "outputs": [
    {
     "data": {
      "text/plain": [
       "(750, 5)"
      ]
     },
     "execution_count": 25,
     "metadata": {},
     "output_type": "execute_result"
    }
   ],
   "source": [
    "wookie_train.shape"
   ]
  },
  {
   "cell_type": "code",
   "execution_count": 20,
   "metadata": {},
   "outputs": [],
   "source": [
    "def knn(x,y,z,dataframe):\n",
    "    \"\"\"\n",
    "    \n",
    "    \"\"\"\n",
    "    for wookie in range(0,len(dataframe)):\n",
    "        distances = np.sqrt((x - wookie.xcoord)**2 + (y - wookie.ycoord)**2 + (z - wookie.zcoord)**2)\n",
    "        min_distance = min(distances)\n",
    "    \n",
    "    \n",
    "    \n",
    "    return min_distance"
   ]
  },
  {
   "cell_type": "code",
   "execution_count": 38,
   "metadata": {},
   "outputs": [
    {
     "name": "stdout",
     "output_type": "stream",
     "text": [
      "0.22946232580389325\n",
      "blue\n"
     ]
    }
   ],
   "source": [
    "distances_list = []\n",
    "for wookie in wookie_train.itertuples():\n",
    "    \n",
    "    distance = np.sqrt((1 - wookie.xcoord)**2 + (1 - wookie.ycoord)**2 + (1 - wookie.zcoord)**2)\n",
    "    distances_list.append(distance)\n",
    "\n",
    "\n",
    "min_distance = min(distances_list)\n",
    "\n",
    "print(min(distances_list))\n",
    "\n",
    "nearest_wookie_index = distances_list.index(min_distance)\n",
    "\n",
    "print(wookie_train.iloc[nearest_wookie_index].wookieecolor)\n"
   ]
  },
  {
   "cell_type": "code",
   "execution_count": 48,
   "metadata": {},
   "outputs": [],
   "source": [
    "from collections import defaultdict\n",
    "\n",
    "def knn_wookie(x,y,z,k):\n",
    "    \n",
    "    color_dict=defaultdict(int)\n",
    "    for wookie in wookie_train.itertuples():\n",
    "    \n",
    "        distance = np.sqrt((x - wookie.xcoord)**2 + (y - wookie.ycoord)**2 + (z - wookie.zcoord)**2)\n",
    "        distances_list.append(distance)\n",
    "\n",
    "    sorted_distance = sorted(distances_list)\n",
    "    closest_distances = sorted_distance[:k]\n",
    "    #min_distance = min(distances_list)\n",
    "    #print(min(distances_list))\n",
    "    \n",
    "    \n",
    "    nearest_wookie_indexes = [distances_list.index(i) for i in closest_distances ]\n",
    "    \n",
    "    wookie_color_list = [wookie_train.iloc[i].wookieecolor for i in nearest_wookie_indexes]\n",
    "    \n",
    "    for color in wookie_color_list:\n",
    "        color_dict[color]+=1\n",
    "    \n",
    "    \n",
    "        \n",
    "    print(wookie_color_list)\n",
    "    \n",
    "    print(color_dict)\n",
    "    \n",
    "    print(max(color_dict,key=color_dict.get))"
   ]
  },
  {
   "cell_type": "code",
   "execution_count": 50,
   "metadata": {},
   "outputs": [
    {
     "name": "stdout",
     "output_type": "stream",
     "text": [
      "['blue', 'blue', 'blue', 'blue', 'blue', 'chartreuse', 'chartreuse', 'chartreuse', 'chartreuse', 'chartreuse']\n",
      "defaultdict(<class 'int'>, {'blue': 5, 'chartreuse': 5})\n",
      "blue\n"
     ]
    }
   ],
   "source": [
    "knn_wookie(1,1,1,10)"
   ]
  }
 ],
 "metadata": {
  "kernelspec": {
   "display_name": "Python 3",
   "language": "python",
   "name": "python3"
  },
  "language_info": {
   "codemirror_mode": {
    "name": "ipython",
    "version": 3
   },
   "file_extension": ".py",
   "mimetype": "text/x-python",
   "name": "python",
   "nbconvert_exporter": "python",
   "pygments_lexer": "ipython3",
   "version": "3.7.4"
  }
 },
 "nbformat": 4,
 "nbformat_minor": 2
}
