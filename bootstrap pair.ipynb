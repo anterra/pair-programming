{
 "cells": [
  {
   "cell_type": "code",
   "execution_count": 9,
   "metadata": {},
   "outputs": [],
   "source": [
    "import pandas as pd\n",
    "import numpy as np\n",
    "import matplotlib.pyplot as plt"
   ]
  },
  {
   "cell_type": "code",
   "execution_count": 2,
   "metadata": {},
   "outputs": [],
   "source": [
    "data = pd.read_csv('pair_boot.csv')"
   ]
  },
  {
   "cell_type": "code",
   "execution_count": 7,
   "metadata": {},
   "outputs": [
    {
     "data": {
      "text/html": [
       "<div>\n",
       "<style scoped>\n",
       "    .dataframe tbody tr th:only-of-type {\n",
       "        vertical-align: middle;\n",
       "    }\n",
       "\n",
       "    .dataframe tbody tr th {\n",
       "        vertical-align: top;\n",
       "    }\n",
       "\n",
       "    .dataframe thead th {\n",
       "        text-align: right;\n",
       "    }\n",
       "</style>\n",
       "<table border=\"1\" class=\"dataframe\">\n",
       "  <thead>\n",
       "    <tr style=\"text-align: right;\">\n",
       "      <th></th>\n",
       "      <th>x_1</th>\n",
       "      <th>x_2</th>\n",
       "      <th>x_3</th>\n",
       "      <th>x_4</th>\n",
       "      <th>x_5</th>\n",
       "      <th>Intercept</th>\n",
       "      <th>y</th>\n",
       "    </tr>\n",
       "  </thead>\n",
       "  <tbody>\n",
       "    <tr>\n",
       "      <th>0</th>\n",
       "      <td>0.485176</td>\n",
       "      <td>0.809888</td>\n",
       "      <td>-0.900321</td>\n",
       "      <td>-0.024176</td>\n",
       "      <td>-1.173217</td>\n",
       "      <td>1</td>\n",
       "      <td>-1.517941</td>\n",
       "    </tr>\n",
       "    <tr>\n",
       "      <th>1</th>\n",
       "      <td>0.187372</td>\n",
       "      <td>2.440924</td>\n",
       "      <td>1.417704</td>\n",
       "      <td>-1.032075</td>\n",
       "      <td>0.090030</td>\n",
       "      <td>1</td>\n",
       "      <td>-0.919732</td>\n",
       "    </tr>\n",
       "    <tr>\n",
       "      <th>2</th>\n",
       "      <td>-0.174521</td>\n",
       "      <td>-0.641742</td>\n",
       "      <td>0.732103</td>\n",
       "      <td>0.488829</td>\n",
       "      <td>0.108709</td>\n",
       "      <td>1</td>\n",
       "      <td>1.883271</td>\n",
       "    </tr>\n",
       "    <tr>\n",
       "      <th>3</th>\n",
       "      <td>0.209709</td>\n",
       "      <td>-2.041166</td>\n",
       "      <td>0.058982</td>\n",
       "      <td>-0.451210</td>\n",
       "      <td>0.371843</td>\n",
       "      <td>1</td>\n",
       "      <td>0.313504</td>\n",
       "    </tr>\n",
       "    <tr>\n",
       "      <th>4</th>\n",
       "      <td>1.020862</td>\n",
       "      <td>-0.538123</td>\n",
       "      <td>0.664033</td>\n",
       "      <td>-0.422197</td>\n",
       "      <td>-0.336070</td>\n",
       "      <td>1</td>\n",
       "      <td>-0.516607</td>\n",
       "    </tr>\n",
       "  </tbody>\n",
       "</table>\n",
       "</div>"
      ],
      "text/plain": [
       "        x_1       x_2       x_3       x_4       x_5  Intercept         y\n",
       "0  0.485176  0.809888 -0.900321 -0.024176 -1.173217          1 -1.517941\n",
       "1  0.187372  2.440924  1.417704 -1.032075  0.090030          1 -0.919732\n",
       "2 -0.174521 -0.641742  0.732103  0.488829  0.108709          1  1.883271\n",
       "3  0.209709 -2.041166  0.058982 -0.451210  0.371843          1  0.313504\n",
       "4  1.020862 -0.538123  0.664033 -0.422197 -0.336070          1 -0.516607"
      ]
     },
     "execution_count": 7,
     "metadata": {},
     "output_type": "execute_result"
    }
   ],
   "source": [
    "data.head()"
   ]
  },
  {
   "cell_type": "code",
   "execution_count": 5,
   "metadata": {},
   "outputs": [],
   "source": [
    "from numpy import random"
   ]
  },
  {
   "cell_type": "code",
   "execution_count": 27,
   "metadata": {},
   "outputs": [],
   "source": [
    "medians = []\n",
    "stds = []\n",
    "for i in range(5000):\n",
    "    vals = np.random.choice(data['y'], size = 1000)\n",
    "    medians.append(np.median(vals))\n",
    "    stds.append(np.std(vals))"
   ]
  },
  {
   "cell_type": "code",
   "execution_count": 28,
   "metadata": {},
   "outputs": [
    {
     "name": "stdout",
     "output_type": "stream",
     "text": [
      "95% Bootstrapped Confidence Interval: [-4.197, 3.402]\n",
      "95% Actual Confidence Interval: [-4.208, 3.394]\n"
     ]
    }
   ],
   "source": [
    "print('95% Bootstrapped Confidence Interval: [{:.3f}, {:.3f}]'.format(np.mean(medians) - 2 * np.mean(stds),\n",
    "                                                                      np.mean(medians) + 2 * np.mean(stds)))\n",
    "print('95% Actual Confidence Interval: [{:.3f}, {:.3f}]'.format(np.median(data['y']) - 2 * np.std(data['y']),\n",
    "                                                                      np.median(data['y']) + 2 * np.std(data['y'])))"
   ]
  },
  {
   "cell_type": "code",
   "execution_count": 31,
   "metadata": {},
   "outputs": [],
   "source": [
    "from sklearn.linear_model import LinearRegression"
   ]
  },
  {
   "cell_type": "code",
   "execution_count": 34,
   "metadata": {},
   "outputs": [
    {
     "name": "stdout",
     "output_type": "stream",
     "text": [
      "[-1.41132832 -0.24264012  0.55170984  0.43244809  0.2530181 ]\n",
      "-0.36455158327190457\n"
     ]
    }
   ],
   "source": [
    "lr = LinearRegression()\n",
    "lr.fit(data.drop(['y', 'Intercept'], axis = 1), data['y'])\n",
    "print(lr.coef_)\n",
    "print(lr.intercept_)"
   ]
  },
  {
   "cell_type": "code",
   "execution_count": 43,
   "metadata": {},
   "outputs": [],
   "source": [
    "coef1 = []\n",
    "coef2 = []\n",
    "coef3 = []\n",
    "coef4 = []\n",
    "coef5 = []\n",
    "intercept = []\n",
    "\n",
    "for i in range(5000):\n",
    "    vals = np.random.choice(len(data), size = 1000)\n",
    "    boot_df = data.iloc[vals, :]\n",
    "    lr = LinearRegression()\n",
    "    lr.fit(boot_df.drop(['y', 'Intercept'], axis = 1), boot_df['y'])\n",
    "    coef1.append(lr.coef_[0])\n",
    "    coef2.append(lr.coef_[1])\n",
    "    coef3.append(lr.coef_[2])\n",
    "    coef4.append(lr.coef_[3])\n",
    "    coef5.append(lr.coef_[4])\n",
    "    intercept.append(lr.intercept_)"
   ]
  },
  {
   "cell_type": "code",
   "execution_count": 45,
   "metadata": {},
   "outputs": [
    {
     "name": "stdout",
     "output_type": "stream",
     "text": [
      "-1.4112873162075605\n",
      "-0.2431505878262181\n",
      "0.5518321070239957\n",
      "0.4327243623536828\n",
      "0.2530163156693276\n",
      "-0.3642770224208999\n"
     ]
    }
   ],
   "source": [
    "print(np.mean(coef1))\n",
    "print(np.mean(coef2))\n",
    "print(np.mean(coef3))\n",
    "print(np.mean(coef4))\n",
    "print(np.mean(coef5))\n",
    "print(np.mean(intercept))"
   ]
  }
 ],
 "metadata": {
  "kernelspec": {
   "display_name": "Python 3",
   "language": "python",
   "name": "python3"
  },
  "language_info": {
   "codemirror_mode": {
    "name": "ipython",
    "version": 3
   },
   "file_extension": ".py",
   "mimetype": "text/x-python",
   "name": "python",
   "nbconvert_exporter": "python",
   "pygments_lexer": "ipython3",
   "version": "3.7.6"
  }
 },
 "nbformat": 4,
 "nbformat_minor": 4
}
