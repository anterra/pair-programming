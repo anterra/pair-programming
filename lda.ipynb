{
 "metadata": {
  "language_info": {
   "codemirror_mode": {
    "name": "ipython",
    "version": 3
   },
   "file_extension": ".py",
   "mimetype": "text/x-python",
   "name": "python",
   "nbconvert_exporter": "python",
   "pygments_lexer": "ipython3",
   "version": "3.7.7-final"
  },
  "orig_nbformat": 2,
  "kernelspec": {
   "name": "python_defaultSpec_1597421432826",
   "display_name": "Python 3.7.7 64-bit ('base': conda)"
  }
 },
 "nbformat": 4,
 "nbformat_minor": 2,
 "cells": [
  {
   "cell_type": "code",
   "execution_count": 1,
   "metadata": {},
   "outputs": [],
   "source": [
    "docs = [[0.98, 0.01, 0.01],\n",
    "        [0.01, 0.98, 0.01],\n",
    "        [0.01, 0.01, 0.98]]\n",
    "topics = [[ 0.4,      0.4,   0.01,        0.01,    0.01,       0.01,\n",
    "            0.1,     0.04,   0.01,        0.01],\n",
    "          [0.01,     0.01,    0.4,         0.4,    0.01,       0.01,\n",
    "            0.1,     0.04,   0.01,        0.01],\n",
    "          [0.02,     0.02,   0.01,        0.01,     0.4,        0.4,\n",
    "           0.02,      0.1,   0.01,        0.01]]\n",
    "words =  ['cat', 'kitten',  'dog',     'puppy',  'deep', 'learning',\n",
    "          'fur',  'image',  'GPU', 'asparagus']"
   ]
  },
  {
   "cell_type": "code",
   "execution_count": 3,
   "metadata": {},
   "outputs": [],
   "source": [
    "from numpy.random import choice"
   ]
  },
  {
   "cell_type": "code",
   "execution_count": 38,
   "metadata": {},
   "outputs": [],
   "source": [
    "def make_doc(topic_probs, n_words):\n",
    "    topic = topics[choice(range(0,len(topic_probs)), p=topic_probs)]\n",
    "    word = choice(words, p=topic, size=n_words)\n",
    "    \n",
    "    return ' '.join(word)"
   ]
  },
  {
   "cell_type": "code",
   "execution_count": 39,
   "metadata": {},
   "outputs": [
    {
     "output_type": "execute_result",
     "data": {
      "text/plain": "'cat kitten cat cat kitten'"
     },
     "metadata": {},
     "execution_count": 39
    }
   ],
   "source": [
    "make_doc(docs[0], 5)"
   ]
  },
  {
   "cell_type": "code",
   "execution_count": 41,
   "metadata": {
    "tags": []
   },
   "outputs": [
    {
     "output_type": "stream",
     "name": "stdout",
     "text": "kitten kitten kitten kitten kitten fur cat GPU kitten cat\ndog dog dog puppy puppy dog asparagus puppy puppy GPU\ndog deep learning image deep deep deep deep learning deep\n"
    }
   ],
   "source": [
    "for doc in docs:\n",
    "    print(make_doc(topic_probs=doc, n_words=10))"
   ]
  },
  {
   "cell_type": "code",
   "execution_count": 70,
   "metadata": {},
   "outputs": [],
   "source": [
    "from numpy.random import dirichlet\n",
    "\n",
    "def make_doc(topic_probs, n_words):\n",
    "    if topic_probs == None:\n",
    "        nums = choice(range(100), size=3)\n",
    "        topic_probs = np.random.dirichlet(nums, 1)[0]\n",
    "    topic = topics[choice(range(0,len(topic_probs)), p=topic_probs)]\n",
    "    word = choice(words, p=topic, size=n_words)\n",
    "    \n",
    "    return ' '.join(word)\n"
   ]
  },
  {
   "cell_type": "code",
   "execution_count": 72,
   "metadata": {
    "tags": []
   },
   "outputs": [
    {
     "output_type": "stream",
     "name": "stdout",
     "text": "cat kitten cat kitten kitten kitten kitten cat kitten cat\nlearning image deep deep learning learning deep image deep learning\ndeep learning learning learning learning learning deep learning deep learning\nkitten cat cat kitten image kitten cat kitten kitten fur\nfur kitten kitten kitten cat kitten kitten kitten fur kitten\ncat kitten GPU kitten kitten cat cat kitten kitten cat\ndeep learning learning cat image learning deep deep deep learning\nkitten cat image kitten kitten asparagus kitten GPU kitten cat\nimage cat kitten image kitten fur kitten kitten kitten kitten\nimage kitten fur fur kitten kitten cat kitten kitten cat\n"
    }
   ],
   "source": [
    "for i in range(10):\n",
    "    print(make_doc(None, 10))\n"
   ]
  },
  {
   "cell_type": "code",
   "execution_count": null,
   "metadata": {},
   "outputs": [],
   "source": []
  }
 ]
}