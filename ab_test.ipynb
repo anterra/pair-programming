{
 "metadata": {
  "language_info": {
   "codemirror_mode": {
    "name": "ipython",
    "version": 3
   },
   "file_extension": ".py",
   "mimetype": "text/x-python",
   "name": "python",
   "nbconvert_exporter": "python",
   "pygments_lexer": "ipython3",
   "version": "3.7.7-final"
  },
  "orig_nbformat": 2,
  "kernelspec": {
   "name": "python_defaultSpec_1598977097374",
   "display_name": "Python 3.7.7 64-bit ('base': conda)"
  }
 },
 "nbformat": 4,
 "nbformat_minor": 2,
 "cells": [
  {
   "cell_type": "markdown",
   "metadata": {},
   "source": [
    "# AB Testing\n",
    "We are trying to improve the proportion of defects we have when manufacturing Banana cell phones. We have some data on two different processes we want to try and use, which we call process0 (our current process) and process1 (the new process). It is expensive to switch to process1 unless we are reasonably sure it makes a substaintial improvement in the rates. We will make a small production line at one factory, a run a batch of size N through both processes. We are employing you to help us scope out how large a batch N we need.\n",
    "\n",
    "1. Suppose p0 = 0.05 and p1 = 0.03 (i.e p1 is better), and we make 1,000 phones through each process. Simulate this 10,000 times and tell us in how many of those simulations p0 ends up with fewer defects than p1 (i.e. how many times out of this 10,000 simulations did we get the wrong result)?\n",
    "\n",
    "2. Suppose p0 = 0.05 and p1 = 0.04 (i.e. p1 is better, but less so) and we make 1,000 phones through each process. Simulating 10,000 times: how many simulations did p0 end up with fewer defects than p1? How does this compare to the previous result?\n",
    "\n",
    "3. Suppose p0 = 0.05 and p1 = 0.04 and we make 20,000 phones through each process. Simulating 10,000 times, what proportion of simulations did we end up with the wrong answer (i.e. claiming that we should stick with p0?)\n",
    "\n",
    "4. We think that the differences are probably p0 = 0.05 and p1 = 0.048. How many phones do we need to put in the batch to make sure the probability of making the wrong call is less than 1%?"
   ]
  },
  {
   "cell_type": "code",
   "execution_count": 1,
   "metadata": {},
   "outputs": [],
   "source": [
    "from generate_sample import get_sample_success"
   ]
  },
  {
   "cell_type": "code",
   "execution_count": 6,
   "metadata": {},
   "outputs": [
    {
     "output_type": "execute_result",
     "data": {
      "text/plain": "494.0"
     },
     "metadata": {},
     "execution_count": 6
    }
   ],
   "source": [
    "get_sample_success(0.05, 10000)"
   ]
  },
  {
   "cell_type": "code",
   "execution_count": 7,
   "metadata": {},
   "outputs": [
    {
     "output_type": "execute_result",
     "data": {
      "text/plain": "266.0"
     },
     "metadata": {},
     "execution_count": 7
    }
   ],
   "source": [
    "get_sample_success(0.03, 10000)"
   ]
  },
  {
   "cell_type": "markdown",
   "metadata": {},
   "source": [
    "# 1. "
   ]
  },
  {
   "cell_type": "code",
   "execution_count": 16,
   "metadata": {},
   "outputs": [],
   "source": [
    "def find_success(n):\n",
    "    counter = 0\n",
    "    for i in range(n):\n",
    "        process_0 = get_sample_success(0.05, 1000)\n",
    "        process_1 = get_sample_success(0.03, 1000)\n",
    "        if process_0 < process_1:\n",
    "            counter +=1\n",
    "    return counter\n"
   ]
  },
  {
   "cell_type": "code",
   "execution_count": 17,
   "metadata": {},
   "outputs": [
    {
     "output_type": "execute_result",
     "data": {
      "text/plain": "96"
     },
     "metadata": {},
     "execution_count": 17
    }
   ],
   "source": [
    "find_success(10000)"
   ]
  },
  {
   "cell_type": "code",
   "execution_count": 32,
   "metadata": {},
   "outputs": [
    {
     "output_type": "execute_result",
     "data": {
      "text/plain": "0.960000000"
     },
     "metadata": {},
     "execution_count": 32
    }
   ],
   "source": [
    "(96/10000)*100"
   ]
  },
  {
   "cell_type": "markdown",
   "metadata": {},
   "source": [
    "Only 96 out of 10000 times did we get the wrong (or, unexpected) result that process 0 had fewer defects than process 1. "
   ]
  },
  {
   "cell_type": "markdown",
   "metadata": {},
   "source": [
    "# 2. "
   ]
  },
  {
   "cell_type": "code",
   "execution_count": 18,
   "metadata": {},
   "outputs": [],
   "source": [
    "def find_success_2(n):\n",
    "    counter = 0\n",
    "    for i in range(n):\n",
    "        process_0 = get_sample_success(0.05, 1000)\n",
    "        process_1 = get_sample_success(0.04, 1000)\n",
    "        if process_0 < process_1:\n",
    "            counter +=1\n",
    "    return counter"
   ]
  },
  {
   "cell_type": "code",
   "execution_count": 19,
   "metadata": {},
   "outputs": [
    {
     "output_type": "execute_result",
     "data": {
      "text/plain": "1273"
     },
     "metadata": {},
     "execution_count": 19
    }
   ],
   "source": [
    "find_success_2(10000)"
   ]
  },
  {
   "cell_type": "code",
   "execution_count": 31,
   "metadata": {},
   "outputs": [
    {
     "output_type": "execute_result",
     "data": {
      "text/plain": "12.730000000"
     },
     "metadata": {},
     "execution_count": 31
    }
   ],
   "source": [
    "(1273/10000)*100"
   ]
  },
  {
   "cell_type": "markdown",
   "metadata": {},
   "source": [
    "# 3. "
   ]
  },
  {
   "cell_type": "code",
   "execution_count": 36,
   "metadata": {},
   "outputs": [],
   "source": [
    " def find_success_3(n):\n",
    "    counter = 0\n",
    "    for i in range(n):\n",
    "        process_0 = get_sample_success(0.05, 20000)\n",
    "        process_1 = get_sample_success(0.04, 20000)\n",
    "        if process_0 < process_1:\n",
    "            counter +=1\n",
    "    return counter"
   ]
  },
  {
   "cell_type": "code",
   "execution_count": 37,
   "metadata": {},
   "outputs": [
    {
     "output_type": "execute_result",
     "data": {
      "text/plain": "0"
     },
     "metadata": {},
     "execution_count": 37
    }
   ],
   "source": [
    "find_success_3(10000)"
   ]
  },
  {
   "cell_type": "markdown",
   "metadata": {},
   "source": [
    "# 4. "
   ]
  },
  {
   "cell_type": "code",
   "execution_count": 40,
   "metadata": {},
   "outputs": [],
   "source": [
    "def find_success_4(n):\n",
    "    x_s = [1000, 5000, 10000, 50000, 100000, 200000]\n",
    "    for x in x_s:\n",
    "        counter = 0\n",
    "        for i in range(n):\n",
    "            process_0 = get_sample_success(0.05, x)\n",
    "            process_1 = get_sample_success(0.048, x)\n",
    "            if process_0 < process_1:\n",
    "                counter +=1\n",
    "        print(x, (counter/n)*100)"
   ]
  },
  {
   "cell_type": "code",
   "execution_count": 41,
   "metadata": {
    "tags": []
   },
   "outputs": [
    {
     "output_type": "stream",
     "name": "stdout",
     "text": "1000 39.36\n5000 30.72\n10000 25.480000000000004\n50000 6.800000000000001\n100000 1.94\n200000 0.18\n"
    }
   ],
   "source": [
    "find_success_4(10000)"
   ]
  },
  {
   "cell_type": "code",
   "execution_count": 48,
   "metadata": {},
   "outputs": [],
   "source": [
    "def find_success_4(n):\n",
    "    x_s = range(100000, 200000, 10000)\n",
    "    for x in x_s:\n",
    "        counter = 0\n",
    "        for i in range(n):\n",
    "            process_0 = get_sample_success(0.05, x)\n",
    "            process_1 = get_sample_success(0.048, x)\n",
    "            if process_0 < process_1:\n",
    "                counter +=1\n",
    "        print(x, (counter/n)*100)"
   ]
  },
  {
   "cell_type": "code",
   "execution_count": 49,
   "metadata": {
    "tags": []
   },
   "outputs": [
    {
     "output_type": "stream",
     "name": "stdout",
     "text": "100000 2.03\n110000 1.54\n120000 0.96\n130000 0.74\n140000 0.7100000000000001\n150000 0.52\n160000 0.4\n170000 0.33\n180000 0.38\n190000 0.2\n"
    }
   ],
   "source": [
    "find_success_4(10000)"
   ]
  },
  {
   "cell_type": "code",
   "execution_count": 53,
   "metadata": {},
   "outputs": [],
   "source": [
    "def find_success_5(n):\n",
    "    x_s = range(110000, 130000, 1000)\n",
    "    for x in x_s:\n",
    "        counter = 0\n",
    "        for i in range(n):\n",
    "            process_0 = get_sample_success(0.05, x)\n",
    "            process_1 = get_sample_success(0.048, x)\n",
    "            if process_0 < process_1:\n",
    "                counter +=1\n",
    "        print(x, (counter/n)*100)"
   ]
  },
  {
   "cell_type": "code",
   "execution_count": 54,
   "metadata": {
    "tags": []
   },
   "outputs": [
    {
     "output_type": "stream",
     "name": "stdout",
     "text": "110000 1.53\n111000 1.41\n112000 1.3599999999999999\n113000 1.37\n114000 1.37\n115000 1.09\n116000 1.37\n117000 1.3299999999999998\n118000 1.22\n119000 1.31\n120000 1.2\n121000 1.2\n122000 1.09\n123000 0.97\n124000 1.15\n125000 1.02\n126000 0.91\n127000 1.0699999999999998\n128000 1.03\n129000 0.8500000000000001\n"
    }
   ],
   "source": [
    "find_success_5(10000)"
   ]
  },
  {
   "cell_type": "markdown",
   "metadata": {},
   "source": [
    "Answer: You would want to make 130,000 phones in each batch to make sure the probability of making the wrong call is less than 1%. "
   ]
  },
  {
   "cell_type": "code",
   "execution_count": null,
   "metadata": {},
   "outputs": [],
   "source": []
  }
 ]
}