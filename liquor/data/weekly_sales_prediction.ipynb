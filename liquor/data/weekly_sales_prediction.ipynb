{
 "cells": [
  {
   "cell_type": "markdown",
   "metadata": {},
   "source": [
    "# Linear Regression Sample Code\n",
    "\n",
    "- Predict weekly sales for a store/department"
   ]
  },
  {
   "cell_type": "code",
   "execution_count": 1,
   "metadata": {},
   "outputs": [],
   "source": [
    "import pandas as pd\n",
    "import numpy as np\n",
    "\n",
    "from sklearn.linear_model import LinearRegression, Lasso, Ridge\n",
    "from sklearn.model_selection import KFold, train_test_split\n",
    "from sklearn.metrics import r2_score, mean_squared_error\n",
    "from sklearn.preprocessing import StandardScaler\n",
    "\n",
    "%matplotlib inline"
   ]
  },
  {
   "cell_type": "code",
   "execution_count": 2,
   "metadata": {},
   "outputs": [],
   "source": [
    "data = pd.read_csv('./data/rossman_reduced.csv')\n",
    "extra_data = pd.read_csv('./data/rossman-extra.csv')"
   ]
  },
  {
   "cell_type": "code",
   "execution_count": 3,
   "metadata": {},
   "outputs": [
    {
     "data": {
      "text/html": [
       "<div>\n",
       "<style scoped>\n",
       "    .dataframe tbody tr th:only-of-type {\n",
       "        vertical-align: middle;\n",
       "    }\n",
       "\n",
       "    .dataframe tbody tr th {\n",
       "        vertical-align: top;\n",
       "    }\n",
       "\n",
       "    .dataframe thead th {\n",
       "        text-align: right;\n",
       "    }\n",
       "</style>\n",
       "<table border=\"1\" class=\"dataframe\">\n",
       "  <thead>\n",
       "    <tr style=\"text-align: right;\">\n",
       "      <th></th>\n",
       "      <th>Store</th>\n",
       "      <th>Dept</th>\n",
       "      <th>Date</th>\n",
       "      <th>Weekly_Sales</th>\n",
       "      <th>IsHoliday</th>\n",
       "    </tr>\n",
       "  </thead>\n",
       "  <tbody>\n",
       "    <tr>\n",
       "      <th>0</th>\n",
       "      <td>39</td>\n",
       "      <td>59</td>\n",
       "      <td>2012-07-27</td>\n",
       "      <td>202.76</td>\n",
       "      <td>False</td>\n",
       "    </tr>\n",
       "    <tr>\n",
       "      <th>1</th>\n",
       "      <td>23</td>\n",
       "      <td>71</td>\n",
       "      <td>2011-02-18</td>\n",
       "      <td>16482.00</td>\n",
       "      <td>False</td>\n",
       "    </tr>\n",
       "    <tr>\n",
       "      <th>2</th>\n",
       "      <td>17</td>\n",
       "      <td>40</td>\n",
       "      <td>2010-02-26</td>\n",
       "      <td>48167.29</td>\n",
       "      <td>False</td>\n",
       "    </tr>\n",
       "    <tr>\n",
       "      <th>3</th>\n",
       "      <td>6</td>\n",
       "      <td>79</td>\n",
       "      <td>2011-01-07</td>\n",
       "      <td>21581.64</td>\n",
       "      <td>False</td>\n",
       "    </tr>\n",
       "    <tr>\n",
       "      <th>4</th>\n",
       "      <td>39</td>\n",
       "      <td>58</td>\n",
       "      <td>2011-05-13</td>\n",
       "      <td>1315.00</td>\n",
       "      <td>False</td>\n",
       "    </tr>\n",
       "  </tbody>\n",
       "</table>\n",
       "</div>"
      ],
      "text/plain": [
       "   Store  Dept        Date  Weekly_Sales  IsHoliday\n",
       "0     39    59  2012-07-27        202.76      False\n",
       "1     23    71  2011-02-18      16482.00      False\n",
       "2     17    40  2010-02-26      48167.29      False\n",
       "3      6    79  2011-01-07      21581.64      False\n",
       "4     39    58  2011-05-13       1315.00      False"
      ]
     },
     "execution_count": 3,
     "metadata": {},
     "output_type": "execute_result"
    }
   ],
   "source": [
    "data.head()"
   ]
  },
  {
   "cell_type": "code",
   "execution_count": 4,
   "metadata": {},
   "outputs": [],
   "source": [
    "extra_data = extra_data.drop('IsHoliday',axis=1)  #pull\n",
    "data = data.merge(extra_data, on=['Store','Date'])\n"
   ]
  },
  {
   "cell_type": "code",
   "execution_count": 5,
   "metadata": {},
   "outputs": [
    {
     "data": {
      "text/plain": [
       "(30000, 14)"
      ]
     },
     "execution_count": 5,
     "metadata": {},
     "output_type": "execute_result"
    }
   ],
   "source": [
    "data.shape"
   ]
  },
  {
   "cell_type": "code",
   "execution_count": 6,
   "metadata": {},
   "outputs": [],
   "source": [
    "data = data.fillna(0)"
   ]
  },
  {
   "cell_type": "code",
   "execution_count": 7,
   "metadata": {},
   "outputs": [],
   "source": [
    "data = pd.get_dummies(data,prefix='dept',columns=['Dept'],drop_first=True)"
   ]
  },
  {
   "cell_type": "code",
   "execution_count": 8,
   "metadata": {},
   "outputs": [],
   "source": [
    "mdf = data.drop(['Date'],axis=1)"
   ]
  },
  {
   "cell_type": "code",
   "execution_count": 9,
   "metadata": {},
   "outputs": [
    {
     "data": {
      "text/html": [
       "<div>\n",
       "<style scoped>\n",
       "    .dataframe tbody tr th:only-of-type {\n",
       "        vertical-align: middle;\n",
       "    }\n",
       "\n",
       "    .dataframe tbody tr th {\n",
       "        vertical-align: top;\n",
       "    }\n",
       "\n",
       "    .dataframe thead th {\n",
       "        text-align: right;\n",
       "    }\n",
       "</style>\n",
       "<table border=\"1\" class=\"dataframe\">\n",
       "  <thead>\n",
       "    <tr style=\"text-align: right;\">\n",
       "      <th></th>\n",
       "      <th>Store</th>\n",
       "      <th>Weekly_Sales</th>\n",
       "      <th>IsHoliday</th>\n",
       "      <th>Temperature</th>\n",
       "      <th>Fuel_Price</th>\n",
       "      <th>MarkDown1</th>\n",
       "      <th>MarkDown2</th>\n",
       "      <th>MarkDown3</th>\n",
       "      <th>MarkDown4</th>\n",
       "      <th>MarkDown5</th>\n",
       "      <th>...</th>\n",
       "      <th>dept_90</th>\n",
       "      <th>dept_91</th>\n",
       "      <th>dept_92</th>\n",
       "      <th>dept_93</th>\n",
       "      <th>dept_94</th>\n",
       "      <th>dept_95</th>\n",
       "      <th>dept_96</th>\n",
       "      <th>dept_97</th>\n",
       "      <th>dept_98</th>\n",
       "      <th>dept_99</th>\n",
       "    </tr>\n",
       "  </thead>\n",
       "  <tbody>\n",
       "    <tr>\n",
       "      <th>0</th>\n",
       "      <td>39</td>\n",
       "      <td>202.76</td>\n",
       "      <td>False</td>\n",
       "      <td>82.89</td>\n",
       "      <td>3.407</td>\n",
       "      <td>1476.42</td>\n",
       "      <td>77.44</td>\n",
       "      <td>7.24</td>\n",
       "      <td>1008.3</td>\n",
       "      <td>35419.19</td>\n",
       "      <td>...</td>\n",
       "      <td>0</td>\n",
       "      <td>0</td>\n",
       "      <td>0</td>\n",
       "      <td>0</td>\n",
       "      <td>0</td>\n",
       "      <td>0</td>\n",
       "      <td>0</td>\n",
       "      <td>0</td>\n",
       "      <td>0</td>\n",
       "      <td>0</td>\n",
       "    </tr>\n",
       "    <tr>\n",
       "      <th>1</th>\n",
       "      <td>39</td>\n",
       "      <td>35825.85</td>\n",
       "      <td>False</td>\n",
       "      <td>82.89</td>\n",
       "      <td>3.407</td>\n",
       "      <td>1476.42</td>\n",
       "      <td>77.44</td>\n",
       "      <td>7.24</td>\n",
       "      <td>1008.3</td>\n",
       "      <td>35419.19</td>\n",
       "      <td>...</td>\n",
       "      <td>0</td>\n",
       "      <td>0</td>\n",
       "      <td>0</td>\n",
       "      <td>0</td>\n",
       "      <td>0</td>\n",
       "      <td>0</td>\n",
       "      <td>0</td>\n",
       "      <td>0</td>\n",
       "      <td>0</td>\n",
       "      <td>0</td>\n",
       "    </tr>\n",
       "    <tr>\n",
       "      <th>2</th>\n",
       "      <td>39</td>\n",
       "      <td>2871.00</td>\n",
       "      <td>False</td>\n",
       "      <td>82.89</td>\n",
       "      <td>3.407</td>\n",
       "      <td>1476.42</td>\n",
       "      <td>77.44</td>\n",
       "      <td>7.24</td>\n",
       "      <td>1008.3</td>\n",
       "      <td>35419.19</td>\n",
       "      <td>...</td>\n",
       "      <td>0</td>\n",
       "      <td>0</td>\n",
       "      <td>0</td>\n",
       "      <td>0</td>\n",
       "      <td>0</td>\n",
       "      <td>0</td>\n",
       "      <td>0</td>\n",
       "      <td>0</td>\n",
       "      <td>0</td>\n",
       "      <td>0</td>\n",
       "    </tr>\n",
       "    <tr>\n",
       "      <th>3</th>\n",
       "      <td>39</td>\n",
       "      <td>6697.70</td>\n",
       "      <td>False</td>\n",
       "      <td>82.89</td>\n",
       "      <td>3.407</td>\n",
       "      <td>1476.42</td>\n",
       "      <td>77.44</td>\n",
       "      <td>7.24</td>\n",
       "      <td>1008.3</td>\n",
       "      <td>35419.19</td>\n",
       "      <td>...</td>\n",
       "      <td>0</td>\n",
       "      <td>0</td>\n",
       "      <td>0</td>\n",
       "      <td>0</td>\n",
       "      <td>0</td>\n",
       "      <td>0</td>\n",
       "      <td>0</td>\n",
       "      <td>0</td>\n",
       "      <td>0</td>\n",
       "      <td>0</td>\n",
       "    </tr>\n",
       "    <tr>\n",
       "      <th>4</th>\n",
       "      <td>39</td>\n",
       "      <td>9209.19</td>\n",
       "      <td>False</td>\n",
       "      <td>82.89</td>\n",
       "      <td>3.407</td>\n",
       "      <td>1476.42</td>\n",
       "      <td>77.44</td>\n",
       "      <td>7.24</td>\n",
       "      <td>1008.3</td>\n",
       "      <td>35419.19</td>\n",
       "      <td>...</td>\n",
       "      <td>0</td>\n",
       "      <td>0</td>\n",
       "      <td>0</td>\n",
       "      <td>0</td>\n",
       "      <td>0</td>\n",
       "      <td>0</td>\n",
       "      <td>0</td>\n",
       "      <td>0</td>\n",
       "      <td>0</td>\n",
       "      <td>0</td>\n",
       "    </tr>\n",
       "  </tbody>\n",
       "</table>\n",
       "<p>5 rows × 91 columns</p>\n",
       "</div>"
      ],
      "text/plain": [
       "   Store  Weekly_Sales  IsHoliday  Temperature  Fuel_Price  MarkDown1  \\\n",
       "0     39        202.76      False        82.89       3.407    1476.42   \n",
       "1     39      35825.85      False        82.89       3.407    1476.42   \n",
       "2     39       2871.00      False        82.89       3.407    1476.42   \n",
       "3     39       6697.70      False        82.89       3.407    1476.42   \n",
       "4     39       9209.19      False        82.89       3.407    1476.42   \n",
       "\n",
       "   MarkDown2  MarkDown3  MarkDown4  MarkDown5  ...  dept_90  dept_91  dept_92  \\\n",
       "0      77.44       7.24     1008.3   35419.19  ...        0        0        0   \n",
       "1      77.44       7.24     1008.3   35419.19  ...        0        0        0   \n",
       "2      77.44       7.24     1008.3   35419.19  ...        0        0        0   \n",
       "3      77.44       7.24     1008.3   35419.19  ...        0        0        0   \n",
       "4      77.44       7.24     1008.3   35419.19  ...        0        0        0   \n",
       "\n",
       "   dept_93  dept_94  dept_95  dept_96  dept_97  dept_98  dept_99  \n",
       "0        0        0        0        0        0        0        0  \n",
       "1        0        0        0        0        0        0        0  \n",
       "2        0        0        0        0        0        0        0  \n",
       "3        0        0        0        0        0        0        0  \n",
       "4        0        0        0        0        0        0        0  \n",
       "\n",
       "[5 rows x 91 columns]"
      ]
     },
     "execution_count": 9,
     "metadata": {},
     "output_type": "execute_result"
    }
   ],
   "source": [
    "mdf.head()"
   ]
  },
  {
   "cell_type": "code",
   "execution_count": 10,
   "metadata": {},
   "outputs": [
    {
     "data": {
      "text/plain": [
       "(30000, 91)"
      ]
     },
     "execution_count": 10,
     "metadata": {},
     "output_type": "execute_result"
    }
   ],
   "source": [
    "mdf.shape"
   ]
  },
  {
   "cell_type": "code",
   "execution_count": 11,
   "metadata": {},
   "outputs": [],
   "source": [
    "X = mdf.drop('Weekly_Sales',axis=1)\n",
    "y = mdf['Weekly_Sales']"
   ]
  },
  {
   "cell_type": "code",
   "execution_count": 12,
   "metadata": {},
   "outputs": [],
   "source": [
    "kf = KFold(n_splits=4,shuffle=True,random_state=1)"
   ]
  },
  {
   "cell_type": "code",
   "execution_count": null,
   "metadata": {
    "scrolled": true
   },
   "outputs": [],
   "source": [
    "lr_r2 = []\n",
    "l1_r2 = []\n",
    "l2_r2 = []\n",
    "\n",
    "lr_rmse = []\n",
    "l1_rmse = []\n",
    "l2_rmse = []\n",
    "\n",
    "for tr,te in kf.split(X,y):\n",
    "#     print(\"Fold\")\n",
    "    \n",
    "    lr = LinearRegression()\n",
    "    l1 = Lasso()\n",
    "    l2 = Ridge()\n",
    "    \n",
    "    X_tr,X_te = X.iloc[tr] ,X.iloc[te]\n",
    "    y_tr,y_te = y.iloc[tr] ,y.iloc[te]\n",
    "    \n",
    "    scale = StandardScaler()\n",
    "    \n",
    "    X_tr_sc = scale.fit_transform(X_tr)\n",
    "    X_te_sc = scale.transform(X_te)\n",
    "    \n",
    "    lr.fit(X_tr,y_tr)\n",
    "#     print(\"L1\")\n",
    "    l1.fit(X_tr_sc,y_tr)\n",
    "#     print(\"L2\")\n",
    "    l2.fit(X_tr_sc,y_tr)\n",
    "    \n",
    "    lr_r2.append(r2_score(y_te,lr.predict(X_te)))\n",
    "    l1_r2.append(r2_score(y_te,l1.predict(X_te_sc)))\n",
    "    l2_r2.append(r2_score(y_te,l2.predict(X_te_sc)))\n",
    "    \n",
    "    lr_rmse.append(np.sqrt(mean_squared_error(y_te,lr.predict(X_te))))\n",
    "    l1_rmse.append(np.sqrt(mean_squared_error(y_te,l1.predict(X_te_sc))))\n",
    "    l2_rmse.append(np.sqrt(mean_squared_error(y_te,l2.predict(X_te_sc))))"
   ]
  },
  {
   "cell_type": "code",
   "execution_count": null,
   "metadata": {},
   "outputs": [],
   "source": [
    "print (lr_r2)\n",
    "print (l1_r2)\n",
    "print (l2_r2)"
   ]
  },
  {
   "cell_type": "code",
   "execution_count": null,
   "metadata": {},
   "outputs": [],
   "source": [
    "print (lr_rmse)\n",
    "print (l1_rmse)\n",
    "print (l2_rmse)"
   ]
  },
  {
   "cell_type": "code",
   "execution_count": null,
   "metadata": {},
   "outputs": [],
   "source": []
  }
 ],
 "metadata": {
  "anaconda-cloud": {},
  "kernelspec": {
   "display_name": "Python 3",
   "language": "python",
   "name": "python3"
  },
  "language_info": {
   "codemirror_mode": {
    "name": "ipython",
    "version": 3
   },
   "file_extension": ".py",
   "mimetype": "text/x-python",
   "name": "python",
   "nbconvert_exporter": "python",
   "pygments_lexer": "ipython3",
   "version": "3.7.6"
  }
 },
 "nbformat": 4,
 "nbformat_minor": 1
}
