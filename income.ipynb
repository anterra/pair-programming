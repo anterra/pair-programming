{
 "cells": [
  {
   "cell_type": "code",
   "execution_count": 19,
   "metadata": {},
   "outputs": [],
   "source": [
    "import pandas as pd\n",
    "import numpy as np\n",
    "\n",
    "from sklearn.linear_model import LogisticRegression\n",
    "from sklearn.model_selection import train_test_split\n",
    "import matplotlib.pyplot as plt\n",
    "%matplotlib inline"
   ]
  },
  {
   "cell_type": "code",
   "execution_count": 3,
   "metadata": {},
   "outputs": [],
   "source": [
    "data = pd.read_csv(\"incomes.csv\")"
   ]
  },
  {
   "cell_type": "code",
   "execution_count": 4,
   "metadata": {},
   "outputs": [],
   "source": [
    "df = pd.DataFrame(data)"
   ]
  },
  {
   "cell_type": "code",
   "execution_count": 5,
   "metadata": {},
   "outputs": [
    {
     "data": {
      "text/html": [
       "<div>\n",
       "<style scoped>\n",
       "    .dataframe tbody tr th:only-of-type {\n",
       "        vertical-align: middle;\n",
       "    }\n",
       "\n",
       "    .dataframe tbody tr th {\n",
       "        vertical-align: top;\n",
       "    }\n",
       "\n",
       "    .dataframe thead th {\n",
       "        text-align: right;\n",
       "    }\n",
       "</style>\n",
       "<table border=\"1\" class=\"dataframe\">\n",
       "  <thead>\n",
       "    <tr style=\"text-align: right;\">\n",
       "      <th></th>\n",
       "      <th>income</th>\n",
       "      <th>has_degree</th>\n",
       "    </tr>\n",
       "  </thead>\n",
       "  <tbody>\n",
       "    <tr>\n",
       "      <th>0</th>\n",
       "      <td>62065</td>\n",
       "      <td>1</td>\n",
       "    </tr>\n",
       "    <tr>\n",
       "      <th>1</th>\n",
       "      <td>59342</td>\n",
       "      <td>1</td>\n",
       "    </tr>\n",
       "    <tr>\n",
       "      <th>2</th>\n",
       "      <td>79452</td>\n",
       "      <td>1</td>\n",
       "    </tr>\n",
       "    <tr>\n",
       "      <th>3</th>\n",
       "      <td>49138</td>\n",
       "      <td>1</td>\n",
       "    </tr>\n",
       "    <tr>\n",
       "      <th>4</th>\n",
       "      <td>62431</td>\n",
       "      <td>1</td>\n",
       "    </tr>\n",
       "    <tr>\n",
       "      <th>...</th>\n",
       "      <td>...</td>\n",
       "      <td>...</td>\n",
       "    </tr>\n",
       "    <tr>\n",
       "      <th>1879</th>\n",
       "      <td>73841</td>\n",
       "      <td>1</td>\n",
       "    </tr>\n",
       "    <tr>\n",
       "      <th>1880</th>\n",
       "      <td>68888</td>\n",
       "      <td>0</td>\n",
       "    </tr>\n",
       "    <tr>\n",
       "      <th>1881</th>\n",
       "      <td>48698</td>\n",
       "      <td>0</td>\n",
       "    </tr>\n",
       "    <tr>\n",
       "      <th>1882</th>\n",
       "      <td>64583</td>\n",
       "      <td>1</td>\n",
       "    </tr>\n",
       "    <tr>\n",
       "      <th>1883</th>\n",
       "      <td>34983</td>\n",
       "      <td>1</td>\n",
       "    </tr>\n",
       "  </tbody>\n",
       "</table>\n",
       "<p>1884 rows × 2 columns</p>\n",
       "</div>"
      ],
      "text/plain": [
       "      income  has_degree\n",
       "0      62065           1\n",
       "1      59342           1\n",
       "2      79452           1\n",
       "3      49138           1\n",
       "4      62431           1\n",
       "...      ...         ...\n",
       "1879   73841           1\n",
       "1880   68888           0\n",
       "1881   48698           0\n",
       "1882   64583           1\n",
       "1883   34983           1\n",
       "\n",
       "[1884 rows x 2 columns]"
      ]
     },
     "execution_count": 5,
     "metadata": {},
     "output_type": "execute_result"
    }
   ],
   "source": [
    "df"
   ]
  },
  {
   "cell_type": "code",
   "execution_count": 9,
   "metadata": {},
   "outputs": [],
   "source": [
    "lm = LogisticRegression()"
   ]
  },
  {
   "cell_type": "code",
   "execution_count": 10,
   "metadata": {},
   "outputs": [],
   "source": [
    "X = df[\"income\"]\n",
    "y = df[\"has_degree\"]"
   ]
  },
  {
   "cell_type": "code",
   "execution_count": 16,
   "metadata": {},
   "outputs": [
    {
     "name": "stdout",
     "output_type": "stream",
     "text": [
      "<class 'pandas.core.frame.DataFrame'>\n",
      "RangeIndex: 1884 entries, 0 to 1883\n",
      "Data columns (total 2 columns):\n",
      " #   Column      Non-Null Count  Dtype\n",
      "---  ------      --------------  -----\n",
      " 0   income      1884 non-null   int64\n",
      " 1   has_degree  1884 non-null   int64\n",
      "dtypes: int64(2)\n",
      "memory usage: 29.6 KB\n"
     ]
    }
   ],
   "source": [
    "df.info()"
   ]
  },
  {
   "cell_type": "code",
   "execution_count": 66,
   "metadata": {},
   "outputs": [],
   "source": [
    "medians = []\n",
    "for n in range(200):\n",
    "    sample = np.random.choice(X, size=1874)\n",
    "    med_sample = np.median(sample)\n",
    "    medians.append(med_sample)\n",
    "\n",
    "avg_median = np.mean(medians)"
   ]
  },
  {
   "cell_type": "code",
   "execution_count": 23,
   "metadata": {},
   "outputs": [
    {
     "data": {
      "text/plain": [
       "60731.765"
      ]
     },
     "execution_count": 23,
     "metadata": {},
     "output_type": "execute_result"
    }
   ],
   "source": [
    "avg_median"
   ]
  },
  {
   "cell_type": "code",
   "execution_count": 25,
   "metadata": {},
   "outputs": [],
   "source": [
    "true_median = np.median(X)"
   ]
  },
  {
   "cell_type": "code",
   "execution_count": 29,
   "metadata": {},
   "outputs": [
    {
     "data": {
      "image/png": "[encoded data removed]",
      "text/plain": [
       "<Figure size 432x288 with 1 Axes>"
      ]
     },
     "metadata": {
      "needs_background": "light"
     },
     "output_type": "display_data"
    }
   ],
   "source": [
    "plt.hist(medians)\n",
    "plt.axvline(true_median, color=\"black\");"
   ]
  },
  {
   "cell_type": "code",
   "execution_count": 84,
   "metadata": {},
   "outputs": [],
   "source": [
    "high_percentile = int(np.floor(200 * 0.975))"
   ]
  },
  {
   "cell_type": "code",
   "execution_count": 85,
   "metadata": {},
   "outputs": [],
   "source": [
    "low_percentile = int(np.floor(200 * 0.025))"
   ]
  },
  {
   "cell_type": "code",
   "execution_count": 73,
   "metadata": {},
   "outputs": [],
   "source": [
    "medians_array = np.array(medians)"
   ]
  },
  {
   "cell_type": "code",
   "execution_count": 76,
   "metadata": {},
   "outputs": [],
   "source": [
    "medians_array.sort()"
   ]
  },
  {
   "cell_type": "code",
   "execution_count": 77,
   "metadata": {},
   "outputs": [
    {
     "data": {
      "text/plain": [
       "array([59882. , 60027.5, 60222. , 60240.5, 60269. , 60269. , 60270.5,\n",
       "       60294. , 60311.5, 60332. , 60347. , 60354. , 60365. , 60366. ,\n",
       "       60370.5, 60373.5, 60375. , 60375. , 60375. , 60375. , 60404. ,\n",
       "       60404. , 60409. , 60415.5, 60421.5, 60422. , 60427.5, 60430. ,\n",
       "       60436. , 60438. , 60438. , 60439.5, 60441. , 60442.5, 60444.5,\n",
       "       60447. , 60448. , 60448. , 60449. , 60450. , 60450. , 60483. ,\n",
       "       60497.5, 60507. , 60511. , 60512. , 60512. , 60521.5, 60521.5,\n",
       "       60525.5, 60535. , 60539. , 60539. , 60551. , 60557. , 60561.5,\n",
       "       60563. , 60587. , 60587. , 60609. , 60609. , 60610. , 60616. ,\n",
       "       60624. , 60624. , 60624. , 60631. , 60631. , 60638.5, 60638.5,\n",
       "       60647.5, 60652. , 60652.5, 60652.5, 60653. , 60653. , 60653. ,\n",
       "       60653. , 60662. , 60663. , 60663. , 60668. , 60671. , 60671. ,\n",
       "       60673. , 60673. , 60673. , 60673. , 60678. , 60678. , 60684.5,\n",
       "       60684.5, 60686. , 60686. , 60686. , 60691. , 60696. , 60696. ,\n",
       "       60696. , 60710.5, 60710.5, 60735. , 60767. , 60781. , 60781. ,\n",
       "       60781. , 60802.5, 60802.5, 60810. , 60810. , 60828. , 60828. ,\n",
       "       60828. , 60836.5, 60842.5, 60845.5, 60854. , 60857. , 60857. ,\n",
       "       60860. , 60860. , 60860. , 60860. , 60863. , 60863. , 60863. ,\n",
       "       60863. , 60881.5, 60882. , 60884.5, 60888. , 60891. , 60906. ,\n",
       "       60919. , 60919. , 60920.5, 60920.5, 60922. , 60922. , 60929. ,\n",
       "       60935.5, 60937. , 60942. , 60952. , 60957. , 60962. , 60962. ,\n",
       "       60978.5, 61005. , 61005. , 61005. , 61010. , 61010. , 61010. ,\n",
       "       61014. , 61014. , 61033. , 61033. , 61037. , 61037. , 61037. ,\n",
       "       61040.5, 61056. , 61062.5, 61065. , 61071. , 61074. , 61076. ,\n",
       "       61111. , 61132. , 61137. , 61146. , 61150. , 61150. , 61154. ,\n",
       "       61172. , 61173. , 61179.5, 61209.5, 61231. , 61247.5, 61250.5,\n",
       "       61252. , 61264. , 61268.5, 61270. , 61271.5, 61276. , 61337. ,\n",
       "       61337. , 61371. , 61380. , 61381.5, 61396.5, 61396.5, 61408. ,\n",
       "       61424.5, 61460. , 61465. , 61714.5])"
      ]
     },
     "execution_count": 77,
     "metadata": {},
     "output_type": "execute_result"
    }
   ],
   "source": [
    "medians_array"
   ]
  },
  {
   "cell_type": "code",
   "execution_count": 86,
   "metadata": {},
   "outputs": [],
   "source": [
    "ninety_medians = medians_array[low_percentile:high_percentile]"
   ]
  },
  {
   "cell_type": "code",
   "execution_count": 87,
   "metadata": {},
   "outputs": [
    {
     "data": {
      "text/plain": [
       "array([60269. , 60270.5, 60294. , 60311.5, 60332. , 60347. , 60354. ,\n",
       "       60365. , 60366. , 60370.5, 60373.5, 60375. , 60375. , 60375. ,\n",
       "       60375. , 60404. , 60404. , 60409. , 60415.5, 60421.5, 60422. ,\n",
       "       60427.5, 60430. , 60436. , 60438. , 60438. , 60439.5, 60441. ,\n",
       "       60442.5, 60444.5, 60447. , 60448. , 60448. , 60449. , 60450. ,\n",
       "       60450. , 60483. , 60497.5, 60507. , 60511. , 60512. , 60512. ,\n",
       "       60521.5, 60521.5, 60525.5, 60535. , 60539. , 60539. , 60551. ,\n",
       "       60557. , 60561.5, 60563. , 60587. , 60587. , 60609. , 60609. ,\n",
       "       60610. , 60616. , 60624. , 60624. , 60624. , 60631. , 60631. ,\n",
       "       60638.5, 60638.5, 60647.5, 60652. , 60652.5, 60652.5, 60653. ,\n",
       "       60653. , 60653. , 60653. , 60662. , 60663. , 60663. , 60668. ,\n",
       "       60671. , 60671. , 60673. , 60673. , 60673. , 60673. , 60678. ,\n",
       "       60678. , 60684.5, 60684.5, 60686. , 60686. , 60686. , 60691. ,\n",
       "       60696. , 60696. , 60696. , 60710.5, 60710.5, 60735. , 60767. ,\n",
       "       60781. , 60781. , 60781. , 60802.5, 60802.5, 60810. , 60810. ,\n",
       "       60828. , 60828. , 60828. , 60836.5, 60842.5, 60845.5, 60854. ,\n",
       "       60857. , 60857. , 60860. , 60860. , 60860. , 60860. , 60863. ,\n",
       "       60863. , 60863. , 60863. , 60881.5, 60882. , 60884.5, 60888. ,\n",
       "       60891. , 60906. , 60919. , 60919. , 60920.5, 60920.5, 60922. ,\n",
       "       60922. , 60929. , 60935.5, 60937. , 60942. , 60952. , 60957. ,\n",
       "       60962. , 60962. , 60978.5, 61005. , 61005. , 61005. , 61010. ,\n",
       "       61010. , 61010. , 61014. , 61014. , 61033. , 61033. , 61037. ,\n",
       "       61037. , 61037. , 61040.5, 61056. , 61062.5, 61065. , 61071. ,\n",
       "       61074. , 61076. , 61111. , 61132. , 61137. , 61146. , 61150. ,\n",
       "       61150. , 61154. , 61172. , 61173. , 61179.5, 61209.5, 61231. ,\n",
       "       61247.5, 61250.5, 61252. , 61264. , 61268.5, 61270. , 61271.5,\n",
       "       61276. , 61337. , 61337. , 61371. , 61380. , 61381.5, 61396.5,\n",
       "       61396.5])"
      ]
     },
     "execution_count": 87,
     "metadata": {},
     "output_type": "execute_result"
    }
   ],
   "source": [
    "ninety_medians"
   ]
  },
  {
   "cell_type": "code",
   "execution_count": 88,
   "metadata": {},
   "outputs": [
    {
     "data": {
      "text/plain": [
       "(array([15., 22., 17., 42., 12., 30., 20., 12., 13.,  7.]),\n",
       " array([60269.  , 60381.75, 60494.5 , 60607.25, 60720.  , 60832.75,\n",
       "        60945.5 , 61058.25, 61171.  , 61283.75, 61396.5 ]),\n",
       " <a list of 10 Patch objects>)"
      ]
     },
     "execution_count": 88,
     "metadata": {},
     "output_type": "execute_result"
    },
    {
     "data": {
      "image/png": "[encoded data removed]",
      "text/plain": [
       "<Figure size 432x288 with 1 Axes>"
      ]
     },
     "metadata": {
      "needs_background": "light"
     },
     "output_type": "display_data"
    }
   ],
   "source": [
    "plt.hist(ninety_medians)"
   ]
  },
  {
   "cell_type": "code",
   "execution_count": 119,
   "metadata": {},
   "outputs": [],
   "source": [
    "coef_list = []\n",
    "int_list = []\n",
    "model = LogisticRegression()\n",
    "\n",
    "for n in range(200):\n",
    "    sample_index = np.random.choice(range(len(df)), 1874)\n",
    "    first_row = df.iloc[sample_index[0]]\n",
    "    sample_df = pd.DataFrame(first_row)\n",
    "    \n",
    "    for index in sample_index[1:]:\n",
    "        sample_row = df.iloc[index]\n",
    "        sample_df = pd.concat([sample_df, sample_row], axis=1)\n",
    "        \n",
    "    sample_df = sample_df.T \n",
    "\n",
    "    X = np.array(sample_df[\"income\"]).reshape(-1, 1)\n",
    "    y = sample_df[\"has_degree\"]\n",
    "    model.fit(X, y)\n",
    "    coefficients = model.coef_\n",
    "    coef_list.append(coefficients)\n",
    "    intercept = model.intercept_\n",
    "    int_list.append(intercept)\n"
   ]
  },
  {
   "cell_type": "code",
   "execution_count": 123,
   "metadata": {},
   "outputs": [
    {
     "data": {
      "text/plain": [
       "[array([[1.11127174e-05]]),\n",
       " array([[1.3467374e-05]]),\n",
       " array([[1.29708459e-05]]),\n",
       " array([[1.24553416e-05]]),\n",
       " array([[1.3671877e-05]]),\n",
       " array([[1.35591992e-05]]),\n",
       " array([[1.25433142e-05]]),\n",
       " array([[1.28783891e-05]]),\n",
       " array([[1.19121968e-05]]),\n",
       " array([[1.26866353e-05]]),\n",
       " array([[1.35371959e-05]]),\n",
       " array([[1.2025088e-05]]),\n",
       " array([[1.30875428e-05]]),\n",
       " array([[1.24899766e-05]]),\n",
       " array([[1.30146547e-05]]),\n",
       " array([[1.45933154e-05]]),\n",
       " array([[1.27391582e-05]]),\n",
       " array([[1.41092299e-05]]),\n",
       " array([[1.24860108e-05]]),\n",
       " array([[1.33281124e-05]]),\n",
       " array([[1.40410902e-05]]),\n",
       " array([[1.18321411e-05]]),\n",
       " array([[1.41375202e-05]]),\n",
       " array([[1.47547479e-05]]),\n",
       " array([[1.32182449e-05]]),\n",
       " array([[1.32264987e-05]]),\n",
       " array([[1.25272308e-05]]),\n",
       " array([[1.16388153e-05]]),\n",
       " array([[1.3529944e-05]]),\n",
       " array([[1.22847559e-05]]),\n",
       " array([[1.37079059e-05]]),\n",
       " array([[1.2182128e-05]]),\n",
       " array([[1.32817435e-05]]),\n",
       " array([[1.33759168e-05]]),\n",
       " array([[1.25377521e-05]]),\n",
       " array([[1.33536289e-05]]),\n",
       " array([[1.30358524e-05]]),\n",
       " array([[1.3221475e-05]]),\n",
       " array([[1.32011666e-05]]),\n",
       " array([[1.26931969e-05]]),\n",
       " array([[1.46730362e-05]]),\n",
       " array([[1.24594175e-05]]),\n",
       " array([[1.30268197e-05]]),\n",
       " array([[1.25036577e-05]]),\n",
       " array([[1.28403007e-05]]),\n",
       " array([[1.29328085e-05]]),\n",
       " array([[1.28722242e-05]]),\n",
       " array([[1.29487602e-05]]),\n",
       " array([[1.29374869e-05]]),\n",
       " array([[1.27553335e-05]]),\n",
       " array([[1.31112431e-05]]),\n",
       " array([[1.35784654e-05]]),\n",
       " array([[1.142488e-05]]),\n",
       " array([[1.36693538e-05]]),\n",
       " array([[1.38993325e-05]]),\n",
       " array([[1.2313713e-05]]),\n",
       " array([[1.2928658e-05]]),\n",
       " array([[1.31037382e-05]]),\n",
       " array([[1.32693684e-05]]),\n",
       " array([[1.41030995e-05]]),\n",
       " array([[1.35336275e-05]]),\n",
       " array([[1.14942243e-05]]),\n",
       " array([[1.17077122e-05]]),\n",
       " array([[1.26950866e-05]]),\n",
       " array([[1.19625896e-05]]),\n",
       " array([[1.2275221e-05]]),\n",
       " array([[1.46422729e-05]]),\n",
       " array([[1.32661089e-05]]),\n",
       " array([[1.18006852e-05]]),\n",
       " array([[1.22975838e-05]]),\n",
       " array([[1.28521881e-05]]),\n",
       " array([[1.25739901e-05]]),\n",
       " array([[1.24348716e-05]]),\n",
       " array([[1.43820135e-05]]),\n",
       " array([[1.33126678e-05]]),\n",
       " array([[1.27818831e-05]]),\n",
       " array([[1.25608286e-05]]),\n",
       " array([[1.37203448e-05]]),\n",
       " array([[1.27838176e-05]]),\n",
       " array([[1.30722867e-05]]),\n",
       " array([[1.18011114e-05]]),\n",
       " array([[1.16378507e-05]]),\n",
       " array([[1.4125743e-05]]),\n",
       " array([[1.31652027e-05]]),\n",
       " array([[1.26002923e-05]]),\n",
       " array([[1.15618216e-05]]),\n",
       " array([[1.12665749e-05]]),\n",
       " array([[1.30399301e-05]]),\n",
       " array([[1.10910851e-05]]),\n",
       " array([[1.27106877e-05]]),\n",
       " array([[1.35024792e-05]]),\n",
       " array([[1.28433482e-05]]),\n",
       " array([[1.29709793e-05]]),\n",
       " array([[1.33414283e-05]]),\n",
       " array([[1.32514929e-05]]),\n",
       " array([[1.34234579e-05]]),\n",
       " array([[1.1457772e-05]]),\n",
       " array([[1.34629851e-05]]),\n",
       " array([[1.28615577e-05]]),\n",
       " array([[1.3106111e-05]]),\n",
       " array([[1.19934057e-05]]),\n",
       " array([[1.16729447e-05]]),\n",
       " array([[1.2043434e-05]]),\n",
       " array([[1.30860786e-05]]),\n",
       " array([[1.32042842e-05]]),\n",
       " array([[1.19253177e-05]]),\n",
       " array([[1.23002914e-05]]),\n",
       " array([[1.18098525e-05]]),\n",
       " array([[1.20892545e-05]]),\n",
       " array([[1.3636092e-05]]),\n",
       " array([[1.18471792e-05]]),\n",
       " array([[1.34866099e-05]]),\n",
       " array([[1.21915739e-05]]),\n",
       " array([[1.26705524e-05]]),\n",
       " array([[1.34277311e-05]]),\n",
       " array([[1.36823251e-05]]),\n",
       " array([[1.14054276e-05]]),\n",
       " array([[1.28200547e-05]]),\n",
       " array([[1.25789238e-05]]),\n",
       " array([[1.26722282e-05]]),\n",
       " array([[1.11925072e-05]]),\n",
       " array([[1.29519805e-05]]),\n",
       " array([[1.20455388e-05]]),\n",
       " array([[1.29466185e-05]]),\n",
       " array([[1.27335086e-05]]),\n",
       " array([[1.26665866e-05]]),\n",
       " array([[1.25533467e-05]]),\n",
       " array([[1.3610383e-05]]),\n",
       " array([[1.36655017e-05]]),\n",
       " array([[1.31325652e-05]]),\n",
       " array([[1.34489973e-05]]),\n",
       " array([[1.31158345e-05]]),\n",
       " array([[1.35194102e-05]]),\n",
       " array([[1.29675291e-05]]),\n",
       " array([[1.36020111e-05]]),\n",
       " array([[1.21224382e-05]]),\n",
       " array([[1.07821214e-05]]),\n",
       " array([[1.2714432e-05]]),\n",
       " array([[1.29800988e-05]]),\n",
       " array([[1.2184074e-05]]),\n",
       " array([[1.27801844e-05]]),\n",
       " array([[1.18575245e-05]]),\n",
       " array([[1.28797716e-05]]),\n",
       " array([[1.19787233e-05]]),\n",
       " array([[1.34694313e-05]]),\n",
       " array([[1.2296578e-05]]),\n",
       " array([[1.25593386e-05]]),\n",
       " array([[1.26844204e-05]]),\n",
       " array([[1.41483701e-05]]),\n",
       " array([[1.30518486e-05]]),\n",
       " array([[1.2618596e-05]]),\n",
       " array([[1.31364322e-05]]),\n",
       " array([[1.20871449e-05]]),\n",
       " array([[1.39110486e-05]]),\n",
       " array([[1.3453863e-05]]),\n",
       " array([[1.19704117e-05]]),\n",
       " array([[1.36249916e-05]]),\n",
       " array([[1.23982456e-05]]),\n",
       " array([[1.17840801e-05]]),\n",
       " array([[1.28585011e-05]]),\n",
       " array([[1.26509679e-05]]),\n",
       " array([[1.32336871e-05]]),\n",
       " array([[1.30691051e-05]]),\n",
       " array([[1.30917895e-05]]),\n",
       " array([[1.33296911e-05]]),\n",
       " array([[1.31993306e-05]]),\n",
       " array([[1.25968431e-05]]),\n",
       " array([[1.36808397e-05]]),\n",
       " array([[1.22177325e-05]]),\n",
       " array([[1.20062575e-05]]),\n",
       " array([[1.41899276e-05]]),\n",
       " array([[1.24676301e-05]]),\n",
       " array([[1.34936478e-05]]),\n",
       " array([[1.31923112e-05]]),\n",
       " array([[1.30289191e-05]]),\n",
       " array([[1.25190996e-05]]),\n",
       " array([[1.20905571e-05]]),\n",
       " array([[1.2594374e-05]]),\n",
       " array([[1.16454876e-05]]),\n",
       " array([[1.40544461e-05]]),\n",
       " array([[1.27353943e-05]]),\n",
       " array([[1.33630114e-05]]),\n",
       " array([[1.18730771e-05]]),\n",
       " array([[1.24538332e-05]]),\n",
       " array([[1.27286871e-05]]),\n",
       " array([[1.25089632e-05]]),\n",
       " array([[1.3172374e-05]]),\n",
       " array([[1.19155507e-05]]),\n",
       " array([[1.35367482e-05]]),\n",
       " array([[1.37250477e-05]]),\n",
       " array([[1.31343522e-05]]),\n",
       " array([[1.36779203e-05]]),\n",
       " array([[1.19819934e-05]]),\n",
       " array([[1.2798716e-05]]),\n",
       " array([[1.39004161e-05]]),\n",
       " array([[1.259119e-05]]),\n",
       " array([[1.29794357e-05]]),\n",
       " array([[1.15616777e-05]]),\n",
       " array([[1.31412164e-05]]),\n",
       " array([[1.33151476e-05]])]"
      ]
     },
     "execution_count": 123,
     "metadata": {},
     "output_type": "execute_result"
    }
   ],
   "source": [
    "coef_list"
   ]
  },
  {
   "cell_type": "code",
   "execution_count": 120,
   "metadata": {},
   "outputs": [
    {
     "name": "stderr",
     "output_type": "stream",
     "text": [
      "/Users/anterra/opt/anaconda3/lib/python3.7/site-packages/seaborn/axisgrid.py:2264: UserWarning: The `size` parameter has been renamed to `height`; please update your code.\n",
      "  warnings.warn(msg, UserWarning)\n"
     ]
    },
    {
     "ename": "IndexError",
     "evalue": "boolean index did not match indexed array along dimension 1; dimension is 1 but corresponding boolean dimension is 200",
     "output_type": "error",
     "traceback": [
      "\u001b[0;31m---------------------------------------------------------------------------\u001b[0m",
      "\u001b[0;31mIndexError\u001b[0m                                Traceback (most recent call last)",
      "\u001b[0;32m<ipython-input-120-4330e785f896>\u001b[0m in \u001b[0;36m<module>\u001b[0;34m\u001b[0m\n\u001b[1;32m      1\u001b[0m \u001b[0;32mimport\u001b[0m \u001b[0mseaborn\u001b[0m \u001b[0;32mas\u001b[0m \u001b[0msns\u001b[0m\u001b[0;34m\u001b[0m\u001b[0;34m\u001b[0m\u001b[0m\n\u001b[0;32m----> 2\u001b[0;31m \u001b[0msns\u001b[0m\u001b[0;34m.\u001b[0m\u001b[0mjointplot\u001b[0m\u001b[0;34m(\u001b[0m\u001b[0mcoef_list\u001b[0m\u001b[0;34m,\u001b[0m \u001b[0mint_list\u001b[0m\u001b[0;34m,\u001b[0m \u001b[0msize\u001b[0m\u001b[0;34m=\u001b[0m\u001b[0;36m10\u001b[0m\u001b[0;34m)\u001b[0m\u001b[0;34m\u001b[0m\u001b[0;34m\u001b[0m\u001b[0m\n\u001b[0m",
      "\u001b[0;32m~/opt/anaconda3/lib/python3.7/site-packages/seaborn/axisgrid.py\u001b[0m in \u001b[0;36mjointplot\u001b[0;34m(x, y, data, kind, stat_func, color, height, ratio, space, dropna, xlim, ylim, joint_kws, marginal_kws, annot_kws, **kwargs)\u001b[0m\n\u001b[1;32m   2281\u001b[0m     grid = JointGrid(x, y, data, dropna=dropna,\n\u001b[1;32m   2282\u001b[0m                      \u001b[0mheight\u001b[0m\u001b[0;34m=\u001b[0m\u001b[0mheight\u001b[0m\u001b[0;34m,\u001b[0m \u001b[0mratio\u001b[0m\u001b[0;34m=\u001b[0m\u001b[0mratio\u001b[0m\u001b[0;34m,\u001b[0m \u001b[0mspace\u001b[0m\u001b[0;34m=\u001b[0m\u001b[0mspace\u001b[0m\u001b[0;34m,\u001b[0m\u001b[0;34m\u001b[0m\u001b[0;34m\u001b[0m\u001b[0m\n\u001b[0;32m-> 2283\u001b[0;31m                      xlim=xlim, ylim=ylim)\n\u001b[0m\u001b[1;32m   2284\u001b[0m \u001b[0;34m\u001b[0m\u001b[0m\n\u001b[1;32m   2285\u001b[0m     \u001b[0;31m# Plot the data using the grid\u001b[0m\u001b[0;34m\u001b[0m\u001b[0;34m\u001b[0m\u001b[0;34m\u001b[0m\u001b[0m\n",
      "\u001b[0;32m~/opt/anaconda3/lib/python3.7/site-packages/seaborn/axisgrid.py\u001b[0m in \u001b[0;36m__init__\u001b[0;34m(self, x, y, data, height, ratio, space, dropna, xlim, ylim, size)\u001b[0m\n\u001b[1;32m   1717\u001b[0m         \u001b[0;32mif\u001b[0m \u001b[0mdropna\u001b[0m\u001b[0;34m:\u001b[0m\u001b[0;34m\u001b[0m\u001b[0;34m\u001b[0m\u001b[0m\n\u001b[1;32m   1718\u001b[0m             \u001b[0mnot_na\u001b[0m \u001b[0;34m=\u001b[0m \u001b[0mpd\u001b[0m\u001b[0;34m.\u001b[0m\u001b[0mnotnull\u001b[0m\u001b[0;34m(\u001b[0m\u001b[0mx_array\u001b[0m\u001b[0;34m)\u001b[0m \u001b[0;34m&\u001b[0m \u001b[0mpd\u001b[0m\u001b[0;34m.\u001b[0m\u001b[0mnotnull\u001b[0m\u001b[0;34m(\u001b[0m\u001b[0my_array\u001b[0m\u001b[0;34m)\u001b[0m\u001b[0;34m\u001b[0m\u001b[0;34m\u001b[0m\u001b[0m\n\u001b[0;32m-> 1719\u001b[0;31m             \u001b[0mx_array\u001b[0m \u001b[0;34m=\u001b[0m \u001b[0mx_array\u001b[0m\u001b[0;34m[\u001b[0m\u001b[0mnot_na\u001b[0m\u001b[0;34m]\u001b[0m\u001b[0;34m\u001b[0m\u001b[0;34m\u001b[0m\u001b[0m\n\u001b[0m\u001b[1;32m   1720\u001b[0m             \u001b[0my_array\u001b[0m \u001b[0;34m=\u001b[0m \u001b[0my_array\u001b[0m\u001b[0;34m[\u001b[0m\u001b[0mnot_na\u001b[0m\u001b[0;34m]\u001b[0m\u001b[0;34m\u001b[0m\u001b[0;34m\u001b[0m\u001b[0m\n\u001b[1;32m   1721\u001b[0m \u001b[0;34m\u001b[0m\u001b[0m\n",
      "\u001b[0;31mIndexError\u001b[0m: boolean index did not match indexed array along dimension 1; dimension is 1 but corresponding boolean dimension is 200"
     ]
    },
    {
     "data": {
      "image/png": "[encoded data removed]",
      "text/plain": [
       "<Figure size 720x720 with 3 Axes>"
      ]
     },
     "metadata": {
      "needs_background": "light"
     },
     "output_type": "display_data"
    }
   ],
   "source": [
    "import seaborn as sns\n",
    "sns.jointplot(coef_list, int_list, size=10)"
   ]
  },
  {
   "cell_type": "code",
   "execution_count": null,
   "metadata": {},
   "outputs": [],
   "source": []
  }
 ],
 "metadata": {
  "kernelspec": {
   "display_name": "Python 3",
   "language": "python",
   "name": "python3"
  },
  "language_info": {
   "codemirror_mode": {
    "name": "ipython",
    "version": 3
   },
   "file_extension": ".py",
   "mimetype": "text/x-python",
   "name": "python",
   "nbconvert_exporter": "python",
   "pygments_lexer": "ipython3",
   "version": "3.7.7"
  }
 },
 "nbformat": 4,
 "nbformat_minor": 4
}
