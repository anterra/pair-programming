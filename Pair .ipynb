{
 "cells": [
  {
   "cell_type": "markdown",
   "metadata": {},
   "source": [
    "1) Write a simple function that takes two matrices of equal dimensions (a target and a filter), multiplies together their entries element by element, then sums across all the results. You can think of this as a sort of 2-dimensional dot product.\n",
    "\n",
    "For example, with these matrices: you should get 8 when running your function with the below: 1 * 1 + 0 * 0 + 2 * 1 + 2 * 0 ...\n",
    "\n",
    "```\n",
    "mat = np.array([[1,0,2],\n",
    "                [2,1,1],\n",
    "                [1,1,3]])\n",
    "\n",
    "filt = np.array([[1,0,1],\n",
    "                 [0,1,0],\n",
    "                 [1,0,1]])\n",
    "```\n",
    "\n",
    "2) Now write a function that utilizes the first as follows: assume the filter matrix has odd dimensions hence has a center (e.g. 3x3). Starting from the top left corner of the target matrix and moving right then down, find all entries that can be aligned with the center of the filter matrix such that you can call the function you just wrote (i.e. you can fit the filter into that part of the matrix). \n",
    "\n",
    "As you find valid centers, call your function on the corresponding subsection and store the results in a 2-dim array (matrix). The dimensions are given by the number of total steps you can validly take horizontally and vertically.\n",
    "\n",
    "So for example, with a 4x5 target matrix and a 3x3 filter, the output dimensions will be 2x3.\n",
    "\n",
    "You should get [[5,2,13],[4,4,2]] when running this new function with the below. The valid centers are the entries at (1,1), (1,2), (1,3), (2,1), ... \n",
    "\n",
    "```\n",
    "1*1 + 1*1 + 3* 1 = 5  \n",
    "0 * 1 + 1 * 1 + 1 * 1 = 2 \n",
    "2 * 1 + 4 * 1 + 7 * 1 = 13 \n",
    "2 * 1 + 1 * 1 + 1 * 1 = 4 \n",
    "...\n",
    "```\n",
    "\n",
    "```\n",
    "mat = np.array([[1,0,2,3,3],\n",
    "                [2,1,1,4,1],\n",
    "                [1,1,3,1,7],\n",
    "                [1,1,1,0,0]])\n",
    "\n",
    "filt = np.array([[1,0,0],\n",
    "                 [0,1,0],\n",
    "                 [0,0,1]])\n",
    "```\n",
    "\n",
    "This is a convolution!"
   ]
  },
  {
   "cell_type": "code",
   "execution_count": 1,
   "metadata": {},
   "outputs": [],
   "source": [
    "import numpy as np"
   ]
  },
  {
   "cell_type": "code",
   "execution_count": 2,
   "metadata": {},
   "outputs": [],
   "source": [
    "mat = np.array([[1,0,2],\n",
    "                [2,1,1],\n",
    "                [1,1,3]])\n",
    "\n",
    "filt = np.array([[1,0,1],\n",
    "                 [0,1,0],\n",
    "                 [1,0,1]])"
   ]
  },
  {
   "cell_type": "code",
   "execution_count": 3,
   "metadata": {},
   "outputs": [],
   "source": [
    "\n",
    "def multiply(mat, filt):\n",
    "    nums = []\n",
    "    for i in  range(len(filt)):\n",
    "        for j in range (len(filt[0])):\n",
    "            num = mat[i][j]*filt[i][j]\n",
    "            nums.append(num)\n",
    "    sum_final = np.sum(nums)\n",
    "    return sum_final\n",
    "            "
   ]
  },
  {
   "cell_type": "code",
   "execution_count": 4,
   "metadata": {},
   "outputs": [
    {
     "output_type": "execute_result",
     "data": {
      "text/plain": "8"
     },
     "metadata": {},
     "execution_count": 4
    }
   ],
   "source": [
    "multiply(mat, filt)"
   ]
  },
  {
   "cell_type": "code",
   "execution_count": 5,
   "metadata": {},
   "outputs": [],
   "source": [
    "mat = np.array([[1,0,2,3,3],\n",
    "                [2,1,1,4,1],\n",
    "                [1,1,3,1,7],\n",
    "                [1,1,1,0,0]])\n",
    "\n",
    "filt = np.array([[1,0,0],\n",
    "                 [0,1,0],\n",
    "                 [0,0,1]])"
   ]
  },
  {
   "cell_type": "code",
   "execution_count": 86,
   "metadata": {},
   "outputs": [],
   "source": [
    "def convolution(mat, filt):\n",
    "    x = len(filt)\n",
    "    y = len(filt[0])\n",
    "    matrix = []\n",
    "    for w in range(0, len(mat)-x):\n",
    "        print(w)\n",
    "        row_nums = []\n",
    "        for z in range(0, len(mat[0])-y):\n",
    "            print(z)\n",
    "            subset = mat[w:(w+x), z:(z+y)]\n",
    "            num = multiply(subset, filt)\n",
    "            row_nums.append(num)\n",
    "            matrix.append(row_nums)\n",
    "    return matrix\n",
    "            "
   ]
  },
  {
   "cell_type": "code",
   "execution_count": 87,
   "metadata": {
    "tags": []
   },
   "outputs": [
    {
     "output_type": "stream",
     "name": "stdout",
     "text": "0\n0\n1\n"
    },
    {
     "output_type": "execute_result",
     "data": {
      "text/plain": "[[5, 2], [5, 2]]"
     },
     "metadata": {},
     "execution_count": 87
    }
   ],
   "source": [
    "convolution(mat, filt)"
   ]
  },
  {
   "cell_type": "code",
   "execution_count": null,
   "metadata": {},
   "outputs": [],
   "source": []
  },
  {
   "cell_type": "code",
   "execution_count": null,
   "metadata": {},
   "outputs": [],
   "source": []
  }
 ],
 "metadata": {
  "kernelspec": {
   "display_name": "Python 3.7.7 64-bit ('base': conda)",
   "language": "python",
   "name": "python_defaultSpec_1597773861722"
  },
  "language_info": {
   "codemirror_mode": {
    "name": "ipython",
    "version": 3
   },
   "file_extension": ".py",
   "mimetype": "text/x-python",
   "name": "python",
   "nbconvert_exporter": "python",
   "pygments_lexer": "ipython3",
   "version": "3.8.5"
  }
 },
 "nbformat": 4,
 "nbformat_minor": 4
}