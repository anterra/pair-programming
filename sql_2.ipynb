{
 "metadata": {
  "language_info": {
   "codemirror_mode": {
    "name": "ipython",
    "version": 3
   },
   "file_extension": ".py",
   "mimetype": "text/x-python",
   "name": "python",
   "nbconvert_exporter": "python",
   "pygments_lexer": "ipython3",
   "version": 3
  },
  "orig_nbformat": 2
 },
 "nbformat": 4,
 "nbformat_minor": 2,
 "cells": [
  {
   "cell_type": "markdown",
   "metadata": {},
   "source": [
    "This question was asked by Calm.\n",
    "\n",
    "TABLE: likes\n",
    "\n",
    "columns\ttype\n",
    "user_id\tint\n",
    "liker_id\tint\n",
    "created_at\tdatetime\n",
    "A dating website's schema is represented by a table of people that like other people. The table has three columns. One column is the user_id, another column is the liker_id which is the user_id of the user doing the liking, and the last column is the date time that the like occured.\n",
    "\n",
    "Write a query to count the number of liker's likers (the users that like the likers) if the liker has one.\n",
    "\n",
    "Example:\n",
    "\n",
    "Input\n",
    "\n",
    "user\tliker\n",
    "A\tB\n",
    "B\tC\n",
    "B\tD\n",
    "D\tE\n",
    "Output\n",
    "\n",
    "user\tcount\n",
    "B\t2\n",
    "D\t1\n",
    "Comments Histogram\n"
   ]
  },
  {
   "cell_type": "code",
   "execution_count": null,
   "metadata": {},
   "outputs": [],
   "source": [
    "SELECT ct.user_id, ct.liker_count\n",
    "FROM likes\n",
    "LEFT INNER JOIN (\n",
    "SELECT user_id, count(user_id) as liker_count\n",
    "FROM likes\n",
    "GROUP BY user_id) as ct\n",
    "ON likes.liker_id=ct.user_id"
   ]
  },
  {
   "cell_type": "markdown",
   "metadata": {},
   "source": [
    "\n",
    "This question was asked by Facebook.\n",
    "\n",
    "TABLE: USERS\n",
    "\n",
    "columns\ttype\n",
    "id\tint\n",
    "name\tvarchar\n",
    "joined_at\tdatetime\n",
    "city_id\tint\n",
    "device\tint\n",
    "TABLE: USER_COMMENTS\n",
    "\n",
    "columns\ttype\n",
    "user_id\tint\n",
    "body\ttext\n",
    "created_at\tdatetime\n",
    "Write a SQL query to create a histogram of number of comments per user in the month of January 2019. Assume bin buckets class intervals of one."
   ]
  },
  {
   "cell_type": "code",
   "execution_count": null,
   "metadata": {},
   "outputs": [],
   "source": [
    "SELECT comment_count, COUNT(comment_count) as num_users\n",
    "FROM (\n",
    "SELECT user_id, COUNT(user_id) as comment_count\n",
    "FROM USER_COMMENTS\n",
    "GROUP BY user_id\n",
    "WHERE datetime < \"2019-02-01\" AND datetime > \"2018-12-31\")\n",
    "GROUP BY comment_count"
   ]
  }
 ]
}