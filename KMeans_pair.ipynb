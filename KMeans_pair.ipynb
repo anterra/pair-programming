{
 "cells": [
  {
   "cell_type": "code",
   "execution_count": 1,
   "metadata": {},
   "outputs": [],
   "source": [
    "import numpy as np\n",
    "import matplotlib.pyplot as plt\n",
    "%matplotlib inline\n",
    "from copy import deepcopy"
   ]
  },
  {
   "cell_type": "code",
   "execution_count": 2,
   "metadata": {},
   "outputs": [],
   "source": [
    "from sklearn.datasets import make_blobs"
   ]
  },
  {
   "cell_type": "markdown",
   "metadata": {},
   "source": [
    "# The KMeans Algorithm\n",
    "\n",
    "The algorithm essentially works in a few repeated steps:\n",
    "\n",
    "1. Select $k$ centroids $c_1,\\ c_2,\\ \\dots,\\ c_k$, to define $k$ clusters. *(Your selection here is arbitrary.)*\n",
    "2. Assign each point to the closest centroid, i.e., define $k$ clusters by their centroids, precisely $c_1,\\ c_2,\\ \\dots,\\ c_k$. Log the whether or not there have been changes in cluster assignment.\n",
    "3. For each cluster, define the \"average point\" $c_1',\\ c_2',\\ \\dots,\\ c_k'$, or $k$ new centroids. That is, if `X_i` is the Numpy array (shape `(n_i, 2)`) of all the $n_i$ points in cluster $c_i$, then $c_i'$ = `X_i.mean(axis=0)`.\n",
    "4. Repeat steps 2 and 3 until there are no new cluster assignments."
   ]
  },
  {
   "cell_type": "markdown",
   "metadata": {},
   "source": [
    "## 1. Initialize our algorithm\n",
    "Define our data (our initial points), and define a distance metric. We also define our algorithm as per the instructions above. Arbitrarily, we'll initialize our centroids as the first k points. \n",
    "\n",
    "### *(Optional)*\n",
    "*After you create a functioning algorithm, try other initial centroid states. E.g., random points, perimeter points, etc. Do some initial centroid states make the algorithm run faster than others?*"
   ]
  },
  {
   "cell_type": "code",
   "execution_count": 3,
   "metadata": {},
   "outputs": [],
   "source": [
    "points, _ = make_blobs(n_samples=100, centers=3, n_features=2, random_state=0)"
   ]
  },
  {
   "cell_type": "code",
   "execution_count": 4,
   "metadata": {},
   "outputs": [],
   "source": [
    "def distance(A, B):\n",
    "    squares = [(a - b) ** 2 for a, b in zip(A, B)]\n",
    "    return sum(squares) ** 0.5"
   ]
  },
  {
   "cell_type": "code",
   "execution_count": 11,
   "metadata": {},
   "outputs": [],
   "source": [
    "def KMeans(points,k=3):\n",
    "    clusters = np.zeros(len(points))\n",
    "    centroids = deepcopy(points[:k])\n",
    "    while assign(points,centroids,clusters):\n",
    "        update(points,centroids,clusters)\n",
    "    plt.scatter([p[0] for p in points],[p[1] for p in points],c=clusters)\n",
    "    plt.show()"
   ]
  },
  {
   "cell_type": "markdown",
   "metadata": {},
   "source": [
    "## 2. Update Centroids\n",
    "\n",
    "Assume we already have defined clusters from the last iteration. Then, any centroid is just the average of all points in its cluster."
   ]
  },
  {
   "cell_type": "code",
   "execution_count": 10,
   "metadata": {},
   "outputs": [],
   "source": [
    "def update(points,centroids,clusters):\n",
    "    cluster_groups = np.unique(clusters)\n",
    "    \n",
    "    for i, group in enumerate(cluster_groups):\n",
    "        cluster_indexes = np.where(clusters == group)\n",
    "        cluster_points = []\n",
    "        for index in cluster_indexes:\n",
    "            cluster_points.append(points[index])\n",
    "        average = np.mean(cluster_points)\n",
    "        centroids[i] = average    \n",
    "        \n",
    "    \n",
    "    return None  # you don't need to return anything since the variables are shared in the `KMeans` function"
   ]
  },
  {
   "cell_type": "markdown",
   "metadata": {},
   "source": [
    "## 3. Reassign Points\n",
    "\n",
    "For each point, find the distance to all centroids and assign it to the closest one. The distance function is already available above."
   ]
  },
  {
   "cell_type": "code",
   "execution_count": 61,
   "metadata": {},
   "outputs": [],
   "source": [
    "def assign(points,centroids,clusters):\n",
    "    \n",
    "    centroid_list = [tuple(centroid) for centroid in centroids]\n",
    "    centroid_names = dict(zip(centroid_list,[1, 2, 3]))\n",
    "    init_clusters = deepcopy(clusters)\n",
    "    for i, point in enumerate(points):\n",
    "        distances = {}\n",
    "        for centroid in centroids:\n",
    "            current_dist = distance(point, centroid)\n",
    "            distances[current_dist] = centroid\n",
    "        closest_dist = np.min(list(distances.keys()))\n",
    "        \n",
    "        clusters[i] = centroid_names.get((tuple(distances[closest_dist])))\n",
    "    \n",
    "    if np.array_equiv(init_clusters,clusters):\n",
    "        return False\n",
    "    else: \n",
    "        return True\n",
    "        # has there been a change in clusters?"
   ]
  },
  {
   "cell_type": "markdown",
   "metadata": {},
   "source": [
    "We have a points array of length 100. We create \"clusters\" to be a list of the same length. We can use it to assign each point a cluster number. We will have k \"centroids\"."
   ]
  },
  {
   "cell_type": "markdown",
   "metadata": {},
   "source": [
    "## 4. Rinse, Repeat\n",
    "Run the algorithm 'till it's done!"
   ]
  },
  {
   "cell_type": "code",
   "execution_count": 62,
   "metadata": {},
   "outputs": [
    {
     "data": {
      "image/png": "[encoded data removed]",
      "text/plain": [
       "<Figure size 432x288 with 1 Axes>"
      ]
     },
     "metadata": {
      "needs_background": "light"
     },
     "output_type": "display_data"
    }
   ],
   "source": [
    "KMeans(points, k=3)"
   ]
  },
  {
   "cell_type": "code",
   "execution_count": null,
   "metadata": {},
   "outputs": [],
   "source": []
  }
 ],
 "metadata": {
  "kernelspec": {
   "display_name": "Python 3",
   "language": "python",
   "name": "python3"
  },
  "language_info": {
   "codemirror_mode": {
    "name": "ipython",
    "version": 3
   },
   "file_extension": ".py",
   "mimetype": "text/x-python",
   "name": "python",
   "nbconvert_exporter": "python",
   "pygments_lexer": "ipython3",
   "version": "3.7.7"
  }
 },
 "nbformat": 4,
 "nbformat_minor": 4
}
