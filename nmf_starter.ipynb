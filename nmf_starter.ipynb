{
 "cells": [
  {
   "cell_type": "markdown",
   "metadata": {},
   "source": [
    "# NMF Pair (Starter)\n",
    "\n",
    "Download the pre-processed BBC Dataset [here](http://mlg.ucd.ie/files/datasets/bbc.zip). This data consists of articles collected from 5 different categories (so, we know there should be 5 topics in our model), and the data is pre-processed.\n",
    "\n",
    "1. Read in the terms, documents, and the term-document matrix, $M$ (this is in COOrdinate format).\n",
    "2. Run Non-Negative Matrix Factorization (NMF, decomposing $M\\simeq WH$) for 5 topics. Save $W$ (the term-topic matrix), and $H$ (the topic-document matrix), and look at their shapes.\n",
    "3. (a) Given a topic, find the 5 terms that align most strongly with this topic. Use this function to give a name to each topic. (b) Given a document *index*, show the \"weights\" for the topics' contribution to information about that document (Hint: For this, you'll need $H^\\top$ ... don't worry too much about what the document is, just reference the index).\n",
    "4. *(Optional)* Use the documents (from #1) to determine the five category names. Given this information, and using results from #2 and #3, how well does the NMF assignment align with document category assignment?\n",
    "5. *(Also Optional)* NMF provides an *approximation* for matrix decomposition. Plot the error between the actual matrix and the one derived from the NMF decomposition."
   ]
  },
  {
   "cell_type": "markdown",
   "metadata": {},
   "source": [
    "## 1. Read in Data\n",
    "\n",
    "First, we need to download the [data](http://mlg.ucd.ie/files/datasets/bbc.zip) into a `./bbc` folder in this directory. Then, we want to get the **terms** (*bbc.terms*), the **documents** (*bbc.docs*), and then the **term-document matrix** (*bbc.mtx*). "
   ]
  },
  {
   "cell_type": "code",
   "execution_count": 44,
   "metadata": {},
   "outputs": [],
   "source": [
    "# Terms\n",
    "with open('./bbc/bbc.terms') as f:\n",
    "    content = f.readlines()\n",
    "terms = [c.split()[0] for c in content]\n",
    "\n",
    "# Docs\n",
    "with open('./bbc/bbc.docs') as f:\n",
    "    content = f.readlines()\n",
    "docs = [c.split()[0] for c in content]\n",
    "\n",
    "# Term-Doc Matrix\n",
    "with open('./bbc/bbc.mtx') as f:\n",
    "    content = f.readlines()"
   ]
  },
  {
   "cell_type": "code",
   "execution_count": 45,
   "metadata": {},
   "outputs": [
    {
     "output_type": "execute_result",
     "data": {
      "text/plain": "['%%MatrixMarket matrix coordinate real general\\n',\n '9635 2225 286774\\n',\n '1 1 1.0\\n',\n '1 7 2.0\\n',\n '1 11 1.0\\n']"
     },
     "metadata": {},
     "execution_count": 45
    }
   ],
   "source": [
    "content[:5]"
   ]
  },
  {
   "cell_type": "code",
   "execution_count": 46,
   "metadata": {},
   "outputs": [
    {
     "output_type": "execute_result",
     "data": {
      "text/plain": "'9635 2225 286774\\n'"
     },
     "metadata": {},
     "execution_count": 46
    }
   ],
   "source": [
    "content.pop(0)\n",
    "content.pop(0)"
   ]
  },
  {
   "cell_type": "code",
   "execution_count": 47,
   "metadata": {},
   "outputs": [
    {
     "output_type": "execute_result",
     "data": {
      "text/plain": "['1 1 1.0\\n', '1 7 2.0\\n', '1 11 1.0\\n', '1 14 1.0\\n', '1 15 2.0\\n']"
     },
     "metadata": {},
     "execution_count": 47
    }
   ],
   "source": [
    "content[:5]"
   ]
  },
  {
   "cell_type": "markdown",
   "metadata": {},
   "source": [
    "This is a [**COOrdinate formatted sparse matrix**](https://docs.scipy.org/doc/scipy/reference/generated/scipy.sparse.coo_matrix.html), where the element `'1 7 2.0\\n'` implies that $M_{1,7}=2.0$, i.e., in our case, term #1 shows up in document #7 exactly 2 times. Try Googling *MatrixMarket* and this *.mtx* file extension ..."
   ]
  },
  {
   "cell_type": "code",
   "execution_count": 48,
   "metadata": {},
   "outputs": [],
   "source": [
    "import numpy as np\n",
    "from scipy.sparse import coo_matrix"
   ]
  },
  {
   "cell_type": "code",
   "execution_count": 103,
   "metadata": {},
   "outputs": [],
   "source": [
    "from scipy.io import mmread, mmwrite\n",
    "a = mmread(\"./bbc/bbc.mtx\")"
   ]
  },
  {
   "cell_type": "code",
   "execution_count": 104,
   "metadata": {},
   "outputs": [],
   "source": [
    "content = a.todense()"
   ]
  },
  {
   "cell_type": "code",
   "execution_count": 105,
   "metadata": {},
   "outputs": [
    {
     "output_type": "execute_result",
     "data": {
      "text/plain": "matrix([[1., 0., 0., ..., 0., 0., 0.],\n        [5., 0., 4., ..., 0., 0., 1.],\n        [2., 1., 0., ..., 0., 0., 0.],\n        ...,\n        [0., 0., 0., ..., 0., 0., 0.],\n        [0., 0., 0., ..., 0., 0., 0.],\n        [0., 0., 0., ..., 0., 0., 0.]])"
     },
     "metadata": {},
     "execution_count": 105
    }
   ],
   "source": [
    "content"
   ]
  },
  {
   "cell_type": "code",
   "execution_count": 100,
   "metadata": {},
   "outputs": [
    {
     "output_type": "execute_result",
     "data": {
      "text/plain": "9635"
     },
     "metadata": {},
     "execution_count": 100
    }
   ],
   "source": [
    "len(terms)"
   ]
  },
  {
   "cell_type": "code",
   "execution_count": 108,
   "metadata": {},
   "outputs": [],
   "source": [
    "df = pd.DataFrame(content.T, columns=terms)"
   ]
  },
  {
   "cell_type": "code",
   "execution_count": 109,
   "metadata": {},
   "outputs": [
    {
     "output_type": "execute_result",
     "data": {
      "text/plain": "       ad  sale  boost  time  warner  profit  quarterli  media  giant  jump  \\\n0     1.0   5.0    2.0   3.0     4.0    10.0        1.0    1.0    1.0   1.0   \n1     0.0   0.0    1.0   2.0     0.0     0.0        0.0    0.0    0.0   0.0   \n2     0.0   4.0    0.0   0.0     0.0     0.0        0.0    0.0    1.0   0.0   \n3     0.0   1.0    0.0   0.0     0.0     4.0        1.0    0.0    0.0   0.0   \n4     0.0   0.0    0.0   1.0     0.0     0.0        0.0    0.0    1.0   0.0   \n...   ...   ...    ...   ...     ...     ...        ...    ...    ...   ...   \n2220  0.0   0.0    0.0   0.0     0.0     0.0        0.0    0.0    0.0   0.0   \n2221  0.0   0.0    0.0   1.0     0.0     1.0        0.0    1.0    0.0   0.0   \n2222  0.0   0.0    0.0   1.0     0.0     0.0        0.0    0.0    0.0   0.0   \n2223  0.0   0.0    0.0   0.0     0.0     0.0        0.0    0.0    0.0   0.0   \n2224  0.0   1.0    0.0  22.0     0.0     0.0        0.0    0.0    0.0   0.0   \n\n      ...  £339  denialofservic  ddo  seagrav  bot  wirelessli  streamcast  \\\n0     ...   0.0             0.0  0.0      0.0  0.0         0.0         0.0   \n1     ...   0.0             0.0  0.0      0.0  0.0         0.0         0.0   \n2     ...   0.0             0.0  0.0      0.0  0.0         0.0         0.0   \n3     ...   0.0             0.0  0.0      0.0  0.0         0.0         0.0   \n4     ...   0.0             0.0  0.0      0.0  0.0         0.0         0.0   \n...   ...   ...             ...  ...      ...  ...         ...         ...   \n2220  ...   0.0             0.0  0.0      0.0  0.0         0.0         0.0   \n2221  ...   0.0             0.0  0.0      0.0  0.0         0.0         0.0   \n2222  ...   0.0             0.0  0.0      0.0  0.0         0.0         0.0   \n2223  ...   0.0             0.0  0.0      0.0  0.0         0.0         0.0   \n2224  ...   0.0             0.0  0.0      0.0  0.0         0.0         0.0   \n\n      peripher  headphon  flavour  \n0          0.0       0.0      0.0  \n1          0.0       0.0      0.0  \n2          0.0       0.0      0.0  \n3          0.0       0.0      0.0  \n4          0.0       0.0      0.0  \n...        ...       ...      ...  \n2220       0.0       0.0      0.0  \n2221       0.0       0.0      0.0  \n2222       0.0       0.0      0.0  \n2223       0.0       0.0      0.0  \n2224       0.0       0.0      0.0  \n\n[2225 rows x 9635 columns]",
      "text/html": "<div>\n<style scoped>\n    .dataframe tbody tr th:only-of-type {\n        vertical-align: middle;\n    }\n\n    .dataframe tbody tr th {\n        vertical-align: top;\n    }\n\n    .dataframe thead th {\n        text-align: right;\n    }\n</style>\n<table border=\"1\" class=\"dataframe\">\n  <thead>\n    <tr style=\"text-align: right;\">\n      <th></th>\n      <th>ad</th>\n      <th>sale</th>\n      <th>boost</th>\n      <th>time</th>\n      <th>warner</th>\n      <th>profit</th>\n      <th>quarterli</th>\n      <th>media</th>\n      <th>giant</th>\n      <th>jump</th>\n      <th>...</th>\n      <th>£339</th>\n      <th>denialofservic</th>\n      <th>ddo</th>\n      <th>seagrav</th>\n      <th>bot</th>\n      <th>wirelessli</th>\n      <th>streamcast</th>\n      <th>peripher</th>\n      <th>headphon</th>\n      <th>flavour</th>\n    </tr>\n  </thead>\n  <tbody>\n    <tr>\n      <th>0</th>\n      <td>1.0</td>\n      <td>5.0</td>\n      <td>2.0</td>\n      <td>3.0</td>\n      <td>4.0</td>\n      <td>10.0</td>\n      <td>1.0</td>\n      <td>1.0</td>\n      <td>1.0</td>\n      <td>1.0</td>\n      <td>...</td>\n      <td>0.0</td>\n      <td>0.0</td>\n      <td>0.0</td>\n      <td>0.0</td>\n      <td>0.0</td>\n      <td>0.0</td>\n      <td>0.0</td>\n      <td>0.0</td>\n      <td>0.0</td>\n      <td>0.0</td>\n    </tr>\n    <tr>\n      <th>1</th>\n      <td>0.0</td>\n      <td>0.0</td>\n      <td>1.0</td>\n      <td>2.0</td>\n      <td>0.0</td>\n      <td>0.0</td>\n      <td>0.0</td>\n      <td>0.0</td>\n      <td>0.0</td>\n      <td>0.0</td>\n      <td>...</td>\n      <td>0.0</td>\n      <td>0.0</td>\n      <td>0.0</td>\n      <td>0.0</td>\n      <td>0.0</td>\n      <td>0.0</td>\n      <td>0.0</td>\n      <td>0.0</td>\n      <td>0.0</td>\n      <td>0.0</td>\n    </tr>\n    <tr>\n      <th>2</th>\n      <td>0.0</td>\n      <td>4.0</td>\n      <td>0.0</td>\n      <td>0.0</td>\n      <td>0.0</td>\n      <td>0.0</td>\n      <td>0.0</td>\n      <td>0.0</td>\n      <td>1.0</td>\n      <td>0.0</td>\n      <td>...</td>\n      <td>0.0</td>\n      <td>0.0</td>\n      <td>0.0</td>\n      <td>0.0</td>\n      <td>0.0</td>\n      <td>0.0</td>\n      <td>0.0</td>\n      <td>0.0</td>\n      <td>0.0</td>\n      <td>0.0</td>\n    </tr>\n    <tr>\n      <th>3</th>\n      <td>0.0</td>\n      <td>1.0</td>\n      <td>0.0</td>\n      <td>0.0</td>\n      <td>0.0</td>\n      <td>4.0</td>\n      <td>1.0</td>\n      <td>0.0</td>\n      <td>0.0</td>\n      <td>0.0</td>\n      <td>...</td>\n      <td>0.0</td>\n      <td>0.0</td>\n      <td>0.0</td>\n      <td>0.0</td>\n      <td>0.0</td>\n      <td>0.0</td>\n      <td>0.0</td>\n      <td>0.0</td>\n      <td>0.0</td>\n      <td>0.0</td>\n    </tr>\n    <tr>\n      <th>4</th>\n      <td>0.0</td>\n      <td>0.0</td>\n      <td>0.0</td>\n      <td>1.0</td>\n      <td>0.0</td>\n      <td>0.0</td>\n      <td>0.0</td>\n      <td>0.0</td>\n      <td>1.0</td>\n      <td>0.0</td>\n      <td>...</td>\n      <td>0.0</td>\n      <td>0.0</td>\n      <td>0.0</td>\n      <td>0.0</td>\n      <td>0.0</td>\n      <td>0.0</td>\n      <td>0.0</td>\n      <td>0.0</td>\n      <td>0.0</td>\n      <td>0.0</td>\n    </tr>\n    <tr>\n      <th>...</th>\n      <td>...</td>\n      <td>...</td>\n      <td>...</td>\n      <td>...</td>\n      <td>...</td>\n      <td>...</td>\n      <td>...</td>\n      <td>...</td>\n      <td>...</td>\n      <td>...</td>\n      <td>...</td>\n      <td>...</td>\n      <td>...</td>\n      <td>...</td>\n      <td>...</td>\n      <td>...</td>\n      <td>...</td>\n      <td>...</td>\n      <td>...</td>\n      <td>...</td>\n      <td>...</td>\n    </tr>\n    <tr>\n      <th>2220</th>\n      <td>0.0</td>\n      <td>0.0</td>\n      <td>0.0</td>\n      <td>0.0</td>\n      <td>0.0</td>\n      <td>0.0</td>\n      <td>0.0</td>\n      <td>0.0</td>\n      <td>0.0</td>\n      <td>0.0</td>\n      <td>...</td>\n      <td>0.0</td>\n      <td>0.0</td>\n      <td>0.0</td>\n      <td>0.0</td>\n      <td>0.0</td>\n      <td>0.0</td>\n      <td>0.0</td>\n      <td>0.0</td>\n      <td>0.0</td>\n      <td>0.0</td>\n    </tr>\n    <tr>\n      <th>2221</th>\n      <td>0.0</td>\n      <td>0.0</td>\n      <td>0.0</td>\n      <td>1.0</td>\n      <td>0.0</td>\n      <td>1.0</td>\n      <td>0.0</td>\n      <td>1.0</td>\n      <td>0.0</td>\n      <td>0.0</td>\n      <td>...</td>\n      <td>0.0</td>\n      <td>0.0</td>\n      <td>0.0</td>\n      <td>0.0</td>\n      <td>0.0</td>\n      <td>0.0</td>\n      <td>0.0</td>\n      <td>0.0</td>\n      <td>0.0</td>\n      <td>0.0</td>\n    </tr>\n    <tr>\n      <th>2222</th>\n      <td>0.0</td>\n      <td>0.0</td>\n      <td>0.0</td>\n      <td>1.0</td>\n      <td>0.0</td>\n      <td>0.0</td>\n      <td>0.0</td>\n      <td>0.0</td>\n      <td>0.0</td>\n      <td>0.0</td>\n      <td>...</td>\n      <td>0.0</td>\n      <td>0.0</td>\n      <td>0.0</td>\n      <td>0.0</td>\n      <td>0.0</td>\n      <td>0.0</td>\n      <td>0.0</td>\n      <td>0.0</td>\n      <td>0.0</td>\n      <td>0.0</td>\n    </tr>\n    <tr>\n      <th>2223</th>\n      <td>0.0</td>\n      <td>0.0</td>\n      <td>0.0</td>\n      <td>0.0</td>\n      <td>0.0</td>\n      <td>0.0</td>\n      <td>0.0</td>\n      <td>0.0</td>\n      <td>0.0</td>\n      <td>0.0</td>\n      <td>...</td>\n      <td>0.0</td>\n      <td>0.0</td>\n      <td>0.0</td>\n      <td>0.0</td>\n      <td>0.0</td>\n      <td>0.0</td>\n      <td>0.0</td>\n      <td>0.0</td>\n      <td>0.0</td>\n      <td>0.0</td>\n    </tr>\n    <tr>\n      <th>2224</th>\n      <td>0.0</td>\n      <td>1.0</td>\n      <td>0.0</td>\n      <td>22.0</td>\n      <td>0.0</td>\n      <td>0.0</td>\n      <td>0.0</td>\n      <td>0.0</td>\n      <td>0.0</td>\n      <td>0.0</td>\n      <td>...</td>\n      <td>0.0</td>\n      <td>0.0</td>\n      <td>0.0</td>\n      <td>0.0</td>\n      <td>0.0</td>\n      <td>0.0</td>\n      <td>0.0</td>\n      <td>0.0</td>\n      <td>0.0</td>\n      <td>0.0</td>\n    </tr>\n  </tbody>\n</table>\n<p>2225 rows × 9635 columns</p>\n</div>"
     },
     "metadata": {},
     "execution_count": 109
    }
   ],
   "source": [
    "df"
   ]
  },
  {
   "cell_type": "markdown",
   "metadata": {},
   "source": [
    "## 2. Run NMF"
   ]
  },
  {
   "cell_type": "code",
   "execution_count": 90,
   "metadata": {},
   "outputs": [],
   "source": [
    "from sklearn.decomposition import NMF\n",
    "import pandas as pd"
   ]
  },
  {
   "cell_type": "code",
   "execution_count": 110,
   "metadata": {},
   "outputs": [],
   "source": [
    "nmf = NMF(n_components=5, init='random', random_state=0)"
   ]
  },
  {
   "cell_type": "code",
   "execution_count": 111,
   "metadata": {},
   "outputs": [],
   "source": [
    "doc_topic = nmf.fit_transform(df)"
   ]
  },
  {
   "cell_type": "code",
   "execution_count": 113,
   "metadata": {},
   "outputs": [
    {
     "output_type": "execute_result",
     "data": {
      "text/plain": "array([[2.10263634e-01, 0.00000000e+00, 7.27404506e-03, 0.00000000e+00,\n        8.75726723e-02],\n       [2.34905675e-01, 4.57278883e-02, 3.35129589e-03, 0.00000000e+00,\n        0.00000000e+00],\n       [1.36242496e-01, 5.55477947e-02, 0.00000000e+00, 0.00000000e+00,\n        0.00000000e+00],\n       ...,\n       [1.69130881e-01, 3.84345933e-01, 4.06322692e-02, 0.00000000e+00,\n        2.81283950e-01],\n       [7.44678036e-02, 8.84384205e-02, 5.42514984e-03, 4.32139972e-03,\n        1.61927820e-01],\n       [0.00000000e+00, 0.00000000e+00, 4.11532941e+00, 0.00000000e+00,\n        6.64243304e-02]])"
     },
     "metadata": {},
     "execution_count": 113
    }
   ],
   "source": [
    "doc_topic"
   ]
  },
  {
   "cell_type": "code",
   "execution_count": 114,
   "metadata": {},
   "outputs": [],
   "source": [
    "W = pd.DataFrame(nmf.components_.round(3))"
   ]
  },
  {
   "cell_type": "code",
   "execution_count": 121,
   "metadata": {},
   "outputs": [],
   "source": [
    "W.columns = terms"
   ]
  },
  {
   "cell_type": "code",
   "execution_count": 117,
   "metadata": {},
   "outputs": [
    {
     "output_type": "execute_result",
     "data": {
      "text/plain": "(5, 9635)"
     },
     "metadata": {},
     "execution_count": 117
    }
   ],
   "source": [
    "W.shape"
   ]
  },
  {
   "cell_type": "code",
   "execution_count": 122,
   "metadata": {},
   "outputs": [
    {
     "output_type": "execute_result",
     "data": {
      "text/plain": "      ad   sale  boost   time  warner  profit  quarterli  media  giant   jump  \\\n0  1.196  2.816  0.733  2.137   0.020   1.626      0.120  0.077  0.457  0.272   \n1  0.737  0.000  0.098  1.198   0.000   0.000      0.000  0.193  0.000  0.005   \n2  0.637  0.387  0.048  3.757   0.036   0.000      0.000  0.178  0.079  0.120   \n3  0.562  0.442  0.146  1.168   0.026   0.049      0.000  0.061  0.024  0.298   \n4  0.667  0.398  0.052  1.169   0.050   0.049      0.008  1.170  0.268  0.000   \n\n   ...   £339  denialofservic    ddo  seagrav   bot  wirelessli  streamcast  \\\n0  ...  0.001           0.000  0.000    0.000  0.00        0.00       0.003   \n1  ...  0.000           0.000  0.002    0.004  0.00        0.00       0.000   \n2  ...  0.001           0.000  0.000    0.000  0.00        0.00       0.000   \n3  ...  0.000           0.000  0.000    0.000  0.00        0.00       0.006   \n4  ...  0.024           0.019  0.059    0.072  0.13        0.02       0.038   \n\n   peripher  headphon  flavour  \n0     0.003     0.000    0.002  \n1     0.000     0.000    0.000  \n2     0.002     0.004    0.000  \n3     0.000     0.000    0.000  \n4     0.028     0.027    0.020  \n\n[5 rows x 9635 columns]",
      "text/html": "<div>\n<style scoped>\n    .dataframe tbody tr th:only-of-type {\n        vertical-align: middle;\n    }\n\n    .dataframe tbody tr th {\n        vertical-align: top;\n    }\n\n    .dataframe thead th {\n        text-align: right;\n    }\n</style>\n<table border=\"1\" class=\"dataframe\">\n  <thead>\n    <tr style=\"text-align: right;\">\n      <th></th>\n      <th>ad</th>\n      <th>sale</th>\n      <th>boost</th>\n      <th>time</th>\n      <th>warner</th>\n      <th>profit</th>\n      <th>quarterli</th>\n      <th>media</th>\n      <th>giant</th>\n      <th>jump</th>\n      <th>...</th>\n      <th>£339</th>\n      <th>denialofservic</th>\n      <th>ddo</th>\n      <th>seagrav</th>\n      <th>bot</th>\n      <th>wirelessli</th>\n      <th>streamcast</th>\n      <th>peripher</th>\n      <th>headphon</th>\n      <th>flavour</th>\n    </tr>\n  </thead>\n  <tbody>\n    <tr>\n      <th>0</th>\n      <td>1.196</td>\n      <td>2.816</td>\n      <td>0.733</td>\n      <td>2.137</td>\n      <td>0.020</td>\n      <td>1.626</td>\n      <td>0.120</td>\n      <td>0.077</td>\n      <td>0.457</td>\n      <td>0.272</td>\n      <td>...</td>\n      <td>0.001</td>\n      <td>0.000</td>\n      <td>0.000</td>\n      <td>0.000</td>\n      <td>0.00</td>\n      <td>0.00</td>\n      <td>0.003</td>\n      <td>0.003</td>\n      <td>0.000</td>\n      <td>0.002</td>\n    </tr>\n    <tr>\n      <th>1</th>\n      <td>0.737</td>\n      <td>0.000</td>\n      <td>0.098</td>\n      <td>1.198</td>\n      <td>0.000</td>\n      <td>0.000</td>\n      <td>0.000</td>\n      <td>0.193</td>\n      <td>0.000</td>\n      <td>0.005</td>\n      <td>...</td>\n      <td>0.000</td>\n      <td>0.000</td>\n      <td>0.002</td>\n      <td>0.004</td>\n      <td>0.00</td>\n      <td>0.00</td>\n      <td>0.000</td>\n      <td>0.000</td>\n      <td>0.000</td>\n      <td>0.000</td>\n    </tr>\n    <tr>\n      <th>2</th>\n      <td>0.637</td>\n      <td>0.387</td>\n      <td>0.048</td>\n      <td>3.757</td>\n      <td>0.036</td>\n      <td>0.000</td>\n      <td>0.000</td>\n      <td>0.178</td>\n      <td>0.079</td>\n      <td>0.120</td>\n      <td>...</td>\n      <td>0.001</td>\n      <td>0.000</td>\n      <td>0.000</td>\n      <td>0.000</td>\n      <td>0.00</td>\n      <td>0.00</td>\n      <td>0.000</td>\n      <td>0.002</td>\n      <td>0.004</td>\n      <td>0.000</td>\n    </tr>\n    <tr>\n      <th>3</th>\n      <td>0.562</td>\n      <td>0.442</td>\n      <td>0.146</td>\n      <td>1.168</td>\n      <td>0.026</td>\n      <td>0.049</td>\n      <td>0.000</td>\n      <td>0.061</td>\n      <td>0.024</td>\n      <td>0.298</td>\n      <td>...</td>\n      <td>0.000</td>\n      <td>0.000</td>\n      <td>0.000</td>\n      <td>0.000</td>\n      <td>0.00</td>\n      <td>0.00</td>\n      <td>0.006</td>\n      <td>0.000</td>\n      <td>0.000</td>\n      <td>0.000</td>\n    </tr>\n    <tr>\n      <th>4</th>\n      <td>0.667</td>\n      <td>0.398</td>\n      <td>0.052</td>\n      <td>1.169</td>\n      <td>0.050</td>\n      <td>0.049</td>\n      <td>0.008</td>\n      <td>1.170</td>\n      <td>0.268</td>\n      <td>0.000</td>\n      <td>...</td>\n      <td>0.024</td>\n      <td>0.019</td>\n      <td>0.059</td>\n      <td>0.072</td>\n      <td>0.13</td>\n      <td>0.02</td>\n      <td>0.038</td>\n      <td>0.028</td>\n      <td>0.027</td>\n      <td>0.020</td>\n    </tr>\n  </tbody>\n</table>\n<p>5 rows × 9635 columns</p>\n</div>"
     },
     "metadata": {},
     "execution_count": 122
    }
   ],
   "source": [
    "W"
   ]
  },
  {
   "cell_type": "code",
   "execution_count": 118,
   "metadata": {},
   "outputs": [],
   "source": [
    "H = pd.DataFrame(doc_topic.round(5))"
   ]
  },
  {
   "cell_type": "code",
   "execution_count": 123,
   "metadata": {},
   "outputs": [
    {
     "output_type": "execute_result",
     "data": {
      "text/plain": "2225"
     },
     "metadata": {},
     "execution_count": 123
    }
   ],
   "source": [
    "len(docs)"
   ]
  },
  {
   "cell_type": "code",
   "execution_count": 119,
   "metadata": {},
   "outputs": [
    {
     "output_type": "execute_result",
     "data": {
      "text/plain": "(2225, 5)"
     },
     "metadata": {},
     "execution_count": 119
    }
   ],
   "source": [
    "H.shape"
   ]
  },
  {
   "cell_type": "code",
   "execution_count": 126,
   "metadata": {},
   "outputs": [],
   "source": [
    "H.index = docs"
   ]
  },
  {
   "cell_type": "code",
   "execution_count": 133,
   "metadata": {},
   "outputs": [],
   "source": [
    "for i in H.index:\n",
    "    i = i.strip(\".\")"
   ]
  },
  {
   "cell_type": "code",
   "execution_count": 134,
   "metadata": {},
   "outputs": [
    {
     "output_type": "execute_result",
     "data": {
      "text/plain": "                    0        1        2        3        4\nbusiness.001  0.21026  0.00000  0.00727  0.00000  0.08757\nbusiness.002  0.23491  0.04573  0.00335  0.00000  0.00000\nbusiness.003  0.13624  0.05555  0.00000  0.00000  0.00000\nbusiness.004  0.30459  0.00000  0.00000  0.00833  0.00000\nbusiness.005  0.10993  0.00095  0.00950  0.00647  0.03807\n...               ...      ...      ...      ...      ...\ntech.397      0.07824  0.00000  0.00000  0.00000  0.39175\ntech.398      0.04501  0.03267  0.00000  0.00000  0.30694\ntech.399      0.16913  0.38435  0.04063  0.00000  0.28128\ntech.400      0.07447  0.08844  0.00543  0.00432  0.16193\ntech.401      0.00000  0.00000  4.11533  0.00000  0.06642\n\n[2225 rows x 5 columns]",
      "text/html": "<div>\n<style scoped>\n    .dataframe tbody tr th:only-of-type {\n        vertical-align: middle;\n    }\n\n    .dataframe tbody tr th {\n        vertical-align: top;\n    }\n\n    .dataframe thead th {\n        text-align: right;\n    }\n</style>\n<table border=\"1\" class=\"dataframe\">\n  <thead>\n    <tr style=\"text-align: right;\">\n      <th></th>\n      <th>0</th>\n      <th>1</th>\n      <th>2</th>\n      <th>3</th>\n      <th>4</th>\n    </tr>\n  </thead>\n  <tbody>\n    <tr>\n      <th>business.001</th>\n      <td>0.21026</td>\n      <td>0.00000</td>\n      <td>0.00727</td>\n      <td>0.00000</td>\n      <td>0.08757</td>\n    </tr>\n    <tr>\n      <th>business.002</th>\n      <td>0.23491</td>\n      <td>0.04573</td>\n      <td>0.00335</td>\n      <td>0.00000</td>\n      <td>0.00000</td>\n    </tr>\n    <tr>\n      <th>business.003</th>\n      <td>0.13624</td>\n      <td>0.05555</td>\n      <td>0.00000</td>\n      <td>0.00000</td>\n      <td>0.00000</td>\n    </tr>\n    <tr>\n      <th>business.004</th>\n      <td>0.30459</td>\n      <td>0.00000</td>\n      <td>0.00000</td>\n      <td>0.00833</td>\n      <td>0.00000</td>\n    </tr>\n    <tr>\n      <th>business.005</th>\n      <td>0.10993</td>\n      <td>0.00095</td>\n      <td>0.00950</td>\n      <td>0.00647</td>\n      <td>0.03807</td>\n    </tr>\n    <tr>\n      <th>...</th>\n      <td>...</td>\n      <td>...</td>\n      <td>...</td>\n      <td>...</td>\n      <td>...</td>\n    </tr>\n    <tr>\n      <th>tech.397</th>\n      <td>0.07824</td>\n      <td>0.00000</td>\n      <td>0.00000</td>\n      <td>0.00000</td>\n      <td>0.39175</td>\n    </tr>\n    <tr>\n      <th>tech.398</th>\n      <td>0.04501</td>\n      <td>0.03267</td>\n      <td>0.00000</td>\n      <td>0.00000</td>\n      <td>0.30694</td>\n    </tr>\n    <tr>\n      <th>tech.399</th>\n      <td>0.16913</td>\n      <td>0.38435</td>\n      <td>0.04063</td>\n      <td>0.00000</td>\n      <td>0.28128</td>\n    </tr>\n    <tr>\n      <th>tech.400</th>\n      <td>0.07447</td>\n      <td>0.08844</td>\n      <td>0.00543</td>\n      <td>0.00432</td>\n      <td>0.16193</td>\n    </tr>\n    <tr>\n      <th>tech.401</th>\n      <td>0.00000</td>\n      <td>0.00000</td>\n      <td>4.11533</td>\n      <td>0.00000</td>\n      <td>0.06642</td>\n    </tr>\n  </tbody>\n</table>\n<p>2225 rows × 5 columns</p>\n</div>"
     },
     "metadata": {},
     "execution_count": 134
    }
   ],
   "source": [
    "H"
   ]
  },
  {
   "cell_type": "markdown",
   "metadata": {},
   "source": [
    "## 3. Top Topic Terms"
   ]
  },
  {
   "cell_type": "code",
   "execution_count": 10,
   "metadata": {},
   "outputs": [],
   "source": [
    "import numpy as np\n",
    "\n",
    "# You may need to use `.argsort()` and the transpose function `.T` for NumPy arrays"
   ]
  },
  {
   "cell_type": "code",
   "execution_count": 128,
   "metadata": {},
   "outputs": [
    {
     "output_type": "execute_result",
     "data": {
      "text/plain": "     ad  sale  boost  time  warner  profit  quarterli  media  giant  jump  \\\n0  7183  7797   7796  7795    7794    7793       7792   7791   7799  6208   \n1  4817  5363   5360  5359    5358    5357       5355   5353   5352  5350   \n2  4817  4522   4521  4520    4517    4516       4515   4513   4512  4511   \n3  9634  4132   4129  4125    4122    4119       4118   4116   4115  4112   \n4  3577  7691   7692  7693    4170    4169       7694   4164   4163  4162   \n\n   ...  £339  denialofservic   ddo  seagrav   bot  wirelessli  streamcast  \\\n0  ...   535             128   243      174  4668          39          47   \n1  ...   665             866   193     7666   846        3096         604   \n2  ...    16             878   623     1035   600         460         811   \n3  ...   362            5733  5666     1136    83        1812         212   \n4  ...    16            2646    35     2096   150          60        1096   \n\n   peripher  headphon  flavour  \n0      1998        57      212  \n1       174      1406     1238  \n2         3       553     1368  \n3       150      4634      864  \n4      1279      1230      846  \n\n[5 rows x 9635 columns]",
      "text/html": "<div>\n<style scoped>\n    .dataframe tbody tr th:only-of-type {\n        vertical-align: middle;\n    }\n\n    .dataframe tbody tr th {\n        vertical-align: top;\n    }\n\n    .dataframe thead th {\n        text-align: right;\n    }\n</style>\n<table border=\"1\" class=\"dataframe\">\n  <thead>\n    <tr style=\"text-align: right;\">\n      <th></th>\n      <th>ad</th>\n      <th>sale</th>\n      <th>boost</th>\n      <th>time</th>\n      <th>warner</th>\n      <th>profit</th>\n      <th>quarterli</th>\n      <th>media</th>\n      <th>giant</th>\n      <th>jump</th>\n      <th>...</th>\n      <th>£339</th>\n      <th>denialofservic</th>\n      <th>ddo</th>\n      <th>seagrav</th>\n      <th>bot</th>\n      <th>wirelessli</th>\n      <th>streamcast</th>\n      <th>peripher</th>\n      <th>headphon</th>\n      <th>flavour</th>\n    </tr>\n  </thead>\n  <tbody>\n    <tr>\n      <th>0</th>\n      <td>7183</td>\n      <td>7797</td>\n      <td>7796</td>\n      <td>7795</td>\n      <td>7794</td>\n      <td>7793</td>\n      <td>7792</td>\n      <td>7791</td>\n      <td>7799</td>\n      <td>6208</td>\n      <td>...</td>\n      <td>535</td>\n      <td>128</td>\n      <td>243</td>\n      <td>174</td>\n      <td>4668</td>\n      <td>39</td>\n      <td>47</td>\n      <td>1998</td>\n      <td>57</td>\n      <td>212</td>\n    </tr>\n    <tr>\n      <th>1</th>\n      <td>4817</td>\n      <td>5363</td>\n      <td>5360</td>\n      <td>5359</td>\n      <td>5358</td>\n      <td>5357</td>\n      <td>5355</td>\n      <td>5353</td>\n      <td>5352</td>\n      <td>5350</td>\n      <td>...</td>\n      <td>665</td>\n      <td>866</td>\n      <td>193</td>\n      <td>7666</td>\n      <td>846</td>\n      <td>3096</td>\n      <td>604</td>\n      <td>174</td>\n      <td>1406</td>\n      <td>1238</td>\n    </tr>\n    <tr>\n      <th>2</th>\n      <td>4817</td>\n      <td>4522</td>\n      <td>4521</td>\n      <td>4520</td>\n      <td>4517</td>\n      <td>4516</td>\n      <td>4515</td>\n      <td>4513</td>\n      <td>4512</td>\n      <td>4511</td>\n      <td>...</td>\n      <td>16</td>\n      <td>878</td>\n      <td>623</td>\n      <td>1035</td>\n      <td>600</td>\n      <td>460</td>\n      <td>811</td>\n      <td>3</td>\n      <td>553</td>\n      <td>1368</td>\n    </tr>\n    <tr>\n      <th>3</th>\n      <td>9634</td>\n      <td>4132</td>\n      <td>4129</td>\n      <td>4125</td>\n      <td>4122</td>\n      <td>4119</td>\n      <td>4118</td>\n      <td>4116</td>\n      <td>4115</td>\n      <td>4112</td>\n      <td>...</td>\n      <td>362</td>\n      <td>5733</td>\n      <td>5666</td>\n      <td>1136</td>\n      <td>83</td>\n      <td>1812</td>\n      <td>212</td>\n      <td>150</td>\n      <td>4634</td>\n      <td>864</td>\n    </tr>\n    <tr>\n      <th>4</th>\n      <td>3577</td>\n      <td>7691</td>\n      <td>7692</td>\n      <td>7693</td>\n      <td>4170</td>\n      <td>4169</td>\n      <td>7694</td>\n      <td>4164</td>\n      <td>4163</td>\n      <td>4162</td>\n      <td>...</td>\n      <td>16</td>\n      <td>2646</td>\n      <td>35</td>\n      <td>2096</td>\n      <td>150</td>\n      <td>60</td>\n      <td>1096</td>\n      <td>1279</td>\n      <td>1230</td>\n      <td>846</td>\n    </tr>\n  </tbody>\n</table>\n<p>5 rows × 9635 columns</p>\n</div>"
     },
     "metadata": {},
     "execution_count": 128
    }
   ],
   "source": [
    "np.argsort(W)"
   ]
  },
  {
   "cell_type": "markdown",
   "metadata": {},
   "source": [
    "## 4. Document Classification"
   ]
  },
  {
   "cell_type": "code",
   "execution_count": 17,
   "metadata": {},
   "outputs": [],
   "source": [
    "categories = [d[:d.find('.')] for d in docs]"
   ]
  },
  {
   "cell_type": "code",
   "execution_count": 25,
   "metadata": {},
   "outputs": [],
   "source": [
    "from sklearn.metrics import classification_report"
   ]
  },
  {
   "cell_type": "markdown",
   "metadata": {},
   "source": [
    "## 5. NMF Is An Approximation\n",
    "\n",
    "It's important to remember that the `sklearn.decomposition.NMF` implementation is an approximation. That is, it is generally not the case that $M = WH$, strictly because of the constraints that we put on $W$ and $H$ (namely that they are non-negative, and sometimes $H$ should be orthonormal), so we accept some level of error. That is\n",
    "\n",
    "$$\n",
    "M \\simeq WH\\quad \\text{or,}\\quad M = WH + U\n",
    "$$\n",
    "\n",
    "where $U$ is some residual."
   ]
  },
  {
   "cell_type": "code",
   "execution_count": 27,
   "metadata": {},
   "outputs": [],
   "source": [
    "import seaborn as sns\n",
    "import matplotlib.pyplot as plt\n",
    "%matplotlib inline\n",
    "\n",
    "sns.set_style('whitegrid')"
   ]
  },
  {
   "cell_type": "markdown",
   "metadata": {},
   "source": [
    "Given the above discussion, let's see what $\\hat{M} = WH$ actually looks like in comparison to $M$."
   ]
  },
  {
   "cell_type": "code",
   "execution_count": null,
   "metadata": {},
   "outputs": [],
   "source": []
  },
  {
   "cell_type": "code",
   "execution_count": null,
   "metadata": {},
   "outputs": [],
   "source": []
  },
  {
   "cell_type": "code",
   "execution_count": null,
   "metadata": {},
   "outputs": [],
   "source": []
  }
 ],
 "metadata": {
  "kernelspec": {
   "display_name": "Python 3",
   "language": "python",
   "name": "python3"
  },
  "language_info": {
   "codemirror_mode": {
    "name": "ipython",
    "version": 3
   },
   "file_extension": ".py",
   "mimetype": "text/x-python",
   "name": "python",
   "nbconvert_exporter": "python",
   "pygments_lexer": "ipython3",
   "version": "3.7.7"
  }
 },
 "nbformat": 4,
 "nbformat_minor": 4
}