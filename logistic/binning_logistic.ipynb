{
 "cells": [
  {
   "cell_type": "code",
   "execution_count": 50,
   "metadata": {},
   "outputs": [],
   "source": [
    "import pandas as pd\n",
    "import numpy as np\n",
    "from sklearn.model_selection import train_test_split\n",
    "from sklearn.linear_model import LogisticRegression\n",
    "import matplotlib.pyplot as plt\n",
    "%matplotlib inline"
   ]
  },
  {
   "cell_type": "code",
   "execution_count": 4,
   "metadata": {},
   "outputs": [],
   "source": [
    "data = pd.read_csv(\"MIMIC_Data_small.csv\")"
   ]
  },
  {
   "cell_type": "code",
   "execution_count": 5,
   "metadata": {},
   "outputs": [],
   "source": [
    "df = pd.DataFrame(data)"
   ]
  },
  {
   "cell_type": "code",
   "execution_count": 6,
   "metadata": {},
   "outputs": [
    {
     "data": {
      "text/html": [
       "<div>\n",
       "<style scoped>\n",
       "    .dataframe tbody tr th:only-of-type {\n",
       "        vertical-align: middle;\n",
       "    }\n",
       "\n",
       "    .dataframe tbody tr th {\n",
       "        vertical-align: top;\n",
       "    }\n",
       "\n",
       "    .dataframe thead th {\n",
       "        text-align: right;\n",
       "    }\n",
       "</style>\n",
       "<table border=\"1\" class=\"dataframe\">\n",
       "  <thead>\n",
       "    <tr style=\"text-align: right;\">\n",
       "      <th></th>\n",
       "      <th>resprate_mean</th>\n",
       "      <th>bun_min</th>\n",
       "      <th>tempc_mean</th>\n",
       "      <th>spo2_min</th>\n",
       "      <th>diasbp_mean</th>\n",
       "      <th>sodium_max</th>\n",
       "      <th>hospital_expire_flag</th>\n",
       "    </tr>\n",
       "  </thead>\n",
       "  <tbody>\n",
       "    <tr>\n",
       "      <th>0</th>\n",
       "      <td>14.369565</td>\n",
       "      <td>16.0</td>\n",
       "      <td>37.049383</td>\n",
       "      <td>95.0</td>\n",
       "      <td>79.525000</td>\n",
       "      <td>140.0</td>\n",
       "      <td>1</td>\n",
       "    </tr>\n",
       "    <tr>\n",
       "      <th>1</th>\n",
       "      <td>15.320000</td>\n",
       "      <td>13.0</td>\n",
       "      <td>36.653534</td>\n",
       "      <td>94.0</td>\n",
       "      <td>66.000000</td>\n",
       "      <td>140.0</td>\n",
       "      <td>0</td>\n",
       "    </tr>\n",
       "    <tr>\n",
       "      <th>2</th>\n",
       "      <td>15.404762</td>\n",
       "      <td>18.0</td>\n",
       "      <td>36.545714</td>\n",
       "      <td>95.0</td>\n",
       "      <td>54.500000</td>\n",
       "      <td>143.0</td>\n",
       "      <td>0</td>\n",
       "    </tr>\n",
       "    <tr>\n",
       "      <th>3</th>\n",
       "      <td>16.677419</td>\n",
       "      <td>13.0</td>\n",
       "      <td>37.033333</td>\n",
       "      <td>92.0</td>\n",
       "      <td>47.933333</td>\n",
       "      <td>141.0</td>\n",
       "      <td>0</td>\n",
       "    </tr>\n",
       "    <tr>\n",
       "      <th>4</th>\n",
       "      <td>22.241379</td>\n",
       "      <td>25.0</td>\n",
       "      <td>37.333334</td>\n",
       "      <td>89.0</td>\n",
       "      <td>48.428571</td>\n",
       "      <td>143.0</td>\n",
       "      <td>0</td>\n",
       "    </tr>\n",
       "    <tr>\n",
       "      <th>...</th>\n",
       "      <td>...</td>\n",
       "      <td>...</td>\n",
       "      <td>...</td>\n",
       "      <td>...</td>\n",
       "      <td>...</td>\n",
       "      <td>...</td>\n",
       "      <td>...</td>\n",
       "    </tr>\n",
       "    <tr>\n",
       "      <th>59721</th>\n",
       "      <td>19.068966</td>\n",
       "      <td>41.0</td>\n",
       "      <td>37.087037</td>\n",
       "      <td>87.0</td>\n",
       "      <td>43.391304</td>\n",
       "      <td>128.0</td>\n",
       "      <td>1</td>\n",
       "    </tr>\n",
       "    <tr>\n",
       "      <th>59722</th>\n",
       "      <td>23.742857</td>\n",
       "      <td>20.0</td>\n",
       "      <td>38.000000</td>\n",
       "      <td>91.0</td>\n",
       "      <td>53.322581</td>\n",
       "      <td>140.0</td>\n",
       "      <td>0</td>\n",
       "    </tr>\n",
       "    <tr>\n",
       "      <th>59723</th>\n",
       "      <td>12.000000</td>\n",
       "      <td>14.0</td>\n",
       "      <td>36.935185</td>\n",
       "      <td>92.0</td>\n",
       "      <td>99.850000</td>\n",
       "      <td>144.0</td>\n",
       "      <td>0</td>\n",
       "    </tr>\n",
       "    <tr>\n",
       "      <th>59724</th>\n",
       "      <td>14.909091</td>\n",
       "      <td>21.0</td>\n",
       "      <td>36.111111</td>\n",
       "      <td>93.0</td>\n",
       "      <td>60.833333</td>\n",
       "      <td>138.0</td>\n",
       "      <td>0</td>\n",
       "    </tr>\n",
       "    <tr>\n",
       "      <th>59725</th>\n",
       "      <td>16.421053</td>\n",
       "      <td>28.0</td>\n",
       "      <td>36.666667</td>\n",
       "      <td>95.0</td>\n",
       "      <td>58.600000</td>\n",
       "      <td>137.0</td>\n",
       "      <td>0</td>\n",
       "    </tr>\n",
       "  </tbody>\n",
       "</table>\n",
       "<p>59726 rows × 7 columns</p>\n",
       "</div>"
      ],
      "text/plain": [
       "       resprate_mean  bun_min  tempc_mean  spo2_min  diasbp_mean  sodium_max  \\\n",
       "0          14.369565     16.0   37.049383      95.0    79.525000       140.0   \n",
       "1          15.320000     13.0   36.653534      94.0    66.000000       140.0   \n",
       "2          15.404762     18.0   36.545714      95.0    54.500000       143.0   \n",
       "3          16.677419     13.0   37.033333      92.0    47.933333       141.0   \n",
       "4          22.241379     25.0   37.333334      89.0    48.428571       143.0   \n",
       "...              ...      ...         ...       ...          ...         ...   \n",
       "59721      19.068966     41.0   37.087037      87.0    43.391304       128.0   \n",
       "59722      23.742857     20.0   38.000000      91.0    53.322581       140.0   \n",
       "59723      12.000000     14.0   36.935185      92.0    99.850000       144.0   \n",
       "59724      14.909091     21.0   36.111111      93.0    60.833333       138.0   \n",
       "59725      16.421053     28.0   36.666667      95.0    58.600000       137.0   \n",
       "\n",
       "       hospital_expire_flag  \n",
       "0                         1  \n",
       "1                         0  \n",
       "2                         0  \n",
       "3                         0  \n",
       "4                         0  \n",
       "...                     ...  \n",
       "59721                     1  \n",
       "59722                     0  \n",
       "59723                     0  \n",
       "59724                     0  \n",
       "59725                     0  \n",
       "\n",
       "[59726 rows x 7 columns]"
      ]
     },
     "execution_count": 6,
     "metadata": {},
     "output_type": "execute_result"
    }
   ],
   "source": [
    "df"
   ]
  },
  {
   "cell_type": "code",
   "execution_count": 9,
   "metadata": {},
   "outputs": [],
   "source": [
    "X = df.iloc[:, :-1]\n",
    "y = df.iloc[:, -1:]"
   ]
  },
  {
   "cell_type": "code",
   "execution_count": 12,
   "metadata": {},
   "outputs": [],
   "source": [
    "X_train, X_test, y_train, y_test = train_test_split(X, y, test_size=0.2, random_state=42)"
   ]
  },
  {
   "cell_type": "code",
   "execution_count": 14,
   "metadata": {},
   "outputs": [
    {
     "data": {
      "text/plain": [
       "5150"
      ]
     },
     "execution_count": 14,
     "metadata": {},
     "output_type": "execute_result"
    }
   ],
   "source": [
    "y_train[\"hospital_expire_flag\"].sum()"
   ]
  },
  {
   "cell_type": "code",
   "execution_count": 15,
   "metadata": {},
   "outputs": [
    {
     "data": {
      "text/plain": [
       "47780"
      ]
     },
     "execution_count": 15,
     "metadata": {},
     "output_type": "execute_result"
    }
   ],
   "source": [
    "len(y_train)"
   ]
  },
  {
   "cell_type": "code",
   "execution_count": 16,
   "metadata": {},
   "outputs": [
    {
     "data": {
      "text/plain": [
       "0.1077856843867727"
      ]
     },
     "execution_count": 16,
     "metadata": {},
     "output_type": "execute_result"
    }
   ],
   "source": [
    "5150/47780"
   ]
  },
  {
   "cell_type": "markdown",
   "metadata": {},
   "source": [
    "Nearly 11% of patients died in ICU. "
   ]
  },
  {
   "cell_type": "code",
   "execution_count": 18,
   "metadata": {},
   "outputs": [],
   "source": [
    "lm1 = LogisticRegression()"
   ]
  },
  {
   "cell_type": "code",
   "execution_count": 20,
   "metadata": {},
   "outputs": [
    {
     "name": "stderr",
     "output_type": "stream",
     "text": [
      "/Users/anterra/opt/anaconda3/lib/python3.7/site-packages/sklearn/utils/validation.py:73: DataConversionWarning: A column-vector y was passed when a 1d array was expected. Please change the shape of y to (n_samples, ), for example using ravel().\n",
      "  return f(**kwargs)\n"
     ]
    },
    {
     "data": {
      "text/plain": [
       "LogisticRegression()"
      ]
     },
     "execution_count": 20,
     "metadata": {},
     "output_type": "execute_result"
    }
   ],
   "source": [
    "lm1.fit(X_train, y_train)"
   ]
  },
  {
   "cell_type": "code",
   "execution_count": 35,
   "metadata": {},
   "outputs": [],
   "source": [
    "X_train_resp = X_train[(X_train[\"resprate_mean\"] >= 30) & (X_train[\"resprate_mean\"] <= 32)]\n",
    "\n"
   ]
  },
  {
   "cell_type": "code",
   "execution_count": 36,
   "metadata": {},
   "outputs": [
    {
     "data": {
      "text/html": [
       "<div>\n",
       "<style scoped>\n",
       "    .dataframe tbody tr th:only-of-type {\n",
       "        vertical-align: middle;\n",
       "    }\n",
       "\n",
       "    .dataframe tbody tr th {\n",
       "        vertical-align: top;\n",
       "    }\n",
       "\n",
       "    .dataframe thead th {\n",
       "        text-align: right;\n",
       "    }\n",
       "</style>\n",
       "<table border=\"1\" class=\"dataframe\">\n",
       "  <thead>\n",
       "    <tr style=\"text-align: right;\">\n",
       "      <th></th>\n",
       "      <th>resprate_mean</th>\n",
       "      <th>bun_min</th>\n",
       "      <th>tempc_mean</th>\n",
       "      <th>spo2_min</th>\n",
       "      <th>diasbp_mean</th>\n",
       "      <th>sodium_max</th>\n",
       "    </tr>\n",
       "  </thead>\n",
       "  <tbody>\n",
       "    <tr>\n",
       "      <th>57791</th>\n",
       "      <td>31.255814</td>\n",
       "      <td>20.0</td>\n",
       "      <td>38.538889</td>\n",
       "      <td>53.0</td>\n",
       "      <td>47.472222</td>\n",
       "      <td>138.0</td>\n",
       "    </tr>\n",
       "    <tr>\n",
       "      <th>37368</th>\n",
       "      <td>30.619048</td>\n",
       "      <td>7.0</td>\n",
       "      <td>37.291667</td>\n",
       "      <td>90.0</td>\n",
       "      <td>50.800000</td>\n",
       "      <td>147.0</td>\n",
       "    </tr>\n",
       "    <tr>\n",
       "      <th>15984</th>\n",
       "      <td>30.857143</td>\n",
       "      <td>29.0</td>\n",
       "      <td>37.507936</td>\n",
       "      <td>96.0</td>\n",
       "      <td>80.107143</td>\n",
       "      <td>143.0</td>\n",
       "    </tr>\n",
       "    <tr>\n",
       "      <th>3486</th>\n",
       "      <td>31.791667</td>\n",
       "      <td>44.0</td>\n",
       "      <td>37.333334</td>\n",
       "      <td>92.0</td>\n",
       "      <td>59.285714</td>\n",
       "      <td>136.0</td>\n",
       "    </tr>\n",
       "    <tr>\n",
       "      <th>24738</th>\n",
       "      <td>30.882353</td>\n",
       "      <td>18.0</td>\n",
       "      <td>37.651515</td>\n",
       "      <td>97.0</td>\n",
       "      <td>54.909091</td>\n",
       "      <td>143.0</td>\n",
       "    </tr>\n",
       "    <tr>\n",
       "      <th>...</th>\n",
       "      <td>...</td>\n",
       "      <td>...</td>\n",
       "      <td>...</td>\n",
       "      <td>...</td>\n",
       "      <td>...</td>\n",
       "      <td>...</td>\n",
       "    </tr>\n",
       "    <tr>\n",
       "      <th>6801</th>\n",
       "      <td>30.333333</td>\n",
       "      <td>18.0</td>\n",
       "      <td>37.000000</td>\n",
       "      <td>94.0</td>\n",
       "      <td>62.347826</td>\n",
       "      <td>140.0</td>\n",
       "    </tr>\n",
       "    <tr>\n",
       "      <th>23714</th>\n",
       "      <td>30.541667</td>\n",
       "      <td>27.0</td>\n",
       "      <td>36.561111</td>\n",
       "      <td>91.0</td>\n",
       "      <td>69.560000</td>\n",
       "      <td>137.0</td>\n",
       "    </tr>\n",
       "    <tr>\n",
       "      <th>54401</th>\n",
       "      <td>31.064516</td>\n",
       "      <td>26.0</td>\n",
       "      <td>37.083333</td>\n",
       "      <td>95.0</td>\n",
       "      <td>55.193548</td>\n",
       "      <td>137.0</td>\n",
       "    </tr>\n",
       "    <tr>\n",
       "      <th>35773</th>\n",
       "      <td>30.038462</td>\n",
       "      <td>10.0</td>\n",
       "      <td>35.857143</td>\n",
       "      <td>91.0</td>\n",
       "      <td>73.807692</td>\n",
       "      <td>135.0</td>\n",
       "    </tr>\n",
       "    <tr>\n",
       "      <th>19118</th>\n",
       "      <td>30.333333</td>\n",
       "      <td>51.0</td>\n",
       "      <td>37.253968</td>\n",
       "      <td>94.0</td>\n",
       "      <td>53.769231</td>\n",
       "      <td>142.0</td>\n",
       "    </tr>\n",
       "  </tbody>\n",
       "</table>\n",
       "<p>323 rows × 6 columns</p>\n",
       "</div>"
      ],
      "text/plain": [
       "       resprate_mean  bun_min  tempc_mean  spo2_min  diasbp_mean  sodium_max\n",
       "57791      31.255814     20.0   38.538889      53.0    47.472222       138.0\n",
       "37368      30.619048      7.0   37.291667      90.0    50.800000       147.0\n",
       "15984      30.857143     29.0   37.507936      96.0    80.107143       143.0\n",
       "3486       31.791667     44.0   37.333334      92.0    59.285714       136.0\n",
       "24738      30.882353     18.0   37.651515      97.0    54.909091       143.0\n",
       "...              ...      ...         ...       ...          ...         ...\n",
       "6801       30.333333     18.0   37.000000      94.0    62.347826       140.0\n",
       "23714      30.541667     27.0   36.561111      91.0    69.560000       137.0\n",
       "54401      31.064516     26.0   37.083333      95.0    55.193548       137.0\n",
       "35773      30.038462     10.0   35.857143      91.0    73.807692       135.0\n",
       "19118      30.333333     51.0   37.253968      94.0    53.769231       142.0\n",
       "\n",
       "[323 rows x 6 columns]"
      ]
     },
     "execution_count": 36,
     "metadata": {},
     "output_type": "execute_result"
    }
   ],
   "source": [
    "X_train_resp"
   ]
  },
  {
   "cell_type": "code",
   "execution_count": 38,
   "metadata": {},
   "outputs": [],
   "source": [
    "df2 = pd.concat([X_train, y_train], axis=1)"
   ]
  },
  {
   "cell_type": "code",
   "execution_count": 39,
   "metadata": {},
   "outputs": [
    {
     "data": {
      "text/html": [
       "<div>\n",
       "<style scoped>\n",
       "    .dataframe tbody tr th:only-of-type {\n",
       "        vertical-align: middle;\n",
       "    }\n",
       "\n",
       "    .dataframe tbody tr th {\n",
       "        vertical-align: top;\n",
       "    }\n",
       "\n",
       "    .dataframe thead th {\n",
       "        text-align: right;\n",
       "    }\n",
       "</style>\n",
       "<table border=\"1\" class=\"dataframe\">\n",
       "  <thead>\n",
       "    <tr style=\"text-align: right;\">\n",
       "      <th></th>\n",
       "      <th>resprate_mean</th>\n",
       "      <th>bun_min</th>\n",
       "      <th>tempc_mean</th>\n",
       "      <th>spo2_min</th>\n",
       "      <th>diasbp_mean</th>\n",
       "      <th>sodium_max</th>\n",
       "      <th>hospital_expire_flag</th>\n",
       "    </tr>\n",
       "  </thead>\n",
       "  <tbody>\n",
       "    <tr>\n",
       "      <th>5685</th>\n",
       "      <td>18.290323</td>\n",
       "      <td>9.0</td>\n",
       "      <td>37.456444</td>\n",
       "      <td>94.0</td>\n",
       "      <td>54.666667</td>\n",
       "      <td>140.0</td>\n",
       "      <td>0</td>\n",
       "    </tr>\n",
       "    <tr>\n",
       "      <th>32944</th>\n",
       "      <td>18.178571</td>\n",
       "      <td>17.0</td>\n",
       "      <td>36.787037</td>\n",
       "      <td>93.0</td>\n",
       "      <td>59.631579</td>\n",
       "      <td>142.0</td>\n",
       "      <td>0</td>\n",
       "    </tr>\n",
       "    <tr>\n",
       "      <th>43784</th>\n",
       "      <td>24.291667</td>\n",
       "      <td>38.0</td>\n",
       "      <td>36.677778</td>\n",
       "      <td>96.0</td>\n",
       "      <td>56.869565</td>\n",
       "      <td>141.0</td>\n",
       "      <td>0</td>\n",
       "    </tr>\n",
       "    <tr>\n",
       "      <th>6956</th>\n",
       "      <td>14.789474</td>\n",
       "      <td>26.0</td>\n",
       "      <td>36.222222</td>\n",
       "      <td>88.0</td>\n",
       "      <td>64.550000</td>\n",
       "      <td>145.0</td>\n",
       "      <td>0</td>\n",
       "    </tr>\n",
       "    <tr>\n",
       "      <th>3296</th>\n",
       "      <td>27.636364</td>\n",
       "      <td>25.0</td>\n",
       "      <td>38.658730</td>\n",
       "      <td>93.0</td>\n",
       "      <td>70.150000</td>\n",
       "      <td>133.0</td>\n",
       "      <td>0</td>\n",
       "    </tr>\n",
       "    <tr>\n",
       "      <th>...</th>\n",
       "      <td>...</td>\n",
       "      <td>...</td>\n",
       "      <td>...</td>\n",
       "      <td>...</td>\n",
       "      <td>...</td>\n",
       "      <td>...</td>\n",
       "      <td>...</td>\n",
       "    </tr>\n",
       "    <tr>\n",
       "      <th>54343</th>\n",
       "      <td>20.260870</td>\n",
       "      <td>33.0</td>\n",
       "      <td>37.048611</td>\n",
       "      <td>97.0</td>\n",
       "      <td>50.291667</td>\n",
       "      <td>139.0</td>\n",
       "      <td>0</td>\n",
       "    </tr>\n",
       "    <tr>\n",
       "      <th>38158</th>\n",
       "      <td>12.400000</td>\n",
       "      <td>24.0</td>\n",
       "      <td>36.611111</td>\n",
       "      <td>98.0</td>\n",
       "      <td>57.343750</td>\n",
       "      <td>138.0</td>\n",
       "      <td>0</td>\n",
       "    </tr>\n",
       "    <tr>\n",
       "      <th>860</th>\n",
       "      <td>21.920000</td>\n",
       "      <td>15.0</td>\n",
       "      <td>36.548611</td>\n",
       "      <td>97.0</td>\n",
       "      <td>77.217391</td>\n",
       "      <td>141.0</td>\n",
       "      <td>0</td>\n",
       "    </tr>\n",
       "    <tr>\n",
       "      <th>15795</th>\n",
       "      <td>24.875000</td>\n",
       "      <td>24.0</td>\n",
       "      <td>36.955555</td>\n",
       "      <td>92.0</td>\n",
       "      <td>50.041667</td>\n",
       "      <td>139.0</td>\n",
       "      <td>0</td>\n",
       "    </tr>\n",
       "    <tr>\n",
       "      <th>56422</th>\n",
       "      <td>18.178571</td>\n",
       "      <td>40.0</td>\n",
       "      <td>36.787037</td>\n",
       "      <td>93.0</td>\n",
       "      <td>59.631579</td>\n",
       "      <td>157.0</td>\n",
       "      <td>0</td>\n",
       "    </tr>\n",
       "  </tbody>\n",
       "</table>\n",
       "<p>47780 rows × 7 columns</p>\n",
       "</div>"
      ],
      "text/plain": [
       "       resprate_mean  bun_min  tempc_mean  spo2_min  diasbp_mean  sodium_max  \\\n",
       "5685       18.290323      9.0   37.456444      94.0    54.666667       140.0   \n",
       "32944      18.178571     17.0   36.787037      93.0    59.631579       142.0   \n",
       "43784      24.291667     38.0   36.677778      96.0    56.869565       141.0   \n",
       "6956       14.789474     26.0   36.222222      88.0    64.550000       145.0   \n",
       "3296       27.636364     25.0   38.658730      93.0    70.150000       133.0   \n",
       "...              ...      ...         ...       ...          ...         ...   \n",
       "54343      20.260870     33.0   37.048611      97.0    50.291667       139.0   \n",
       "38158      12.400000     24.0   36.611111      98.0    57.343750       138.0   \n",
       "860        21.920000     15.0   36.548611      97.0    77.217391       141.0   \n",
       "15795      24.875000     24.0   36.955555      92.0    50.041667       139.0   \n",
       "56422      18.178571     40.0   36.787037      93.0    59.631579       157.0   \n",
       "\n",
       "       hospital_expire_flag  \n",
       "5685                      0  \n",
       "32944                     0  \n",
       "43784                     0  \n",
       "6956                      0  \n",
       "3296                      0  \n",
       "...                     ...  \n",
       "54343                     0  \n",
       "38158                     0  \n",
       "860                       0  \n",
       "15795                     0  \n",
       "56422                     0  \n",
       "\n",
       "[47780 rows x 7 columns]"
      ]
     },
     "execution_count": 39,
     "metadata": {},
     "output_type": "execute_result"
    }
   ],
   "source": [
    "df2"
   ]
  },
  {
   "cell_type": "code",
   "execution_count": 40,
   "metadata": {},
   "outputs": [],
   "source": [
    "df2_resp = df2[(df2[\"resprate_mean\"] >= 30) & (df2[\"resprate_mean\"] <= 32)]\n"
   ]
  },
  {
   "cell_type": "code",
   "execution_count": 41,
   "metadata": {},
   "outputs": [
    {
     "data": {
      "text/html": [
       "<div>\n",
       "<style scoped>\n",
       "    .dataframe tbody tr th:only-of-type {\n",
       "        vertical-align: middle;\n",
       "    }\n",
       "\n",
       "    .dataframe tbody tr th {\n",
       "        vertical-align: top;\n",
       "    }\n",
       "\n",
       "    .dataframe thead th {\n",
       "        text-align: right;\n",
       "    }\n",
       "</style>\n",
       "<table border=\"1\" class=\"dataframe\">\n",
       "  <thead>\n",
       "    <tr style=\"text-align: right;\">\n",
       "      <th></th>\n",
       "      <th>resprate_mean</th>\n",
       "      <th>bun_min</th>\n",
       "      <th>tempc_mean</th>\n",
       "      <th>spo2_min</th>\n",
       "      <th>diasbp_mean</th>\n",
       "      <th>sodium_max</th>\n",
       "      <th>hospital_expire_flag</th>\n",
       "    </tr>\n",
       "  </thead>\n",
       "  <tbody>\n",
       "    <tr>\n",
       "      <th>57791</th>\n",
       "      <td>31.255814</td>\n",
       "      <td>20.0</td>\n",
       "      <td>38.538889</td>\n",
       "      <td>53.0</td>\n",
       "      <td>47.472222</td>\n",
       "      <td>138.0</td>\n",
       "      <td>1</td>\n",
       "    </tr>\n",
       "    <tr>\n",
       "      <th>37368</th>\n",
       "      <td>30.619048</td>\n",
       "      <td>7.0</td>\n",
       "      <td>37.291667</td>\n",
       "      <td>90.0</td>\n",
       "      <td>50.800000</td>\n",
       "      <td>147.0</td>\n",
       "      <td>0</td>\n",
       "    </tr>\n",
       "    <tr>\n",
       "      <th>15984</th>\n",
       "      <td>30.857143</td>\n",
       "      <td>29.0</td>\n",
       "      <td>37.507936</td>\n",
       "      <td>96.0</td>\n",
       "      <td>80.107143</td>\n",
       "      <td>143.0</td>\n",
       "      <td>0</td>\n",
       "    </tr>\n",
       "    <tr>\n",
       "      <th>3486</th>\n",
       "      <td>31.791667</td>\n",
       "      <td>44.0</td>\n",
       "      <td>37.333334</td>\n",
       "      <td>92.0</td>\n",
       "      <td>59.285714</td>\n",
       "      <td>136.0</td>\n",
       "      <td>0</td>\n",
       "    </tr>\n",
       "    <tr>\n",
       "      <th>24738</th>\n",
       "      <td>30.882353</td>\n",
       "      <td>18.0</td>\n",
       "      <td>37.651515</td>\n",
       "      <td>97.0</td>\n",
       "      <td>54.909091</td>\n",
       "      <td>143.0</td>\n",
       "      <td>0</td>\n",
       "    </tr>\n",
       "    <tr>\n",
       "      <th>...</th>\n",
       "      <td>...</td>\n",
       "      <td>...</td>\n",
       "      <td>...</td>\n",
       "      <td>...</td>\n",
       "      <td>...</td>\n",
       "      <td>...</td>\n",
       "      <td>...</td>\n",
       "    </tr>\n",
       "    <tr>\n",
       "      <th>6801</th>\n",
       "      <td>30.333333</td>\n",
       "      <td>18.0</td>\n",
       "      <td>37.000000</td>\n",
       "      <td>94.0</td>\n",
       "      <td>62.347826</td>\n",
       "      <td>140.0</td>\n",
       "      <td>0</td>\n",
       "    </tr>\n",
       "    <tr>\n",
       "      <th>23714</th>\n",
       "      <td>30.541667</td>\n",
       "      <td>27.0</td>\n",
       "      <td>36.561111</td>\n",
       "      <td>91.0</td>\n",
       "      <td>69.560000</td>\n",
       "      <td>137.0</td>\n",
       "      <td>1</td>\n",
       "    </tr>\n",
       "    <tr>\n",
       "      <th>54401</th>\n",
       "      <td>31.064516</td>\n",
       "      <td>26.0</td>\n",
       "      <td>37.083333</td>\n",
       "      <td>95.0</td>\n",
       "      <td>55.193548</td>\n",
       "      <td>137.0</td>\n",
       "      <td>0</td>\n",
       "    </tr>\n",
       "    <tr>\n",
       "      <th>35773</th>\n",
       "      <td>30.038462</td>\n",
       "      <td>10.0</td>\n",
       "      <td>35.857143</td>\n",
       "      <td>91.0</td>\n",
       "      <td>73.807692</td>\n",
       "      <td>135.0</td>\n",
       "      <td>0</td>\n",
       "    </tr>\n",
       "    <tr>\n",
       "      <th>19118</th>\n",
       "      <td>30.333333</td>\n",
       "      <td>51.0</td>\n",
       "      <td>37.253968</td>\n",
       "      <td>94.0</td>\n",
       "      <td>53.769231</td>\n",
       "      <td>142.0</td>\n",
       "      <td>1</td>\n",
       "    </tr>\n",
       "  </tbody>\n",
       "</table>\n",
       "<p>323 rows × 7 columns</p>\n",
       "</div>"
      ],
      "text/plain": [
       "       resprate_mean  bun_min  tempc_mean  spo2_min  diasbp_mean  sodium_max  \\\n",
       "57791      31.255814     20.0   38.538889      53.0    47.472222       138.0   \n",
       "37368      30.619048      7.0   37.291667      90.0    50.800000       147.0   \n",
       "15984      30.857143     29.0   37.507936      96.0    80.107143       143.0   \n",
       "3486       31.791667     44.0   37.333334      92.0    59.285714       136.0   \n",
       "24738      30.882353     18.0   37.651515      97.0    54.909091       143.0   \n",
       "...              ...      ...         ...       ...          ...         ...   \n",
       "6801       30.333333     18.0   37.000000      94.0    62.347826       140.0   \n",
       "23714      30.541667     27.0   36.561111      91.0    69.560000       137.0   \n",
       "54401      31.064516     26.0   37.083333      95.0    55.193548       137.0   \n",
       "35773      30.038462     10.0   35.857143      91.0    73.807692       135.0   \n",
       "19118      30.333333     51.0   37.253968      94.0    53.769231       142.0   \n",
       "\n",
       "       hospital_expire_flag  \n",
       "57791                     1  \n",
       "37368                     0  \n",
       "15984                     0  \n",
       "3486                      0  \n",
       "24738                     0  \n",
       "...                     ...  \n",
       "6801                      0  \n",
       "23714                     1  \n",
       "54401                     0  \n",
       "35773                     0  \n",
       "19118                     1  \n",
       "\n",
       "[323 rows x 7 columns]"
      ]
     },
     "execution_count": 41,
     "metadata": {},
     "output_type": "execute_result"
    }
   ],
   "source": [
    "df2_resp"
   ]
  },
  {
   "cell_type": "code",
   "execution_count": 44,
   "metadata": {},
   "outputs": [
    {
     "data": {
      "text/plain": [
       "0.3746130030959752"
      ]
     },
     "execution_count": 44,
     "metadata": {},
     "output_type": "execute_result"
    }
   ],
   "source": [
    "df2_resp[\"hospital_expire_flag\"].sum()/len(df2_resp)"
   ]
  },
  {
   "cell_type": "code",
   "execution_count": 45,
   "metadata": {},
   "outputs": [
    {
     "data": {
      "text/plain": [
       "0.08202212973302203"
      ]
     },
     "execution_count": 45,
     "metadata": {},
     "output_type": "execute_result"
    }
   ],
   "source": [
    "df3_resp = df2[(df2[\"resprate_mean\"] >= 16) & (df2[\"resprate_mean\"] <= 18)]\n",
    "df3_resp[\"hospital_expire_flag\"].sum()/len(df3_resp)"
   ]
  },
  {
   "cell_type": "code",
   "execution_count": 46,
   "metadata": {},
   "outputs": [
    {
     "data": {
      "text/plain": [
       "0.005380164450309613"
      ]
     },
     "execution_count": 46,
     "metadata": {},
     "output_type": "execute_result"
    }
   ],
   "source": [
    "df4_resp = df2[(df2[\"resprate_mean\"] >= 6) & (df2[\"resprate_mean\"] <= 12)]\n",
    "df4_resp[\"hospital_expire_flag\"].sum()/len(df3_resp)"
   ]
  },
  {
   "cell_type": "code",
   "execution_count": 61,
   "metadata": {},
   "outputs": [
    {
     "name": "stderr",
     "output_type": "stream",
     "text": [
      "/Users/anterra/opt/anaconda3/lib/python3.7/site-packages/ipykernel_launcher.py:5: RuntimeWarning: invalid value encountered in true_divide\n",
      "  \"\"\"\n"
     ]
    },
    {
     "data": {
      "text/plain": [
       "[<matplotlib.lines.Line2D at 0x1a1e61ca90>]"
      ]
     },
     "execution_count": 61,
     "metadata": {},
     "output_type": "execute_result"
    },
    {
     "data": {
      "image/png": "[encoded data removed]",
      "text/plain": [
       "<Figure size 720x864 with 3 Axes>"
      ]
     },
     "metadata": {
      "needs_background": "light"
     },
     "output_type": "display_data"
    }
   ],
   "source": [
    "fig, ax = plt.subplots(3, 1, figsize=(10, 12))  # 3 Rows, 1 Col\n",
    "\n",
    "count0, bins_0, _ = ax[0].hist(X_train.loc[(y_train==0).index,'resprate_mean'], bins=25, range=(0,50))\n",
    "count1, bins_1, _ = ax[1].hist(X_train.loc[(y_train==1).index,'resprate_mean'], bins=25, range=(0,50))\n",
    "ax[2].plot((bins_0[:-1]+bins_0[1:])/2,count1/(count1 + count0))"
   ]
  },
  {
   "cell_type": "code",
   "execution_count": 59,
   "metadata": {},
   "outputs": [
    {
     "data": {
      "text/plain": [
       "Int64Index([ 5685, 32944, 43784,  6956,  3296,   523, 37640,  7962, 14174,\n",
       "            41644,\n",
       "            ...\n",
       "            16850,  6265, 54886, 11284, 44732, 54343, 38158,   860, 15795,\n",
       "            56422],\n",
       "           dtype='int64', length=47780)"
      ]
     },
     "execution_count": 59,
     "metadata": {},
     "output_type": "execute_result"
    }
   ],
   "source": [
    "(y_train==0).index"
   ]
  },
  {
   "cell_type": "code",
   "execution_count": 60,
   "metadata": {},
   "outputs": [
    {
     "data": {
      "text/html": [
       "<div>\n",
       "<style scoped>\n",
       "    .dataframe tbody tr th:only-of-type {\n",
       "        vertical-align: middle;\n",
       "    }\n",
       "\n",
       "    .dataframe tbody tr th {\n",
       "        vertical-align: top;\n",
       "    }\n",
       "\n",
       "    .dataframe thead th {\n",
       "        text-align: right;\n",
       "    }\n",
       "</style>\n",
       "<table border=\"1\" class=\"dataframe\">\n",
       "  <thead>\n",
       "    <tr style=\"text-align: right;\">\n",
       "      <th></th>\n",
       "      <th>resprate_mean</th>\n",
       "      <th>bun_min</th>\n",
       "      <th>tempc_mean</th>\n",
       "      <th>spo2_min</th>\n",
       "      <th>diasbp_mean</th>\n",
       "      <th>sodium_max</th>\n",
       "    </tr>\n",
       "  </thead>\n",
       "  <tbody>\n",
       "    <tr>\n",
       "      <th>5685</th>\n",
       "      <td>18.290323</td>\n",
       "      <td>9.0</td>\n",
       "      <td>37.456444</td>\n",
       "      <td>94.0</td>\n",
       "      <td>54.666667</td>\n",
       "      <td>140.0</td>\n",
       "    </tr>\n",
       "    <tr>\n",
       "      <th>32944</th>\n",
       "      <td>18.178571</td>\n",
       "      <td>17.0</td>\n",
       "      <td>36.787037</td>\n",
       "      <td>93.0</td>\n",
       "      <td>59.631579</td>\n",
       "      <td>142.0</td>\n",
       "    </tr>\n",
       "    <tr>\n",
       "      <th>43784</th>\n",
       "      <td>24.291667</td>\n",
       "      <td>38.0</td>\n",
       "      <td>36.677778</td>\n",
       "      <td>96.0</td>\n",
       "      <td>56.869565</td>\n",
       "      <td>141.0</td>\n",
       "    </tr>\n",
       "    <tr>\n",
       "      <th>6956</th>\n",
       "      <td>14.789474</td>\n",
       "      <td>26.0</td>\n",
       "      <td>36.222222</td>\n",
       "      <td>88.0</td>\n",
       "      <td>64.550000</td>\n",
       "      <td>145.0</td>\n",
       "    </tr>\n",
       "    <tr>\n",
       "      <th>3296</th>\n",
       "      <td>27.636364</td>\n",
       "      <td>25.0</td>\n",
       "      <td>38.658730</td>\n",
       "      <td>93.0</td>\n",
       "      <td>70.150000</td>\n",
       "      <td>133.0</td>\n",
       "    </tr>\n",
       "    <tr>\n",
       "      <th>...</th>\n",
       "      <td>...</td>\n",
       "      <td>...</td>\n",
       "      <td>...</td>\n",
       "      <td>...</td>\n",
       "      <td>...</td>\n",
       "      <td>...</td>\n",
       "    </tr>\n",
       "    <tr>\n",
       "      <th>54343</th>\n",
       "      <td>20.260870</td>\n",
       "      <td>33.0</td>\n",
       "      <td>37.048611</td>\n",
       "      <td>97.0</td>\n",
       "      <td>50.291667</td>\n",
       "      <td>139.0</td>\n",
       "    </tr>\n",
       "    <tr>\n",
       "      <th>38158</th>\n",
       "      <td>12.400000</td>\n",
       "      <td>24.0</td>\n",
       "      <td>36.611111</td>\n",
       "      <td>98.0</td>\n",
       "      <td>57.343750</td>\n",
       "      <td>138.0</td>\n",
       "    </tr>\n",
       "    <tr>\n",
       "      <th>860</th>\n",
       "      <td>21.920000</td>\n",
       "      <td>15.0</td>\n",
       "      <td>36.548611</td>\n",
       "      <td>97.0</td>\n",
       "      <td>77.217391</td>\n",
       "      <td>141.0</td>\n",
       "    </tr>\n",
       "    <tr>\n",
       "      <th>15795</th>\n",
       "      <td>24.875000</td>\n",
       "      <td>24.0</td>\n",
       "      <td>36.955555</td>\n",
       "      <td>92.0</td>\n",
       "      <td>50.041667</td>\n",
       "      <td>139.0</td>\n",
       "    </tr>\n",
       "    <tr>\n",
       "      <th>56422</th>\n",
       "      <td>18.178571</td>\n",
       "      <td>40.0</td>\n",
       "      <td>36.787037</td>\n",
       "      <td>93.0</td>\n",
       "      <td>59.631579</td>\n",
       "      <td>157.0</td>\n",
       "    </tr>\n",
       "  </tbody>\n",
       "</table>\n",
       "<p>47780 rows × 6 columns</p>\n",
       "</div>"
      ],
      "text/plain": [
       "       resprate_mean  bun_min  tempc_mean  spo2_min  diasbp_mean  sodium_max\n",
       "5685       18.290323      9.0   37.456444      94.0    54.666667       140.0\n",
       "32944      18.178571     17.0   36.787037      93.0    59.631579       142.0\n",
       "43784      24.291667     38.0   36.677778      96.0    56.869565       141.0\n",
       "6956       14.789474     26.0   36.222222      88.0    64.550000       145.0\n",
       "3296       27.636364     25.0   38.658730      93.0    70.150000       133.0\n",
       "...              ...      ...         ...       ...          ...         ...\n",
       "54343      20.260870     33.0   37.048611      97.0    50.291667       139.0\n",
       "38158      12.400000     24.0   36.611111      98.0    57.343750       138.0\n",
       "860        21.920000     15.0   36.548611      97.0    77.217391       141.0\n",
       "15795      24.875000     24.0   36.955555      92.0    50.041667       139.0\n",
       "56422      18.178571     40.0   36.787037      93.0    59.631579       157.0\n",
       "\n",
       "[47780 rows x 6 columns]"
      ]
     },
     "execution_count": 60,
     "metadata": {},
     "output_type": "execute_result"
    }
   ],
   "source": [
    "X_train.loc[(y_train==0).index]"
   ]
  },
  {
   "cell_type": "code",
   "execution_count": 62,
   "metadata": {},
   "outputs": [
    {
     "data": {
      "text/plain": [
       "[<matplotlib.lines.Line2D at 0x1a1ce22bd0>]"
      ]
     },
     "execution_count": 62,
     "metadata": {},
     "output_type": "execute_result"
    },
    {
     "data": {
      "image/png": "[encoded data removed]",
      "text/plain": [
       "<Figure size 720x864 with 3 Axes>"
      ]
     },
     "metadata": {
      "needs_background": "light"
     },
     "output_type": "display_data"
    }
   ],
   "source": [
    "fig, ax = plt.subplots(3, 1, figsize=(10, 12))  # 3 Rows, 1 Col\n",
    "\n",
    "count0, bins_0, _ = ax[0].hist(X_train.loc[(y_train==0).index,'bun_min'], bins=25, range=(0,50))\n",
    "count1, bins_1, _ = ax[1].hist(X_train.loc[(y_train==1).index,'bun_min'], bins=25, range=(0,50))\n",
    "ax[2].plot((bins_0[:-1]+bins_0[1:])/2,count1/(count1 + count0))"
   ]
  },
  {
   "cell_type": "code",
   "execution_count": 63,
   "metadata": {},
   "outputs": [
    {
     "name": "stderr",
     "output_type": "stream",
     "text": [
      "/Users/anterra/opt/anaconda3/lib/python3.7/site-packages/ipykernel_launcher.py:5: RuntimeWarning: invalid value encountered in true_divide\n",
      "  \"\"\"\n"
     ]
    },
    {
     "data": {
      "text/plain": [
       "[<matplotlib.lines.Line2D at 0x1a1db84ad0>]"
      ]
     },
     "execution_count": 63,
     "metadata": {},
     "output_type": "execute_result"
    },
    {
     "data": {
      "image/png": "[encoded data removed]",
      "text/plain": [
       "<Figure size 720x864 with 3 Axes>"
      ]
     },
     "metadata": {
      "needs_background": "light"
     },
     "output_type": "display_data"
    }
   ],
   "source": [
    "fig, ax = plt.subplots(3, 1, figsize=(10, 12))  # 3 Rows, 1 Col\n",
    "\n",
    "count0, bins_0, _ = ax[0].hist(X_train.loc[(y_train==0).index,'tempc_mean'], bins=25, range=(0,50))\n",
    "count1, bins_1, _ = ax[1].hist(X_train.loc[(y_train==1).index,'tempc_mean'], bins=25, range=(0,50))\n",
    "ax[2].plot((bins_0[:-1]+bins_0[1:])/2,count1/(count1 + count0))"
   ]
  },
  {
   "cell_type": "code",
   "execution_count": 64,
   "metadata": {},
   "outputs": [
    {
     "data": {
      "text/plain": [
       "[<matplotlib.lines.Line2D at 0x1a1d6a0490>]"
      ]
     },
     "execution_count": 64,
     "metadata": {},
     "output_type": "execute_result"
    },
    {
     "data": {
      "image/png": "[encoded data removed]",
      "text/plain": [
       "<Figure size 720x864 with 3 Axes>"
      ]
     },
     "metadata": {
      "needs_background": "light"
     },
     "output_type": "display_data"
    }
   ],
   "source": [
    "fig, ax = plt.subplots(3, 1, figsize=(10, 12))  # 3 Rows, 1 Col\n",
    "\n",
    "count0, bins_0, _ = ax[0].hist(X_train.loc[(y_train==0).index,'spo2_min'], bins=25, range=(0,50))\n",
    "count1, bins_1, _ = ax[1].hist(X_train.loc[(y_train==1).index,'spo2_min'], bins=25, range=(0,50))\n",
    "ax[2].plot((bins_0[:-1]+bins_0[1:])/2,count1/(count1 + count0))"
   ]
  },
  {
   "cell_type": "code",
   "execution_count": 65,
   "metadata": {},
   "outputs": [
    {
     "name": "stderr",
     "output_type": "stream",
     "text": [
      "/Users/anterra/opt/anaconda3/lib/python3.7/site-packages/ipykernel_launcher.py:5: RuntimeWarning: invalid value encountered in true_divide\n",
      "  \"\"\"\n"
     ]
    },
    {
     "data": {
      "text/plain": [
       "[<matplotlib.lines.Line2D at 0x1a1e5c6d90>]"
      ]
     },
     "execution_count": 65,
     "metadata": {},
     "output_type": "execute_result"
    },
    {
     "data": {
      "image/png": "[encoded data removed]",
      "text/plain": [
       "<Figure size 720x864 with 3 Axes>"
      ]
     },
     "metadata": {
      "needs_background": "light"
     },
     "output_type": "display_data"
    }
   ],
   "source": [
    "fig, ax = plt.subplots(3, 1, figsize=(10, 12))  # 3 Rows, 1 Col\n",
    "\n",
    "count0, bins_0, _ = ax[0].hist(X_train.loc[(y_train==0).index,'diasbp_mean'], bins=25, range=(0,50))\n",
    "count1, bins_1, _ = ax[1].hist(X_train.loc[(y_train==1).index,'diasbp_mean'], bins=25, range=(0,50))\n",
    "ax[2].plot((bins_0[:-1]+bins_0[1:])/2,count1/(count1 + count0))"
   ]
  },
  {
   "cell_type": "code",
   "execution_count": 66,
   "metadata": {},
   "outputs": [
    {
     "name": "stderr",
     "output_type": "stream",
     "text": [
      "/Users/anterra/opt/anaconda3/lib/python3.7/site-packages/ipykernel_launcher.py:5: RuntimeWarning: invalid value encountered in true_divide\n",
      "  \"\"\"\n"
     ]
    },
    {
     "data": {
      "text/plain": [
       "[<matplotlib.lines.Line2D at 0x1a1e8bdd50>]"
      ]
     },
     "execution_count": 66,
     "metadata": {},
     "output_type": "execute_result"
    },
    {
     "data": {
      "image/png": "[encoded data removed]",
      "text/plain": [
       "<Figure size 720x864 with 3 Axes>"
      ]
     },
     "metadata": {
      "needs_background": "light"
     },
     "output_type": "display_data"
    }
   ],
   "source": [
    "fig, ax = plt.subplots(3, 1, figsize=(10, 12))  # 3 Rows, 1 Col\n",
    "\n",
    "count0, bins_0, _ = ax[0].hist(X_train.loc[(y_train==0).index,'sodium_max'], bins=25, range=(0,50))\n",
    "count1, bins_1, _ = ax[1].hist(X_train.loc[(y_train==1).index,'sodium_max'], bins=25, range=(0,50))\n",
    "ax[2].plot((bins_0[:-1]+bins_0[1:])/2,count1/(count1 + count0))"
   ]
  },
  {
   "cell_type": "code",
   "execution_count": null,
   "metadata": {},
   "outputs": [],
   "source": []
  }
 ],
 "metadata": {
  "kernelspec": {
   "display_name": "Python 3",
   "language": "python",
   "name": "python3"
  },
  "language_info": {
   "codemirror_mode": {
    "name": "ipython",
    "version": 3
   },
   "file_extension": ".py",
   "mimetype": "text/x-python",
   "name": "python",
   "nbconvert_exporter": "python",
   "pygments_lexer": "ipython3",
   "version": "3.7.6"
  }
 },
 "nbformat": 4,
 "nbformat_minor": 4
}
