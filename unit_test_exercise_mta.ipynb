{
 "cells": [
  {
   "cell_type": "markdown",
   "metadata": {},
   "source": [
    "# Unit Testing Exercise"
   ]
  },
  {
   "cell_type": "code",
   "execution_count": 1,
   "metadata": {},
   "outputs": [],
   "source": [
    "import pandas as pd"
   ]
  },
  {
   "cell_type": "markdown",
   "metadata": {},
   "source": [
    "## Starter Code\n",
    "\n",
    "Here is some start code, to load in a particular week of MTA data."
   ]
  },
  {
   "cell_type": "code",
   "execution_count": 2,
   "metadata": {
    "tags": []
   },
   "outputs": [
    {
     "output_type": "stream",
     "name": "stdout",
     "text": "Retrieving MTA data for the week before Saturday, 2020-08-29\n"
    }
   ],
   "source": [
    "# Get the most recent Saturday (as per http://web.mta.info/)\n",
    "pulldate = pd.Timestamp.now()\n",
    "pulldate = pulldate - pd.Timedelta(days=pulldate.weekday() + 2)\n",
    "print(f\"Retrieving MTA data for the week before Saturday, {pulldate.date()}\")\n",
    "\n",
    "mta_url = f\"http://web.mta.info/developers/data/nyct/turnstile/turnstile_{pulldate.strftime('%y%m%d')}.txt\"\n",
    "df_mta = pd.read_csv(mta_url)"
   ]
  },
  {
   "cell_type": "markdown",
   "metadata": {},
   "source": [
    "## Exercise\n",
    "\n",
    "We're going to revisit the MTA data and get started with building some unit tests together. I'm providing the tests in the TestDataLoader class, and some starter code above. You need to write a function that \n",
    "\n",
    "* takes in a list of week IDs as input\n",
    "* loads the dataframe corresponding to those week IDs (check out the data folder) and combines them\n",
    "* returns the single dataframe\n",
    "\n",
    "You should be able to pass all of the tests. Note that some of them require some minimal cleaning already before returning anything!"
   ]
  },
  {
   "cell_type": "code",
   "execution_count": 3,
   "metadata": {},
   "outputs": [
    {
     "output_type": "execute_result",
     "data": {
      "text/plain": "          C/A  UNIT       SCP        STATION LINENAME DIVISION        DATE  \\\n0        A002  R051  02-00-00          59 ST  NQR456W      BMT  08/22/2020   \n1        A002  R051  02-00-00          59 ST  NQR456W      BMT  08/22/2020   \n2        A002  R051  02-00-00          59 ST  NQR456W      BMT  08/22/2020   \n3        A002  R051  02-00-00          59 ST  NQR456W      BMT  08/22/2020   \n4        A002  R051  02-00-00          59 ST  NQR456W      BMT  08/22/2020   \n...       ...   ...       ...            ...      ...      ...         ...   \n217827  TRAM2  R469  00-05-01  RIT-ROOSEVELT        R      RIT  08/28/2020   \n217828  TRAM2  R469  00-05-01  RIT-ROOSEVELT        R      RIT  08/28/2020   \n217829  TRAM2  R469  00-05-01  RIT-ROOSEVELT        R      RIT  08/28/2020   \n217830  TRAM2  R469  00-05-01  RIT-ROOSEVELT        R      RIT  08/28/2020   \n217831  TRAM2  R469  00-05-01  RIT-ROOSEVELT        R      RIT  08/28/2020   \n\n            TIME     DESC  ENTRIES  \\\n0       00:00:00  REGULAR  7447810   \n1       04:00:00  REGULAR  7447812   \n2       08:00:00  REGULAR  7447824   \n3       12:00:00  REGULAR  7447852   \n4       16:00:00  REGULAR  7447937   \n...          ...      ...      ...   \n217827  05:00:00  REGULAR     5554   \n217828  09:00:00  REGULAR     5554   \n217829  13:00:00  REGULAR     5554   \n217830  17:00:00  REGULAR     5554   \n217831  21:00:00  REGULAR     5554   \n\n        EXITS                                                                 \n0                                                 2532191                     \n1                                                 2532197                     \n2                                                 2532208                     \n3                                                 2532248                     \n4                                                 2532276                     \n...                                                   ...                     \n217827                                                540                     \n217828                                                540                     \n217829                                                540                     \n217830                                                540                     \n217831                                                540                     \n\n[217832 rows x 11 columns]",
      "text/html": "<div>\n<style scoped>\n    .dataframe tbody tr th:only-of-type {\n        vertical-align: middle;\n    }\n\n    .dataframe tbody tr th {\n        vertical-align: top;\n    }\n\n    .dataframe thead th {\n        text-align: right;\n    }\n</style>\n<table border=\"1\" class=\"dataframe\">\n  <thead>\n    <tr style=\"text-align: right;\">\n      <th></th>\n      <th>C/A</th>\n      <th>UNIT</th>\n      <th>SCP</th>\n      <th>STATION</th>\n      <th>LINENAME</th>\n      <th>DIVISION</th>\n      <th>DATE</th>\n      <th>TIME</th>\n      <th>DESC</th>\n      <th>ENTRIES</th>\n      <th>EXITS</th>\n    </tr>\n  </thead>\n  <tbody>\n    <tr>\n      <th>0</th>\n      <td>A002</td>\n      <td>R051</td>\n      <td>02-00-00</td>\n      <td>59 ST</td>\n      <td>NQR456W</td>\n      <td>BMT</td>\n      <td>08/22/2020</td>\n      <td>00:00:00</td>\n      <td>REGULAR</td>\n      <td>7447810</td>\n      <td>2532191</td>\n    </tr>\n    <tr>\n      <th>1</th>\n      <td>A002</td>\n      <td>R051</td>\n      <td>02-00-00</td>\n      <td>59 ST</td>\n      <td>NQR456W</td>\n      <td>BMT</td>\n      <td>08/22/2020</td>\n      <td>04:00:00</td>\n      <td>REGULAR</td>\n      <td>7447812</td>\n      <td>2532197</td>\n    </tr>\n    <tr>\n      <th>2</th>\n      <td>A002</td>\n      <td>R051</td>\n      <td>02-00-00</td>\n      <td>59 ST</td>\n      <td>NQR456W</td>\n      <td>BMT</td>\n      <td>08/22/2020</td>\n      <td>08:00:00</td>\n      <td>REGULAR</td>\n      <td>7447824</td>\n      <td>2532208</td>\n    </tr>\n    <tr>\n      <th>3</th>\n      <td>A002</td>\n      <td>R051</td>\n      <td>02-00-00</td>\n      <td>59 ST</td>\n      <td>NQR456W</td>\n      <td>BMT</td>\n      <td>08/22/2020</td>\n      <td>12:00:00</td>\n      <td>REGULAR</td>\n      <td>7447852</td>\n      <td>2532248</td>\n    </tr>\n    <tr>\n      <th>4</th>\n      <td>A002</td>\n      <td>R051</td>\n      <td>02-00-00</td>\n      <td>59 ST</td>\n      <td>NQR456W</td>\n      <td>BMT</td>\n      <td>08/22/2020</td>\n      <td>16:00:00</td>\n      <td>REGULAR</td>\n      <td>7447937</td>\n      <td>2532276</td>\n    </tr>\n    <tr>\n      <th>...</th>\n      <td>...</td>\n      <td>...</td>\n      <td>...</td>\n      <td>...</td>\n      <td>...</td>\n      <td>...</td>\n      <td>...</td>\n      <td>...</td>\n      <td>...</td>\n      <td>...</td>\n      <td>...</td>\n    </tr>\n    <tr>\n      <th>217827</th>\n      <td>TRAM2</td>\n      <td>R469</td>\n      <td>00-05-01</td>\n      <td>RIT-ROOSEVELT</td>\n      <td>R</td>\n      <td>RIT</td>\n      <td>08/28/2020</td>\n      <td>05:00:00</td>\n      <td>REGULAR</td>\n      <td>5554</td>\n      <td>540</td>\n    </tr>\n    <tr>\n      <th>217828</th>\n      <td>TRAM2</td>\n      <td>R469</td>\n      <td>00-05-01</td>\n      <td>RIT-ROOSEVELT</td>\n      <td>R</td>\n      <td>RIT</td>\n      <td>08/28/2020</td>\n      <td>09:00:00</td>\n      <td>REGULAR</td>\n      <td>5554</td>\n      <td>540</td>\n    </tr>\n    <tr>\n      <th>217829</th>\n      <td>TRAM2</td>\n      <td>R469</td>\n      <td>00-05-01</td>\n      <td>RIT-ROOSEVELT</td>\n      <td>R</td>\n      <td>RIT</td>\n      <td>08/28/2020</td>\n      <td>13:00:00</td>\n      <td>REGULAR</td>\n      <td>5554</td>\n      <td>540</td>\n    </tr>\n    <tr>\n      <th>217830</th>\n      <td>TRAM2</td>\n      <td>R469</td>\n      <td>00-05-01</td>\n      <td>RIT-ROOSEVELT</td>\n      <td>R</td>\n      <td>RIT</td>\n      <td>08/28/2020</td>\n      <td>17:00:00</td>\n      <td>REGULAR</td>\n      <td>5554</td>\n      <td>540</td>\n    </tr>\n    <tr>\n      <th>217831</th>\n      <td>TRAM2</td>\n      <td>R469</td>\n      <td>00-05-01</td>\n      <td>RIT-ROOSEVELT</td>\n      <td>R</td>\n      <td>RIT</td>\n      <td>08/28/2020</td>\n      <td>21:00:00</td>\n      <td>REGULAR</td>\n      <td>5554</td>\n      <td>540</td>\n    </tr>\n  </tbody>\n</table>\n<p>217832 rows × 11 columns</p>\n</div>"
     },
     "metadata": {},
     "execution_count": 3
    }
   ],
   "source": [
    "df_mta"
   ]
  },
  {
   "cell_type": "code",
   "execution_count": 6,
   "metadata": {},
   "outputs": [],
   "source": [
    "def load_data_into_dataframe(week_ids):\n",
    "    # Get the most recent Saturday (as per http://web.mta.info/)\n",
    "    data_list = []\n",
    "    for week_id in week_ids:\n",
    "        # pulldate = pd.Timestamp.now()\n",
    "        # pulldate = pulldate - pd.Timedelta(days=pulldate.weekday() + 2)\n",
    "        # print(f\"Retrieving MTA data for the week before Saturday, {pulldate.date()}\")\n",
    "\n",
    "        mta_url = f\"http://web.mta.info/developers/data/nyct/turnstile/turnstile_{week_id}.txt\"\n",
    "        df_mta = pd.read_csv(mta_url)\n",
    "        data_list.append(df_mta)\n",
    "    data = pd.concat(data_list)\n",
    "    data.rename(columns = {'EXITS                                                               ':'EXITS'}, inplace=True)\n",
    "    return data"
   ]
  },
  {
   "cell_type": "code",
   "execution_count": 7,
   "metadata": {},
   "outputs": [],
   "source": [
    "data = load_data_into_dataframe([200829, 200822])"
   ]
  },
  {
   "cell_type": "code",
   "execution_count": 8,
   "metadata": {},
   "outputs": [
    {
     "output_type": "execute_result",
     "data": {
      "text/plain": "Index(['C/A', 'UNIT', 'SCP', 'STATION', 'LINENAME', 'DIVISION', 'DATE', 'TIME',\n       'DESC', 'ENTRIES', 'EXITS'],\n      dtype='object')"
     },
     "metadata": {},
     "execution_count": 8
    }
   ],
   "source": [
    "data.columns"
   ]
  },
  {
   "cell_type": "code",
   "execution_count": 9,
   "metadata": {},
   "outputs": [],
   "source": [
    "import unittest\n",
    "\n",
    "class TestDataLoader(unittest.TestCase):\n",
    "    \n",
    "    def test_fails_without_file_list(self):\n",
    "        with self.assertRaises(TypeError):\n",
    "            load_data_into_dataframe()\n",
    "        with self.assertRaises(TypeError):\n",
    "            load_data_into_dataframe(200829)\n",
    "    \n",
    "    def test_output_type(self):\n",
    "        self.assertIs(type(load_data_into_dataframe([200829])), type(pd.DataFrame()))\n",
    "        \n",
    "    def test_column_names(self):\n",
    "        df = load_data_into_dataframe([200829])\n",
    "        bool_cols = (df.columns == ['C/A', 'UNIT', 'SCP', 'STATION', 'LINENAME', 'DIVISION', 'DATE', 'TIME',\n",
    "       'DESC', 'ENTRIES','EXITS'])\n",
    "        self.assertTrue(bool_cols.all())\n",
    "        \n",
    "    def test_multiple_files_of_data(self):\n",
    "        df = load_data_into_dataframe([200829,200822])\n",
    "        self.assertIs(type(df), type(pd.DataFrame()))"
   ]
  },
  {
   "cell_type": "code",
   "execution_count": 10,
   "metadata": {
    "tags": []
   },
   "outputs": [
    {
     "output_type": "stream",
     "name": "stderr",
     "text": "....\n----------------------------------------------------------------------\nRan 4 tests in 22.705s\n\nOK\n"
    },
    {
     "output_type": "execute_result",
     "data": {
      "text/plain": "<unittest.main.TestProgram at 0x7fe467323e90>"
     },
     "metadata": {},
     "execution_count": 10
    }
   ],
   "source": [
    "unittest.main(TestDataLoader(), argv=['first-arg-is-ignored'], exit=False)\n",
    "\n",
    "# Note that this time I added the name of the testing class as an arg so it only runs that\n",
    "# tester instead of all the possible testers currently defined!"
   ]
  },
  {
   "cell_type": "markdown",
   "metadata": {},
   "source": [
    "## Exercise 2: Writing the function and the Tests\n",
    "\n",
    "Now your goal is to write both the functions and the tests. The goal here is that we're going to write a function to clean and prepare our data. The function should:\n",
    "\n",
    "* Take in a dataframe that already contains a Date and Time column\n",
    "* Create a DATE_TIME column using the DATE and TIME columns\n",
    "* Make sure that each grouping of [\"C/A\", \"UNIT\", \"SCP\", \"STATION\", \"DATE_TIME\"] is unique\n",
    "\n",
    "For tests, you should write tests to check the output types of columns, check that the uniqueness values are being handled properly, as well as any other tests you can think of. \n",
    "\n",
    "In ~15 minutes, we'll have someone come up and present both their code and their tests and other folks can chime in about the types of tests they've written as well."
   ]
  },
  {
   "cell_type": "code",
   "execution_count": 11,
   "metadata": {},
   "outputs": [],
   "source": [
    "df = load_data_into_dataframe([160917])"
   ]
  },
  {
   "cell_type": "code",
   "execution_count": null,
   "metadata": {},
   "outputs": [],
   "source": []
  },
  {
   "cell_type": "code",
   "execution_count": null,
   "metadata": {},
   "outputs": [],
   "source": [
    "# YOU NEED TO CODE THIS!\n",
    "class TestDataCleaner(unittest.TestCase):\n",
    "    \n",
    "    pass\n",
    "\n",
    "unittest.main(TestDataCleaner(), argv=['first-arg-is-ignored'], exit=False)"
   ]
  },
  {
   "cell_type": "code",
   "execution_count": null,
   "metadata": {},
   "outputs": [],
   "source": []
  },
  {
   "cell_type": "code",
   "execution_count": null,
   "metadata": {},
   "outputs": [],
   "source": []
  }
 ],
 "metadata": {
  "kernelspec": {
   "display_name": "Python 3",
   "language": "python",
   "name": "python3"
  },
  "language_info": {
   "codemirror_mode": {
    "name": "ipython",
    "version": 3
   },
   "file_extension": ".py",
   "mimetype": "text/x-python",
   "name": "python",
   "nbconvert_exporter": "python",
   "pygments_lexer": "ipython3",
   "version": "3.7.7-final"
  }
 },
 "nbformat": 4,
 "nbformat_minor": 4
}