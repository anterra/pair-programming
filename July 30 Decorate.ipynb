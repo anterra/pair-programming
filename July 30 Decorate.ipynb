{
 "cells": [
  {
   "cell_type": "markdown",
   "metadata": {},
   "source": [
    "#### Pair Problem\n",
    "\n",
    "This function is boring:\n",
    "\n",
    "```python\n",
    "def square(x):\n",
    "    return x * x\n",
    "\n",
    "square(5)\n",
    "## 25\n",
    "```\n",
    "\n",
    "Write a [_decorator_](https://www.thecodeship.com/patterns/guide-to-python-function-decorators/) called `talky` so that when you run this:\n",
    "\n",
    "```python\n",
    "@talky\n",
    "def square(x):\n",
    "    return x * x\n",
    "\n",
    "answer = square(5)\n",
    "```\n",
    "\n",
    "You get the following output:\n",
    "\n",
    "```\n",
    "Oh hi!\n",
    "The result sure is 25!\n",
    "```\n",
    "\n",
    "---\n",
    "\n",
    "Extension: Write a decorator `talky_with`, so that when you run this:\n",
    "\n",
    "```python\n",
    "@talky_with(\"Aaron\")\n",
    "def square(x):\n",
    "    return x * x\n",
    "\n",
    "answer = square(5)\n",
    "```\n",
    "\n",
    "You get the following output:\n",
    "\n",
    "```\n",
    "Oh hi! I'm Aaron.\n",
    "The result sure is 25!\n",
    "```"
   ]
  },
  {
   "cell_type": "code",
   "execution_count": 2,
   "metadata": {},
   "outputs": [],
   "source": [
    "def square(x):\n",
    "    return x * x"
   ]
  },
  {
   "cell_type": "code",
   "execution_count": 3,
   "metadata": {},
   "outputs": [
    {
     "data": {
      "text/plain": [
       "25"
      ]
     },
     "execution_count": 3,
     "metadata": {},
     "output_type": "execute_result"
    }
   ],
   "source": [
    "square(5)"
   ]
  },
  {
   "cell_type": "code",
   "execution_count": 12,
   "metadata": {},
   "outputs": [],
   "source": [
    "def talky(func):\n",
    "    def function_wrapper(x):\n",
    "        print(\"Oh hi!\")\n",
    "        print(f'The result sure is {func(x)}!')\n",
    "    return function_wrapper"
   ]
  },
  {
   "cell_type": "code",
   "execution_count": 13,
   "metadata": {},
   "outputs": [
    {
     "name": "stdout",
     "output_type": "stream",
     "text": [
      "Oh hi!\n",
      "The result sure is 25!\n"
     ]
    }
   ],
   "source": [
    "@talky\n",
    "def square(x):\n",
    "    return x * x\n",
    "\n",
    "answer = square(5)\n",
    "answer"
   ]
  },
  {
   "cell_type": "code",
   "execution_count": 24,
   "metadata": {},
   "outputs": [],
   "source": [
    "def talky_with(name):\n",
    "    def talky_with_decorator(func):\n",
    "        def function_wrapper(x):\n",
    "            print(f'Oh hi! I\\'m {name}.')\n",
    "            print(f'The result sure is {func(x)}!')\n",
    "        return function_wrapper\n",
    "    return talky_with_decorator"
   ]
  },
  {
   "cell_type": "code",
   "execution_count": 25,
   "metadata": {},
   "outputs": [
    {
     "name": "stdout",
     "output_type": "stream",
     "text": [
      "Oh hi! I'm Aaron.\n",
      "The result sure is 25!\n"
     ]
    }
   ],
   "source": [
    "@talky_with(\"Aaron\")\n",
    "def square(x):\n",
    "    return x * x\n",
    "answer = square(5)\n",
    "answer"
   ]
  },
  {
   "cell_type": "code",
   "execution_count": 22,
   "metadata": {},
   "outputs": [],
   "source": [
    "def talky_with_2(name, color):\n",
    "    def talky_with_decorator(func):\n",
    "        def function_wrapper(x):\n",
    "            print(f'Oh hi! I\\'m {name}. My shirt is {color}!')\n",
    "            print(f'The result sure is {func(x)}!')\n",
    "        return function_wrapper\n",
    "    return talky_with_decorator"
   ]
  },
  {
   "cell_type": "code",
   "execution_count": 23,
   "metadata": {},
   "outputs": [
    {
     "name": "stdout",
     "output_type": "stream",
     "text": [
      "Oh hi! I'm Aaron. My shirt is red!\n",
      "The result sure is 25!\n"
     ]
    }
   ],
   "source": [
    "@talky_with_2(\"Aaron\", \"red\")\n",
    "def square(x):\n",
    "    return x * x\n",
    "answer = square(5)\n",
    "answer"
   ]
  }
 ],
 "metadata": {
  "kernelspec": {
   "display_name": "Python 3",
   "language": "python",
   "name": "python3"
  },
  "language_info": {
   "codemirror_mode": {
    "name": "ipython",
    "version": 3
   },
   "file_extension": ".py",
   "mimetype": "text/x-python",
   "name": "python",
   "nbconvert_exporter": "python",
   "pygments_lexer": "ipython3",
   "version": "3.7.7"
  }
 },
 "nbformat": 4,
 "nbformat_minor": 4
}
